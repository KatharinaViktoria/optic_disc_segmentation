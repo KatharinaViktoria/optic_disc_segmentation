{
 "cells": [
  {
   "cell_type": "code",
   "execution_count": 1,
   "metadata": {},
   "outputs": [],
   "source": [
    "import matplotlib.pyplot as plt\n",
    "import numpy as np\n",
    "import os\n",
    "import pickle\n",
    "import sys\n",
    "\n",
    "sys.path.append(\"/kvh4/optic_disc/scripts\") \n",
    "from training import train_dice, train_bce, train_dice_MC, run_inference, run_MC_inference, \\\n",
    "                    run_ensemble_inference\n",
    "from evaluation_functions import compute_dice_dataset, \\\n",
    "                                    compute_max_softmax_uncertainty_dataset, \\\n",
    "                                    load_pred, \\\n",
    "                                    compute_mean_uncertainty_dataset,  \\\n",
    "                                    compute_mean_pw_dice_dataset"
   ]
  },
  {
   "cell_type": "markdown",
   "metadata": {},
   "source": [
    "## Generate Dataset Splits\n",
    "Don't run again"
   ]
  },
  {
   "cell_type": "raw",
   "metadata": {},
   "source": [
    "# define all parameters:\n",
    "nr_train_samples = 600\n",
    "nr_val_samples = 100"
   ]
  },
  {
   "cell_type": "raw",
   "metadata": {},
   "source": [
    "image_dir = \"/kvh4/optic_disc/data/REFUGE-2/REFUGE2-Training/resized_data/non_glaucoma/images\"\n",
    "images = os.listdir(image_dir)\n",
    "images.remove(\".ipynb_checkpoints\")\n",
    "image_paths = [os.path.join(image_dir, i) for i in images]\n",
    "\n",
    "\n",
    "gt_dir = \"/kvh4/optic_disc/data/REFUGE-2/REFUGE2-Training/resized_data/non_glaucoma/ground_truth\"\n",
    "gt_paths = [os.path.join(gt_dir, i[:-4]+\".bmp\") for i in images]"
   ]
  },
  {
   "cell_type": "raw",
   "metadata": {},
   "source": [
    "# Don't run again!!!!\n",
    "training_images = image_paths[:nr_train_samples]\n",
    "training_gt = gt_paths[:nr_train_samples]\n",
    "\n",
    "validation_images = image_paths[nr_train_samples:(nr_train_samples+nr_val_samples)]\n",
    "validation_gt = gt_paths[nr_train_samples:(nr_train_samples+nr_val_samples)]\n",
    "\n",
    "test_images = image_paths[(nr_train_samples+nr_val_samples):]\n",
    "test_gt = gt_paths[(nr_train_samples+nr_val_samples):]"
   ]
  },
  {
   "cell_type": "raw",
   "metadata": {},
   "source": [
    "data_dict = {\"training_images\": training_images,\n",
    "            \"training_gt\": training_gt,\n",
    "            \"validation_images\": validation_images,\n",
    "            \"validation_gt\": validation_gt,\n",
    "            \"test_images\": test_images,\n",
    "            \"test_gt\":test_gt}"
   ]
  },
  {
   "cell_type": "raw",
   "metadata": {},
   "source": [
    "filepath = \"/kvh4/optic_disc/data/REFUGE-2/REFUGE2-Training\"\n",
    "with open(os.path.join(filepath, \"dataset_splits_nonglaucoma_600_100.pkl\"), 'wb') as file:\n",
    "      \n",
    "    # A new file will be created\n",
    "    pickle.dump(data_dict, file)"
   ]
  },
  {
   "cell_type": "code",
   "execution_count": 2,
   "metadata": {},
   "outputs": [],
   "source": [
    "filepath = \"/kvh4/optic_disc/data/REFUGE-2/REFUGE2-Training\"\n",
    "with open(os.path.join(filepath, \"dataset_splits_nonglaucoma_600_100.pkl\"), 'rb') as file:\n",
    "    data_dict = pickle.load(file)"
   ]
  },
  {
   "cell_type": "code",
   "execution_count": 3,
   "metadata": {},
   "outputs": [],
   "source": [
    "glaucoma_image_dir = \"/kvh4/optic_disc/data/REFUGE-2/REFUGE2-Training/resized_data/glaucoma/images\"\n",
    "glaucoma_images = [os.path.join(glaucoma_image_dir, g) for g in os.listdir(glaucoma_image_dir)]\n",
    "glaucoma_gt_dir = \"/kvh4/optic_disc/data/REFUGE-2/REFUGE2-Training/resized_data/glaucoma/ground_truth\"\n",
    "glaucoma_gt = [os.path.join(glaucoma_gt_dir, g) for g in os.listdir(glaucoma_gt_dir)]"
   ]
  },
  {
   "cell_type": "code",
   "execution_count": 4,
   "metadata": {},
   "outputs": [],
   "source": [
    "gt_dir_ng =\"/kvh4/optic_disc/data/REFUGE-2/REFUGE2-Training/resized_data/non_glaucoma/ground_truth\"\n",
    "gt_dir_g = \"/kvh4/optic_disc/data/REFUGE-2/REFUGE2-Training/resized_data/glaucoma/ground_truth\""
   ]
  },
  {
   "cell_type": "code",
   "execution_count": 5,
   "metadata": {},
   "outputs": [],
   "source": [
    "def eval_mean_uncertainty(gt_dir_ng, gt_dir_g, pred_dir_training, pred_dir_test, pred_dir_g, sampling=False):\n",
    "    evaluation_data_dir = dict() # contains the dice scores and everything from the three datasets \n",
    "    \n",
    "    train_names = [n[-9:-4] for n in os.listdir(pred_dir_training)]\n",
    "    test_names = [n[-9:-4] for n in os.listdir(pred_dir_test)]\n",
    "    g_names = [n[-9:-4] for n in os.listdir(pred_dir_g)]\n",
    "    \n",
    "    # training data \n",
    "    res_train = compute_dice_dataset(train_names, gt_dir_ng, pred_dir_training, mode=\"cup\", sampling=sampling)\n",
    "    train_dice = np.mean(list(res_train.values()))\n",
    "    unc_train = compute_mean_uncertainty_dataset(train_names, pred_dir_training, sampling=sampling)\n",
    "    dice_train = list()\n",
    "    ms_unc_train = list()\n",
    "    for k in res_train.keys():\n",
    "        dice_train.append(res_train[k])\n",
    "        ms_unc_train.append(unc_train[k])\n",
    "    evaluation_data_dir[\"train_dice\"] = dice_train\n",
    "    evaluation_data_dir[\"train_ms\"] = ms_unc_train\n",
    "    \n",
    "    # test data \n",
    "    res_test = compute_dice_dataset(test_names, gt_dir_ng, pred_dir_test, mode=\"cup\", sampling=sampling)\n",
    "    test_dice = np.mean(list(res_test.values()))\n",
    "    unc_test = compute_mean_uncertainty_dataset(test_names, pred_dir_test, sampling=sampling)\n",
    "    dice_test = list()\n",
    "    ms_unc_test = list()\n",
    "    for k in res_test.keys():\n",
    "        dice_test.append(res_test[k])\n",
    "        ms_unc_test.append(unc_test[k])\n",
    "    evaluation_data_dir[\"test_dice\"] = dice_test\n",
    "    evaluation_data_dir[\"test_ms\"] = ms_unc_test\n",
    "    \n",
    "    # glaucoma data \n",
    "    res_g = compute_dice_dataset(g_names, gt_dir_g, pred_dir_g, mode=\"cup\", sampling=sampling)\n",
    "    g_dice = np.mean(list(res_g.values()))\n",
    "    unc_g = compute_mean_uncertainty_dataset(g_names, pred_dir_g, sampling=sampling)\n",
    "    dice_g = list()\n",
    "    ms_unc_g = list()\n",
    "    for k in res_g.keys():\n",
    "        dice_g.append(res_g[k])\n",
    "        ms_unc_g.append(unc_g[k])\n",
    "    evaluation_data_dir[\"glaucoma_dice\"] = dice_g\n",
    "    evaluation_data_dir[\"glaucoma_ms\"] = ms_unc_g\n",
    "    \n",
    "    plt.scatter(dice_train, ms_unc_train, label=\"training, \"+str(round(train_dice, 3)))\n",
    "    plt.scatter(dice_test, ms_unc_test, label=\"test non-glaucoma, \"+str(round(test_dice, 3)))\n",
    "    plt.scatter(dice_g, ms_unc_g, label=\"test glaucoma, \"+str(round(g_dice, 3)))\n",
    "    \n",
    "    plt.ylabel(\"mean uncertainty\")\n",
    "    plt.xlabel(\"Dice score\")\n",
    "    plt.legend()\n",
    "    \n",
    "    return evaluation_data_dir"
   ]
  },
  {
   "cell_type": "code",
   "execution_count": 6,
   "metadata": {},
   "outputs": [],
   "source": [
    "def eval_mean_pw_dice(gt_dir_ng, gt_dir_g, pred_dir_training, pred_dir_test, pred_dir_g):\n",
    "    evaluation_data_dir = dict() # contains the dice scores and everything from the three datasets \n",
    "    \n",
    "    train_names = [n[-9:-4] for n in os.listdir(pred_dir_training)]\n",
    "    test_names = [n[-9:-4] for n in os.listdir(pred_dir_test)]\n",
    "    g_names = [n[-9:-4] for n in os.listdir(pred_dir_g)]\n",
    "    \n",
    "    # training data \n",
    "    res_train = compute_dice_dataset(train_names, gt_dir_ng, pred_dir_training, mode=\"cup\", sampling=True)\n",
    "    train_dice = np.mean(list(res_train.values()))\n",
    "    unc_train = compute_mean_pw_dice_dataset(train_names, pred_dir_training)\n",
    "    dice_train = list()\n",
    "    ms_unc_train = list()\n",
    "    for k in res_train.keys():\n",
    "        dice_train.append(res_train[k])\n",
    "        ms_unc_train.append(unc_train[k])\n",
    "    evaluation_data_dir[\"train_dice\"] = dice_train\n",
    "    evaluation_data_dir[\"train_ms\"] = ms_unc_train\n",
    "    \n",
    "    # test data \n",
    "    res_test = compute_dice_dataset(test_names, gt_dir_ng, pred_dir_test, mode=\"cup\", sampling=True)\n",
    "    test_dice = np.mean(list(res_test.values()))\n",
    "    unc_test = compute_mean_pw_dice_dataset(test_names, pred_dir_test)\n",
    "    dice_test = list()\n",
    "    ms_unc_test = list()\n",
    "    for k in res_test.keys():\n",
    "        dice_test.append(res_test[k])\n",
    "        ms_unc_test.append(unc_test[k])\n",
    "    evaluation_data_dir[\"test_dice\"] = dice_test\n",
    "    evaluation_data_dir[\"test_ms\"] = ms_unc_test\n",
    "    \n",
    "    # glaucoma data \n",
    "    res_g = compute_dice_dataset(g_names, gt_dir_g, pred_dir_g, mode=\"cup\", sampling=True)\n",
    "    g_dice = np.mean(list(res_g.values()))\n",
    "    unc_g = compute_mean_pw_dice_dataset(g_names, pred_dir_g)\n",
    "    dice_g = list()\n",
    "    ms_unc_g = list()\n",
    "    for k in res_g.keys():\n",
    "        dice_g.append(res_g[k])\n",
    "        ms_unc_g.append(unc_g[k])\n",
    "    evaluation_data_dir[\"glaucoma_dice\"] = dice_g\n",
    "    evaluation_data_dir[\"glaucoma_ms\"] = ms_unc_g\n",
    "    \n",
    "    plt.scatter(dice_train, ms_unc_train, label=\"training, \"+str(round(train_dice, 3)))\n",
    "    plt.scatter(dice_test, ms_unc_test, label=\"test non-glaucoma, \"+str(round(test_dice, 3)))\n",
    "    plt.scatter(dice_g, ms_unc_g, label=\"test glaucoma, \"+str(round(g_dice, 3)))\n",
    "    \n",
    "    plt.ylabel(\"mean pw Dice\")\n",
    "    plt.xlabel(\"Dice score\")\n",
    "    plt.legend()\n",
    "    \n",
    "    return evaluation_data_dir"
   ]
  },
  {
   "cell_type": "markdown",
   "metadata": {},
   "source": [
    "# MC dice model"
   ]
  },
  {
   "cell_type": "code",
   "execution_count": 92,
   "metadata": {},
   "outputs": [],
   "source": [
    "training_params_MC_dice = {\"seed\": 0, \n",
    "                   \"training_images\": data_dict[\"training_images\"],\n",
    "                  \"training_gt\": data_dict[\"training_gt\"], \n",
    "                  \"validation_images\": data_dict[\"validation_images\"],\n",
    "                  \"validation_gt\": data_dict[\"validation_gt\"],\n",
    "                  \"epoch_num\": 200,\n",
    "                  \"model_dir\": \"/kvh4/optic_disc/models/04_MC_UNet_cup\",\n",
    "                  \"p_dropout\": 0.2}"
   ]
  },
  {
   "cell_type": "code",
   "execution_count": 93,
   "metadata": {},
   "outputs": [],
   "source": [
    "with open(os.path.join(training_params_MC_dice[\"model_dir\"], \"training_params.pkl\"), 'wb') as file:\n",
    "      \n",
    "    # A new file will be created\n",
    "    pickle.dump(training_params_MC_dice, file)"
   ]
  },
  {
   "cell_type": "code",
   "execution_count": 94,
   "metadata": {},
   "outputs": [
    {
     "ename": "NameError",
     "evalue": "name 'training_params' is not defined",
     "output_type": "error",
     "traceback": [
      "\u001b[0;31m---------------------------------------------------------------------------\u001b[0m",
      "\u001b[0;31mNameError\u001b[0m                                 Traceback (most recent call last)",
      "\u001b[0;32m<ipython-input-94-5049f50bf329>\u001b[0m in \u001b[0;36m<module>\u001b[0;34m\u001b[0m\n\u001b[0;32m----> 1\u001b[0;31m \u001b[0mtrain_dice_MC\u001b[0m\u001b[0;34m(\u001b[0m\u001b[0;34m**\u001b[0m\u001b[0mtraining_params\u001b[0m\u001b[0;34m)\u001b[0m\u001b[0;34m\u001b[0m\u001b[0;34m\u001b[0m\u001b[0m\n\u001b[0m",
      "\u001b[0;31mNameError\u001b[0m: name 'training_params' is not defined"
     ]
    }
   ],
   "source": [
    "train_dice_MC(**training_params)"
   ]
  },
  {
   "cell_type": "code",
   "execution_count": null,
   "metadata": {},
   "outputs": [],
   "source": [
    "train_loss = np.load(os.path.join(training_params_MC_dice[\"model_dir\"], \"epoch_loss.npy\"))\n",
    "val_loss = np.load(os.path.join(training_params_MC_dice[\"model_dir\"], \"val_loss.npy\"))\n",
    "val_metrics = np.load(os.path.join(training_params_MC_dice[\"model_dir\"], \"val_metrics.npy\"))"
   ]
  },
  {
   "cell_type": "code",
   "execution_count": null,
   "metadata": {},
   "outputs": [],
   "source": [
    "plt.plot(train_loss, label=\"training\")\n",
    "plt.plot(val_loss, label=\"validation\")\n",
    "plt.plot(val_metrics, label=\"validation Dice\")\n",
    "plt.legend()"
   ]
  },
  {
   "cell_type": "code",
   "execution_count": null,
   "metadata": {},
   "outputs": [],
   "source": [
    "MC_pred_params = {\"model_dir\": training_params_MC_dice[\"model_dir\"], \n",
    "                  \"model_epoch\": 136, \n",
    "                  \"test_images\":  data_dict[\"test_images\"],\n",
    "                  \"test_gt\": data_dict[\"test_gt\"], \n",
    "                  \"save_dir\": os.path.join(training_params_MC_dice[\"model_dir\"], \"test_preds_epoch_136\"), \n",
    "                  \"iterations\":30,\n",
    "                  \"dropout\": .2\n",
    "                 }"
   ]
  },
  {
   "cell_type": "code",
   "execution_count": null,
   "metadata": {
    "scrolled": true
   },
   "outputs": [],
   "source": [
    "run_MC_inference(**MC_pred_params)"
   ]
  },
  {
   "cell_type": "code",
   "execution_count": null,
   "metadata": {},
   "outputs": [],
   "source": [
    "pred = np.load(os.path.join(MC_pred_params[\"save_dir\"], \"V0382.npy\"))\n",
    "pred.shape"
   ]
  },
  {
   "cell_type": "code",
   "execution_count": null,
   "metadata": {},
   "outputs": [],
   "source": [
    "plt.subplots(1,5, figsize=(20,4))\n",
    "\n",
    "for i in range(5):\n",
    "    plt.subplot(1,5,i+1)\n",
    "    plt.imshow(pred[:,:,i].astype(int))"
   ]
  },
  {
   "cell_type": "code",
   "execution_count": null,
   "metadata": {},
   "outputs": [],
   "source": [
    "pred = load_pred(MC_pred_params[\"save_dir\"], \"V0382\")"
   ]
  },
  {
   "cell_type": "code",
   "execution_count": null,
   "metadata": {},
   "outputs": [],
   "source": [
    "plt.subplots(2,5, figsize=(20,8))\n",
    "\n",
    "for i in range(10):\n",
    "    plt.subplot(2,5,i+1)\n",
    "    plt.imshow(pred[:,:,i].astype(int))"
   ]
  },
  {
   "cell_type": "code",
   "execution_count": null,
   "metadata": {},
   "outputs": [],
   "source": [
    "mean_pred = np.mean(binarize_pred(pred), axis=2)"
   ]
  },
  {
   "cell_type": "code",
   "execution_count": null,
   "metadata": {},
   "outputs": [],
   "source": [
    "mean_pred.shape"
   ]
  },
  {
   "cell_type": "code",
   "execution_count": null,
   "metadata": {
    "scrolled": true
   },
   "outputs": [],
   "source": [
    "plt.imshow(binarize_pred(mean_pred))"
   ]
  },
  {
   "cell_type": "code",
   "execution_count": null,
   "metadata": {},
   "outputs": [],
   "source": [
    "plt.imshow(generate_voxelwise_uncertainty(pred))"
   ]
  },
  {
   "cell_type": "code",
   "execution_count": null,
   "metadata": {},
   "outputs": [],
   "source": [
    "test_names = [n[-9:-4] for n in data_dict[\"test_images\"]]\n",
    "ng_gt_dir = \"/kvh4/optic_disc/data/REFUGE-2/REFUGE2-Training/resized_data/non_glaucoma/ground_truth\"\n",
    "MC_dice = compute_dice_dataset(test_names, ng_gt_dir, MC_pred_params[\"save_dir\"], mode=\"cup\", sampling=True)\n",
    "MC_unc = compute_mean_uncertainty_dataset(test_names, MC_pred_params[\"save_dir\"], sampling=True)"
   ]
  },
  {
   "cell_type": "code",
   "execution_count": null,
   "metadata": {},
   "outputs": [],
   "source": [
    "np.mean(list(MC_dice.values()))"
   ]
  },
  {
   "cell_type": "code",
   "execution_count": null,
   "metadata": {},
   "outputs": [],
   "source": [
    "dice = list()\n",
    "ms_unc = list()\n",
    "for k in MC_dice.keys():\n",
    "    dice.append(MC_dice[k])\n",
    "    ms_unc.append(MC_unc[k])"
   ]
  },
  {
   "cell_type": "code",
   "execution_count": null,
   "metadata": {},
   "outputs": [],
   "source": [
    "plt.scatter(dice, ms_unc)"
   ]
  },
  {
   "cell_type": "markdown",
   "metadata": {},
   "source": [
    "## MC dropout \n",
    "#### p_dr = .1"
   ]
  },
  {
   "cell_type": "code",
   "execution_count": null,
   "metadata": {},
   "outputs": [],
   "source": [
    "training_params_MC_dice = {\"seed\": 0, \n",
    "                   \"training_images\": data_dict[\"training_images\"],\n",
    "                  \"training_gt\": data_dict[\"training_gt\"], \n",
    "                  \"validation_images\": data_dict[\"validation_images\"],\n",
    "                  \"validation_gt\": data_dict[\"validation_gt\"],\n",
    "                  \"epoch_num\": 200,\n",
    "                  \"model_dir\": \"/kvh4/optic_disc/models/09_MC_UNet_p10_cup\",\n",
    "                  \"p_dropout\": 0.1}"
   ]
  },
  {
   "cell_type": "code",
   "execution_count": null,
   "metadata": {},
   "outputs": [],
   "source": [
    "with open(os.path.join(training_params_MC_dice[\"model_dir\"], \"training_params.pkl\"), 'wb') as file:\n",
    "      \n",
    "    # A new file will be created\n",
    "    pickle.dump(training_params_MC_dice, file)"
   ]
  },
  {
   "cell_type": "code",
   "execution_count": null,
   "metadata": {
    "scrolled": true
   },
   "outputs": [],
   "source": [
    "train_dice_MC(**training_params_MC_dice)"
   ]
  },
  {
   "cell_type": "code",
   "execution_count": null,
   "metadata": {},
   "outputs": [],
   "source": [
    "train_loss = np.load(os.path.join(training_params_MC_dice[\"model_dir\"], \"epoch_loss.npy\"))\n",
    "val_loss = np.load(os.path.join(training_params_MC_dice[\"model_dir\"], \"val_loss.npy\"))\n",
    "val_metrics = np.load(os.path.join(training_params_MC_dice[\"model_dir\"], \"val_metrics.npy\"))"
   ]
  },
  {
   "cell_type": "code",
   "execution_count": null,
   "metadata": {},
   "outputs": [],
   "source": [
    "plt.plot(train_loss, label=\"training\")\n",
    "plt.plot(val_loss, label=\"validation\")\n",
    "plt.plot(val_metrics, label=\"validation Dice\")\n",
    "plt.xlabel(\"epoch\")\n",
    "plt.legend()"
   ]
  },
  {
   "cell_type": "markdown",
   "metadata": {},
   "source": [
    "#### evaluate at epoch 150 with 30 samples"
   ]
  },
  {
   "cell_type": "code",
   "execution_count": null,
   "metadata": {},
   "outputs": [],
   "source": [
    "MC_pred_params_test = {\"model_dir\": training_params_MC_dice[\"model_dir\"], \n",
    "                  \"model_epoch\": 150, \n",
    "                  \"test_images\":  data_dict[\"test_images\"],\n",
    "                  \"test_gt\": data_dict[\"test_gt\"], \n",
    "                  \"save_dir\": os.path.join(training_params_MC_dice[\"model_dir\"], \"test_preds_epoch_150\"), \n",
    "                  \"iterations\":30,\n",
    "                  \"dropout\": .1\n",
    "                 }\n",
    "\n",
    "run_MC_inference(**MC_pred_params_test)"
   ]
  },
  {
   "cell_type": "code",
   "execution_count": null,
   "metadata": {},
   "outputs": [],
   "source": [
    "test_names = [n[-9:-4] for n in data_dict[\"test_images\"]]\n",
    "ng_gt_dir = \"/kvh4/optic_disc/data/REFUGE-2/REFUGE2-Training/resized_data/non_glaucoma/ground_truth\"\n",
    "MC_dice = compute_dice_dataset(test_names, ng_gt_dir, MC_pred_params[\"save_dir\"], mode=\"cup\", sampling=True)\n",
    "MC_unc = compute_mean_uncertainty_dataset(test_names, MC_pred_params[\"save_dir\"], sampling=True)"
   ]
  },
  {
   "cell_type": "code",
   "execution_count": null,
   "metadata": {
    "scrolled": true
   },
   "outputs": [],
   "source": [
    "np.mean(list(MC_dice.values()))"
   ]
  },
  {
   "cell_type": "code",
   "execution_count": null,
   "metadata": {},
   "outputs": [],
   "source": [
    "dice = list()\n",
    "ms_unc = list()\n",
    "for k in MC_dice.keys():\n",
    "    dice.append(MC_dice[k])\n",
    "    ms_unc.append(MC_unc[k])"
   ]
  },
  {
   "cell_type": "code",
   "execution_count": null,
   "metadata": {},
   "outputs": [],
   "source": [
    "plt.scatter(dice, ms_unc)\n",
    "plt.xlabel(\"Dice score\")\n",
    "plt.ylabel(\"mean uncertainty\")\n",
    "plt.title(\"MC dropout, p=.1, 30 samples, test set\")"
   ]
  },
  {
   "cell_type": "code",
   "execution_count": null,
   "metadata": {},
   "outputs": [],
   "source": []
  },
  {
   "cell_type": "code",
   "execution_count": null,
   "metadata": {},
   "outputs": [],
   "source": []
  },
  {
   "cell_type": "code",
   "execution_count": null,
   "metadata": {},
   "outputs": [],
   "source": []
  },
  {
   "cell_type": "markdown",
   "metadata": {},
   "source": [
    "## no dropout \n",
    "### seed = 0 "
   ]
  },
  {
   "cell_type": "code",
   "execution_count": 96,
   "metadata": {},
   "outputs": [],
   "source": [
    "training_params_0 = {\"seed\": 0, \n",
    "                   \"training_images\": data_dict[\"training_images\"],\n",
    "                  \"training_gt\": data_dict[\"training_gt\"], \n",
    "                  \"validation_images\": data_dict[\"validation_images\"],\n",
    "                  \"validation_gt\": data_dict[\"validation_gt\"],\n",
    "                  \"epoch_num\": 100,\n",
    "                  \"model_dir\": \"/kvh4/optic_disc/models/05_UNet_cup_s0\",\n",
    "                  \"p_dropout\": 0.0}"
   ]
  },
  {
   "cell_type": "raw",
   "metadata": {},
   "source": [
    "filepath = training_params_0[\"model_dir\"]\n",
    "if not os.path.exists(filepath):\n",
    "    os.makedirs(filepath)\n",
    "    \n",
    "with open(os.path.join(filepath, \"training_params.pkl\"), 'wb') as file:\n",
    "      \n",
    "    # A new file will be created\n",
    "    pickle.dump(training_params_0, file)"
   ]
  },
  {
   "cell_type": "code",
   "execution_count": null,
   "metadata": {},
   "outputs": [],
   "source": [
    "train_dice(**training_params_0)"
   ]
  },
  {
   "cell_type": "code",
   "execution_count": 98,
   "metadata": {},
   "outputs": [],
   "source": [
    "# filepath = training_params_0[\"model_dir\"]\n",
    "filepath = \"/kvh4/optic_disc/models/dice_ensemble/00_UNet_cup\"# new filepatch \n",
    "train_loss = np.load(os.path.join(filepath, \"epoch_loss.npy\"))\n",
    "val_loss = np.load(os.path.join(filepath, \"val_loss.npy\"))\n",
    "val_metrics = np.load(os.path.join(filepath, \"val_metrics.npy\"))"
   ]
  },
  {
   "cell_type": "code",
   "execution_count": 99,
   "metadata": {},
   "outputs": [
    {
     "data": {
      "text/plain": [
       "<matplotlib.legend.Legend at 0x7f28d8056a58>"
      ]
     },
     "execution_count": 99,
     "metadata": {},
     "output_type": "execute_result"
    },
    {
     "data": {
      "image/png": "[encoded data removed]",
      "text/plain": [
       "<Figure size 432x288 with 1 Axes>"
      ]
     },
     "metadata": {
      "needs_background": "light"
     },
     "output_type": "display_data"
    }
   ],
   "source": [
    "plt.plot(train_loss, label=\"training\")\n",
    "plt.plot(val_loss, label=\"validation\")\n",
    "plt.plot(val_metrics, label=\"validation Dice\")\n",
    "plt.legend()"
   ]
  },
  {
   "cell_type": "markdown",
   "metadata": {},
   "source": [
    "#### choose epoch 80 for evaluation\n",
    "##### test data\n",
    "based on val loss flattening around this time"
   ]
  },
  {
   "cell_type": "code",
   "execution_count": 100,
   "metadata": {},
   "outputs": [],
   "source": [
    "inference_parameters_test_0 = {\"model_dir\": training_params_0[\"model_dir\"], \n",
    "                         \"model_epoch\": 80,\n",
    "                         \"test_images\": data_dict[\"test_images\"],\n",
    "                         \"test_gt\": data_dict[\"test_gt\"], \n",
    "                         \"save_dir\": os.path.join(training_params_0[\"model_dir\"], \"test_pred_epoch_80\")}"
   ]
  },
  {
   "cell_type": "code",
   "execution_count": null,
   "metadata": {},
   "outputs": [],
   "source": [
    "run_inference(**inference_parameters_test_0)"
   ]
  },
  {
   "cell_type": "code",
   "execution_count": 101,
   "metadata": {},
   "outputs": [],
   "source": [
    "inference_parameters_train_0 = {\"model_dir\": training_params_0[\"model_dir\"], \n",
    "                         \"model_epoch\": 80,\n",
    "                         \"test_images\": data_dict[\"training_images\"],\n",
    "                         \"test_gt\": data_dict[\"training_gt\"], \n",
    "                         \"save_dir\": os.path.join(training_params_0[\"model_dir\"], \"training_pred_epoch_80\")}"
   ]
  },
  {
   "cell_type": "code",
   "execution_count": null,
   "metadata": {},
   "outputs": [],
   "source": [
    "run_inference(**inference_parameters_train_0)"
   ]
  },
  {
   "cell_type": "code",
   "execution_count": 102,
   "metadata": {},
   "outputs": [],
   "source": [
    "inference_parameters_glaucoma_0 = {\"model_dir\": training_params_0[\"model_dir\"], \n",
    "                         \"model_epoch\": 80,\n",
    "                         \"test_images\": glaucoma_images,\n",
    "                         \"test_gt\": glaucoma_gt, \n",
    "                         \"save_dir\": os.path.join(training_params_0[\"model_dir\"], \"glaucoma_pred_epoch_80\")}"
   ]
  },
  {
   "cell_type": "code",
   "execution_count": null,
   "metadata": {},
   "outputs": [],
   "source": [
    "run_inference(**inference_parameters_glaucoma_0)"
   ]
  },
  {
   "cell_type": "code",
   "execution_count": 103,
   "metadata": {},
   "outputs": [
    {
     "data": {
      "image/png": "[encoded data removed]",
      "text/plain": [
       "<Figure size 432x288 with 1 Axes>"
      ]
     },
     "metadata": {
      "needs_background": "light"
     },
     "output_type": "display_data"
    }
   ],
   "source": [
    "model_dir = training_params_0[\"model_dir\"]\n",
    "eval_dict_0 = {\"gt_dir_ng\": gt_dir_ng,\n",
    "             \"gt_dir_g\": gt_dir_g, \n",
    "             \"pred_dir_training\": os.path.join(model_dir, \"training_pred_epoch_80\"),\n",
    "             \"pred_dir_test\": os.path.join(model_dir, \"test_pred_epoch_80\"), \n",
    "             \"pred_dir_g\": os.path.join(model_dir, \"glaucoma_pred_epoch_80\"), \n",
    "             \"sampling\": False}\n",
    "\n",
    "dice_seed_0_eval = eval_mean_uncertainty(**eval_dict_0)"
   ]
  },
  {
   "cell_type": "markdown",
   "metadata": {},
   "source": [
    "## seed = 1"
   ]
  },
  {
   "cell_type": "code",
   "execution_count": 104,
   "metadata": {},
   "outputs": [],
   "source": [
    "training_params_1 = {\"seed\": 1, \n",
    "                   \"training_images\": data_dict[\"training_images\"],\n",
    "                  \"training_gt\": data_dict[\"training_gt\"], \n",
    "                  \"validation_images\": data_dict[\"validation_images\"],\n",
    "                  \"validation_gt\": data_dict[\"validation_gt\"],\n",
    "                  \"epoch_num\": 100,\n",
    "                  \"model_dir\": \"/kvh4/optic_disc/models/dice_ensemble/01_UNet_cup\",\n",
    "                  \"p_dropout\": 0.0}"
   ]
  },
  {
   "cell_type": "code",
   "execution_count": 105,
   "metadata": {},
   "outputs": [],
   "source": [
    "model_path = training_params_1[\"model_dir\"]\n",
    "if not os.path.exists(model_path):\n",
    "    os.makedirs(model_path)\n",
    "    \n",
    "with open(os.path.join(model_path, \"training_params.pkl\"), 'wb') as file:\n",
    "      \n",
    "    # A new file will be created\n",
    "    pickle.dump(training_params_1, file)"
   ]
  },
  {
   "cell_type": "code",
   "execution_count": null,
   "metadata": {
    "scrolled": true
   },
   "outputs": [],
   "source": [
    "train_dice(**training_params_1)"
   ]
  },
  {
   "cell_type": "code",
   "execution_count": 106,
   "metadata": {},
   "outputs": [],
   "source": [
    "model_path = training_params_1[\"model_dir\"]\n",
    "\n",
    "train_loss = np.load(os.path.join(model_path, \"epoch_loss.npy\"))\n",
    "val_loss = np.load(os.path.join(model_path, \"val_loss.npy\"))\n",
    "val_metrics = np.load(os.path.join(model_path, \"val_metrics.npy\"))"
   ]
  },
  {
   "cell_type": "code",
   "execution_count": 107,
   "metadata": {},
   "outputs": [
    {
     "data": {
      "text/plain": [
       "<matplotlib.legend.Legend at 0x7f28c8127c18>"
      ]
     },
     "execution_count": 107,
     "metadata": {},
     "output_type": "execute_result"
    },
    {
     "data": {
      "image/png": "[encoded data removed]",
      "text/plain": [
       "<Figure size 432x288 with 1 Axes>"
      ]
     },
     "metadata": {
      "needs_background": "light"
     },
     "output_type": "display_data"
    }
   ],
   "source": [
    "plt.plot(train_loss, label=\"training\")\n",
    "plt.plot(val_loss, label=\"validation\")\n",
    "plt.plot(val_metrics, label=\"validation Dice\")\n",
    "plt.legend()"
   ]
  },
  {
   "cell_type": "code",
   "execution_count": 108,
   "metadata": {},
   "outputs": [],
   "source": [
    "inference_parameters_training_1 = {\"model_dir\": training_params_1[\"model_dir\"], \n",
    "                         \"model_epoch\": 70,\n",
    "                         \"test_images\": data_dict[\"training_images\"],\n",
    "                         \"test_gt\": data_dict[\"training_gt\"], \n",
    "                         \"save_dir\": os.path.join(training_params_1[\"model_dir\"], \"training_pred_epoch_70\")}"
   ]
  },
  {
   "cell_type": "code",
   "execution_count": null,
   "metadata": {},
   "outputs": [],
   "source": [
    "run_inference(**inference_parameters_training_1)"
   ]
  },
  {
   "cell_type": "code",
   "execution_count": 109,
   "metadata": {},
   "outputs": [],
   "source": [
    "inference_parameters_test_1 = {\"model_dir\": training_params_1[\"model_dir\"], \n",
    "                         \"model_epoch\": 70,\n",
    "                         \"test_images\": data_dict[\"test_images\"],\n",
    "                         \"test_gt\": data_dict[\"test_gt\"], \n",
    "                         \"save_dir\": os.path.join(training_params_1[\"model_dir\"], \"test_pred_epoch_70\")}"
   ]
  },
  {
   "cell_type": "code",
   "execution_count": null,
   "metadata": {},
   "outputs": [],
   "source": [
    "run_inference(**inference_parameters_test_1)"
   ]
  },
  {
   "cell_type": "code",
   "execution_count": 110,
   "metadata": {},
   "outputs": [],
   "source": [
    "inference_parameters_glaucoma_1 = {\"model_dir\": training_params_1[\"model_dir\"], \n",
    "                         \"model_epoch\": 70,\n",
    "                         \"test_images\": glaucoma_images,\n",
    "                         \"test_gt\": glaucoma_gt, \n",
    "                         \"save_dir\": os.path.join(training_params_1[\"model_dir\"], \"glaucoma_pred_epoch_70\")}"
   ]
  },
  {
   "cell_type": "code",
   "execution_count": null,
   "metadata": {},
   "outputs": [],
   "source": [
    "run_inference(**inference_parameters_glaucoma_1)"
   ]
  },
  {
   "cell_type": "code",
   "execution_count": 111,
   "metadata": {
    "scrolled": true
   },
   "outputs": [
    {
     "data": {
      "image/png": "[encoded data removed]",
      "text/plain": [
       "<Figure size 432x288 with 1 Axes>"
      ]
     },
     "metadata": {
      "needs_background": "light"
     },
     "output_type": "display_data"
    }
   ],
   "source": [
    "model_dir = training_params_1[\"model_dir\"]\n",
    "eval_dict_1 = {\"gt_dir_ng\": gt_dir_ng,\n",
    "             \"gt_dir_g\": gt_dir_g, \n",
    "             \"pred_dir_training\": os.path.join(model_dir, \"training_pred_epoch_70\"),\n",
    "             \"pred_dir_test\": os.path.join(model_dir, \"test_pred_epoch_70\"), \n",
    "             \"pred_dir_g\": os.path.join(model_dir, \"glaucoma_pred_epoch_70\"), \n",
    "             \"sampling\": False}\n",
    "\n",
    "dice_seed_1_eval = eval_mean_uncertainty(**eval_dict_1)"
   ]
  },
  {
   "cell_type": "code",
   "execution_count": 135,
   "metadata": {},
   "outputs": [
    {
     "data": {
      "text/plain": [
       "<matplotlib.collections.PathCollection at 0x7f273d30d518>"
      ]
     },
     "execution_count": 135,
     "metadata": {},
     "output_type": "execute_result"
    },
    {
     "data": {
      "image/png": "[encoded data removed]",
      "text/plain": [
       "<Figure size 432x288 with 1 Axes>"
      ]
     },
     "metadata": {
      "needs_background": "light"
     },
     "output_type": "display_data"
    }
   ],
   "source": [
    "plt.scatter(dice_seed_1_eval[\"train_dice\"], dice_seed_1_eval[\"train_ms\"])"
   ]
  },
  {
   "cell_type": "markdown",
   "metadata": {},
   "source": [
    "### seed = 2"
   ]
  },
  {
   "cell_type": "code",
   "execution_count": 112,
   "metadata": {},
   "outputs": [],
   "source": [
    "training_params_2 = {\"seed\": 2, \n",
    "                   \"training_images\": data_dict[\"training_images\"],\n",
    "                  \"training_gt\": data_dict[\"training_gt\"], \n",
    "                  \"validation_images\": data_dict[\"validation_images\"],\n",
    "                  \"validation_gt\": data_dict[\"validation_gt\"],\n",
    "                  \"epoch_num\": 100,\n",
    "                  \"model_dir\": \"/kvh4/optic_disc/models/dice_ensemble/02_UNet_cup\",\n",
    "                  \"p_dropout\": 0.0}"
   ]
  },
  {
   "cell_type": "code",
   "execution_count": 153,
   "metadata": {},
   "outputs": [],
   "source": [
    "model_path = training_params_2[\"model_dir\"]\n",
    "if not os.path.exists(model_path):\n",
    "    os.makedirs(model_path)\n",
    "    \n",
    "with open(os.path.join(model_path, \"training_params.pkl\"), 'wb') as file:\n",
    "      \n",
    "    # A new file will be created\n",
    "    pickle.dump(training_params_2, file)"
   ]
  },
  {
   "cell_type": "code",
   "execution_count": null,
   "metadata": {
    "scrolled": true
   },
   "outputs": [],
   "source": [
    "train_dice(**training_params_2)"
   ]
  },
  {
   "cell_type": "code",
   "execution_count": 114,
   "metadata": {},
   "outputs": [],
   "source": [
    "model_path = training_params_2[\"model_dir\"]\n",
    "\n",
    "train_loss = np.load(os.path.join(model_path, \"epoch_loss.npy\"))\n",
    "val_loss = np.load(os.path.join(model_path, \"val_loss.npy\"))\n",
    "val_metrics = np.load(os.path.join(model_path, \"val_metrics.npy\"))"
   ]
  },
  {
   "cell_type": "code",
   "execution_count": 115,
   "metadata": {},
   "outputs": [
    {
     "data": {
      "text/plain": [
       "<matplotlib.legend.Legend at 0x7f28c015da90>"
      ]
     },
     "execution_count": 115,
     "metadata": {},
     "output_type": "execute_result"
    },
    {
     "data": {
      "image/png": "[encoded data removed]",
      "text/plain": [
       "<Figure size 432x288 with 1 Axes>"
      ]
     },
     "metadata": {
      "needs_background": "light"
     },
     "output_type": "display_data"
    }
   ],
   "source": [
    "plt.plot(train_loss, label=\"training\")\n",
    "plt.plot(val_loss, label=\"validation\")\n",
    "plt.plot(val_metrics, label=\"validation Dice\")\n",
    "plt.legend()"
   ]
  },
  {
   "cell_type": "code",
   "execution_count": 116,
   "metadata": {},
   "outputs": [],
   "source": [
    "inference_parameters_training_2 = {\"model_dir\": training_params_2[\"model_dir\"], \n",
    "                         \"model_epoch\": 75,\n",
    "                         \"test_images\": data_dict[\"training_images\"],\n",
    "                         \"test_gt\": data_dict[\"training_gt\"], \n",
    "                         \"save_dir\": os.path.join(training_params_2[\"model_dir\"], \"training_pred_epoch_75\")}"
   ]
  },
  {
   "cell_type": "code",
   "execution_count": null,
   "metadata": {},
   "outputs": [],
   "source": [
    "run_inference(**inference_parameters_training_2)"
   ]
  },
  {
   "cell_type": "code",
   "execution_count": 117,
   "metadata": {},
   "outputs": [],
   "source": [
    "inference_parameters_test_2 = {\"model_dir\": training_params_2[\"model_dir\"], \n",
    "                         \"model_epoch\": 75,\n",
    "                         \"test_images\": data_dict[\"test_images\"],\n",
    "                         \"test_gt\": data_dict[\"test_gt\"], \n",
    "                         \"save_dir\": os.path.join(training_params_2[\"model_dir\"], \"test_pred_epoch_75\")}"
   ]
  },
  {
   "cell_type": "code",
   "execution_count": null,
   "metadata": {},
   "outputs": [],
   "source": [
    "run_inference(**inference_parameters_test_2)"
   ]
  },
  {
   "cell_type": "code",
   "execution_count": 118,
   "metadata": {},
   "outputs": [],
   "source": [
    "inference_parameters_glaucoma_2 = {\"model_dir\": training_params_2[\"model_dir\"], \n",
    "                         \"model_epoch\": 75,\n",
    "                         \"test_images\": glaucoma_images,\n",
    "                         \"test_gt\": glaucoma_gt, \n",
    "                         \"save_dir\": os.path.join(training_params_2[\"model_dir\"], \"glaucoma_pred_epoch_75\")}"
   ]
  },
  {
   "cell_type": "code",
   "execution_count": null,
   "metadata": {},
   "outputs": [],
   "source": [
    "run_inference(**inference_parameters_glaucoma_2)"
   ]
  },
  {
   "cell_type": "code",
   "execution_count": 119,
   "metadata": {},
   "outputs": [
    {
     "data": {
      "image/png": "[encoded data removed]",
      "text/plain": [
       "<Figure size 432x288 with 1 Axes>"
      ]
     },
     "metadata": {
      "needs_background": "light"
     },
     "output_type": "display_data"
    }
   ],
   "source": [
    "model_dir = training_params_2[\"model_dir\"]\n",
    "eval_dict_2 = {\"gt_dir_ng\": gt_dir_ng,\n",
    "             \"gt_dir_g\": gt_dir_g, \n",
    "             \"pred_dir_training\": os.path.join(model_dir, \"training_pred_epoch_75\"),\n",
    "             \"pred_dir_test\": os.path.join(model_dir, \"test_pred_epoch_75\"), \n",
    "             \"pred_dir_g\": os.path.join(model_dir, \"glaucoma_pred_epoch_75\"), \n",
    "             \"sampling\": False}\n",
    "\n",
    "dice_seed_2_eval = eval_mean_uncertainty(**eval_dict_2)"
   ]
  },
  {
   "cell_type": "markdown",
   "metadata": {},
   "source": [
    "### seed = 3"
   ]
  },
  {
   "cell_type": "code",
   "execution_count": 120,
   "metadata": {
    "scrolled": true
   },
   "outputs": [],
   "source": [
    "training_params_3 = {\"seed\": 3, \n",
    "                   \"training_images\": data_dict[\"training_images\"],\n",
    "                  \"training_gt\": data_dict[\"training_gt\"], \n",
    "                  \"validation_images\": data_dict[\"validation_images\"],\n",
    "                  \"validation_gt\": data_dict[\"validation_gt\"],\n",
    "                  \"epoch_num\": 100,\n",
    "                  \"model_dir\": \"/kvh4/optic_disc/models/dice_ensemble/03_UNet_cup\",\n",
    "                  \"p_dropout\": 0.0}"
   ]
  },
  {
   "cell_type": "code",
   "execution_count": 152,
   "metadata": {},
   "outputs": [],
   "source": [
    "model_path = training_params_3[\"model_dir\"]\n",
    "if not os.path.exists(model_path):\n",
    "    os.makedirs(model_path)\n",
    "    \n",
    "with open(os.path.join(model_path, \"training_params.pkl\"), 'wb') as file:\n",
    "      \n",
    "    # A new file will be created\n",
    "    pickle.dump(training_params_3, file)"
   ]
  },
  {
   "cell_type": "code",
   "execution_count": 122,
   "metadata": {
    "scrolled": true
   },
   "outputs": [
    {
     "name": "stdout",
     "output_type": "stream",
     "text": [
      "----------\n",
      "epoch 1/100\n",
      "epoch 1 average loss: 0.9617\n",
      "savepath:  /kvh4/optic_disc/models/dice_ensemble/03_UNet_cup/epoch_1.pth\n",
      "saved model\n"
     ]
    },
    {
     "name": "stderr",
     "output_type": "stream",
     "text": [
      "y_pred has only one channel, include_background=False ignored.\n"
     ]
    },
    {
     "name": "stdout",
     "output_type": "stream",
     "text": [
      "current epoch: 1 current mean dice: 0.0401\n",
      "val loss:  0.960666942000389\n",
      "----------\n",
      "epoch 2/100\n",
      "epoch 2 average loss: 0.9543\n",
      "savepath:  /kvh4/optic_disc/models/dice_ensemble/03_UNet_cup/epoch_2.pth\n",
      "saved model\n",
      "current epoch: 2 current mean dice: 0.0514\n",
      "val loss:  0.9539261996746063\n",
      "----------\n",
      "epoch 3/100\n",
      "epoch 3 average loss: 0.9496\n",
      "savepath:  /kvh4/optic_disc/models/dice_ensemble/03_UNet_cup/epoch_3.pth\n",
      "saved model\n",
      "current epoch: 3 current mean dice: 0.0593\n",
      "val loss:  0.95093570291996\n",
      "----------\n",
      "epoch 4/100\n",
      "epoch 4 average loss: 0.9452\n",
      "savepath:  /kvh4/optic_disc/models/dice_ensemble/03_UNet_cup/epoch_4.pth\n",
      "saved model\n",
      "current epoch: 4 current mean dice: 0.0748\n",
      "val loss:  0.9464247381687164\n",
      "----------\n",
      "epoch 5/100\n",
      "epoch 5 average loss: 0.9407\n",
      "savepath:  /kvh4/optic_disc/models/dice_ensemble/03_UNet_cup/epoch_5.pth\n",
      "saved model\n",
      "current epoch: 5 current mean dice: 0.1197\n",
      "val loss:  0.9426384192705154\n",
      "----------\n",
      "epoch 6/100\n",
      "epoch 6 average loss: 0.9366\n",
      "savepath:  /kvh4/optic_disc/models/dice_ensemble/03_UNet_cup/epoch_6.pth\n",
      "saved model\n",
      "current epoch: 6 current mean dice: 0.1658\n",
      "val loss:  0.9360148942470551\n",
      "----------\n",
      "epoch 7/100\n",
      "epoch 7 average loss: 0.9321\n",
      "savepath:  /kvh4/optic_disc/models/dice_ensemble/03_UNet_cup/epoch_7.pth\n",
      "saved model\n",
      "current epoch: 7 current mean dice: 0.1922\n",
      "val loss:  0.9312624228000641\n",
      "----------\n",
      "epoch 8/100\n",
      "epoch 8 average loss: 0.9259\n",
      "savepath:  /kvh4/optic_disc/models/dice_ensemble/03_UNet_cup/epoch_8.pth\n",
      "saved model\n",
      "current epoch: 8 current mean dice: 0.2098\n",
      "val loss:  0.9246100735664368\n",
      "----------\n",
      "epoch 9/100\n",
      "epoch 9 average loss: 0.9191\n",
      "savepath:  /kvh4/optic_disc/models/dice_ensemble/03_UNet_cup/epoch_9.pth\n",
      "saved model\n",
      "current epoch: 9 current mean dice: 0.2119\n",
      "val loss:  0.9179983472824097\n",
      "----------\n",
      "epoch 10/100\n",
      "epoch 10 average loss: 0.9100\n",
      "savepath:  /kvh4/optic_disc/models/dice_ensemble/03_UNet_cup/epoch_10.pth\n",
      "saved model\n",
      "current epoch: 10 current mean dice: 0.2167\n",
      "val loss:  0.9090863794088364\n",
      "----------\n",
      "epoch 11/100\n",
      "epoch 11 average loss: 0.8984\n",
      "savepath:  /kvh4/optic_disc/models/dice_ensemble/03_UNet_cup/epoch_11.pth\n",
      "saved model\n",
      "current epoch: 11 current mean dice: 0.2374\n",
      "val loss:  0.8997413313388825\n",
      "----------\n",
      "epoch 12/100\n",
      "epoch 12 average loss: 0.8875\n",
      "savepath:  /kvh4/optic_disc/models/dice_ensemble/03_UNet_cup/epoch_12.pth\n",
      "saved model\n",
      "current epoch: 12 current mean dice: 0.2673\n",
      "val loss:  0.8871605634689331\n",
      "----------\n",
      "epoch 13/100\n",
      "epoch 13 average loss: 0.8673\n",
      "savepath:  /kvh4/optic_disc/models/dice_ensemble/03_UNet_cup/epoch_13.pth\n",
      "saved model\n",
      "current epoch: 13 current mean dice: 0.2582\n",
      "val loss:  0.8700689834356308\n",
      "----------\n",
      "epoch 14/100\n",
      "epoch 14 average loss: 0.8511\n",
      "savepath:  /kvh4/optic_disc/models/dice_ensemble/03_UNet_cup/epoch_14.pth\n",
      "saved model\n",
      "current epoch: 14 current mean dice: 0.2811\n",
      "val loss:  0.8556650310754776\n",
      "----------\n",
      "epoch 15/100\n",
      "epoch 15 average loss: 0.8369\n",
      "savepath:  /kvh4/optic_disc/models/dice_ensemble/03_UNet_cup/epoch_15.pth\n",
      "saved model\n",
      "current epoch: 15 current mean dice: 0.2891\n",
      "val loss:  0.8259868842363357\n",
      "----------\n",
      "epoch 16/100\n",
      "epoch 16 average loss: 0.8244\n",
      "savepath:  /kvh4/optic_disc/models/dice_ensemble/03_UNet_cup/epoch_16.pth\n",
      "saved model\n",
      "current epoch: 16 current mean dice: 0.2741\n",
      "val loss:  0.835186555981636\n",
      "----------\n",
      "epoch 17/100\n",
      "epoch 17 average loss: 0.8088\n",
      "savepath:  /kvh4/optic_disc/models/dice_ensemble/03_UNet_cup/epoch_17.pth\n",
      "saved model\n",
      "current epoch: 17 current mean dice: 0.2875\n",
      "val loss:  0.8286446708440781\n",
      "----------\n",
      "epoch 18/100\n",
      "epoch 18 average loss: 0.8009\n",
      "savepath:  /kvh4/optic_disc/models/dice_ensemble/03_UNet_cup/epoch_18.pth\n",
      "saved model\n",
      "current epoch: 18 current mean dice: 0.2955\n",
      "val loss:  0.8172742140293121\n",
      "----------\n",
      "epoch 19/100\n",
      "epoch 19 average loss: 0.7821\n",
      "savepath:  /kvh4/optic_disc/models/dice_ensemble/03_UNet_cup/epoch_19.pth\n",
      "saved model\n",
      "current epoch: 19 current mean dice: 0.3116\n",
      "val loss:  0.7817978256940842\n",
      "----------\n",
      "epoch 20/100\n",
      "epoch 20 average loss: 0.7723\n",
      "savepath:  /kvh4/optic_disc/models/dice_ensemble/03_UNet_cup/epoch_20.pth\n",
      "saved model\n",
      "current epoch: 20 current mean dice: 0.3326\n",
      "val loss:  0.7689839679002762\n",
      "----------\n",
      "epoch 21/100\n",
      "epoch 21 average loss: 0.7593\n",
      "savepath:  /kvh4/optic_disc/models/dice_ensemble/03_UNet_cup/epoch_21.pth\n",
      "saved model\n",
      "current epoch: 21 current mean dice: 0.3363\n",
      "val loss:  0.7525243794918061\n",
      "----------\n",
      "epoch 22/100\n",
      "epoch 22 average loss: 0.7534\n",
      "savepath:  /kvh4/optic_disc/models/dice_ensemble/03_UNet_cup/epoch_22.pth\n",
      "saved model\n",
      "current epoch: 22 current mean dice: 0.3230\n",
      "val loss:  0.764992361664772\n",
      "----------\n",
      "epoch 23/100\n",
      "epoch 23 average loss: 0.7406\n",
      "savepath:  /kvh4/optic_disc/models/dice_ensemble/03_UNet_cup/epoch_23.pth\n",
      "saved model\n",
      "current epoch: 23 current mean dice: 0.3363\n",
      "val loss:  0.7472839075326919\n",
      "----------\n",
      "epoch 24/100\n",
      "epoch 24 average loss: 0.7313\n",
      "savepath:  /kvh4/optic_disc/models/dice_ensemble/03_UNet_cup/epoch_24.pth\n",
      "saved model\n",
      "current epoch: 24 current mean dice: 0.3676\n",
      "val loss:  0.7203707540035248\n",
      "----------\n",
      "epoch 25/100\n",
      "epoch 25 average loss: 0.7181\n",
      "savepath:  /kvh4/optic_disc/models/dice_ensemble/03_UNet_cup/epoch_25.pth\n",
      "saved model\n",
      "current epoch: 25 current mean dice: 0.3435\n",
      "val loss:  0.7303136223554612\n",
      "----------\n",
      "epoch 26/100\n",
      "epoch 26 average loss: 0.7174\n",
      "savepath:  /kvh4/optic_disc/models/dice_ensemble/03_UNet_cup/epoch_26.pth\n",
      "saved model\n",
      "current epoch: 26 current mean dice: 0.3408\n",
      "val loss:  0.7369163376092911\n",
      "----------\n",
      "epoch 27/100\n",
      "epoch 27 average loss: 0.7065\n",
      "savepath:  /kvh4/optic_disc/models/dice_ensemble/03_UNet_cup/epoch_27.pth\n",
      "saved model\n",
      "current epoch: 27 current mean dice: 0.3432\n",
      "val loss:  0.7127402824163437\n",
      "----------\n",
      "epoch 28/100\n",
      "epoch 28 average loss: 0.6968\n",
      "savepath:  /kvh4/optic_disc/models/dice_ensemble/03_UNet_cup/epoch_28.pth\n",
      "saved model\n",
      "current epoch: 28 current mean dice: 0.3530\n",
      "val loss:  0.7058239185810089\n",
      "----------\n",
      "epoch 29/100\n",
      "epoch 29 average loss: 0.6932\n",
      "savepath:  /kvh4/optic_disc/models/dice_ensemble/03_UNet_cup/epoch_29.pth\n",
      "saved model\n",
      "current epoch: 29 current mean dice: 0.3623\n",
      "val loss:  0.7034089481830597\n",
      "----------\n",
      "epoch 30/100\n",
      "epoch 30 average loss: 0.6836\n",
      "savepath:  /kvh4/optic_disc/models/dice_ensemble/03_UNet_cup/epoch_30.pth\n",
      "saved model\n",
      "current epoch: 30 current mean dice: 0.3802\n",
      "val loss:  0.6881006181240081\n",
      "----------\n",
      "epoch 31/100\n",
      "epoch 31 average loss: 0.6777\n",
      "savepath:  /kvh4/optic_disc/models/dice_ensemble/03_UNet_cup/epoch_31.pth\n",
      "saved model\n",
      "current epoch: 31 current mean dice: 0.3689\n",
      "val loss:  0.7062567883729934\n",
      "----------\n",
      "epoch 32/100\n",
      "epoch 32 average loss: 0.6690\n",
      "savepath:  /kvh4/optic_disc/models/dice_ensemble/03_UNet_cup/epoch_32.pth\n",
      "saved model\n",
      "current epoch: 32 current mean dice: 0.3776\n",
      "val loss:  0.7000024396181107\n",
      "----------\n",
      "epoch 33/100\n",
      "epoch 33 average loss: 0.6617\n",
      "savepath:  /kvh4/optic_disc/models/dice_ensemble/03_UNet_cup/epoch_33.pth\n",
      "saved model\n",
      "current epoch: 33 current mean dice: 0.3804\n",
      "val loss:  0.6799338656663895\n",
      "----------\n",
      "epoch 34/100\n",
      "epoch 34 average loss: 0.6628\n",
      "savepath:  /kvh4/optic_disc/models/dice_ensemble/03_UNet_cup/epoch_34.pth\n",
      "saved model\n",
      "current epoch: 34 current mean dice: 0.3875\n",
      "val loss:  0.6705199748277664\n",
      "----------\n",
      "epoch 35/100\n",
      "epoch 35 average loss: 0.6555\n",
      "savepath:  /kvh4/optic_disc/models/dice_ensemble/03_UNet_cup/epoch_35.pth\n",
      "saved model\n",
      "current epoch: 35 current mean dice: 0.4224\n",
      "val loss:  0.6577776420116425\n",
      "----------\n",
      "epoch 36/100\n",
      "epoch 36 average loss: 0.6391\n",
      "savepath:  /kvh4/optic_disc/models/dice_ensemble/03_UNet_cup/epoch_36.pth\n",
      "saved model\n",
      "current epoch: 36 current mean dice: 0.4405\n",
      "val loss:  0.6404863148927689\n",
      "----------\n",
      "epoch 37/100\n",
      "epoch 37 average loss: 0.6332\n",
      "savepath:  /kvh4/optic_disc/models/dice_ensemble/03_UNet_cup/epoch_37.pth\n",
      "saved model\n",
      "current epoch: 37 current mean dice: 0.4483\n",
      "val loss:  0.6394967222213745\n",
      "----------\n",
      "epoch 38/100\n",
      "epoch 38 average loss: 0.6242\n",
      "savepath:  /kvh4/optic_disc/models/dice_ensemble/03_UNet_cup/epoch_38.pth\n",
      "saved model\n",
      "current epoch: 38 current mean dice: 0.4318\n",
      "val loss:  0.6507683289051056\n",
      "----------\n",
      "epoch 39/100\n",
      "epoch 39 average loss: 0.6219\n",
      "savepath:  /kvh4/optic_disc/models/dice_ensemble/03_UNet_cup/epoch_39.pth\n",
      "saved model\n",
      "current epoch: 39 current mean dice: 0.4646\n",
      "val loss:  0.6243685644865036\n",
      "----------\n",
      "epoch 40/100\n",
      "epoch 40 average loss: 0.6097\n",
      "savepath:  /kvh4/optic_disc/models/dice_ensemble/03_UNet_cup/epoch_40.pth\n",
      "saved model\n"
     ]
    },
    {
     "name": "stdout",
     "output_type": "stream",
     "text": [
      "current epoch: 40 current mean dice: 0.4542\n",
      "val loss:  0.6238582235574722\n",
      "----------\n",
      "epoch 41/100\n",
      "epoch 41 average loss: 0.6055\n",
      "savepath:  /kvh4/optic_disc/models/dice_ensemble/03_UNet_cup/epoch_41.pth\n",
      "saved model\n",
      "current epoch: 41 current mean dice: 0.4663\n",
      "val loss:  0.6297037452459335\n",
      "----------\n",
      "epoch 42/100\n",
      "epoch 42 average loss: 0.5897\n",
      "savepath:  /kvh4/optic_disc/models/dice_ensemble/03_UNet_cup/epoch_42.pth\n",
      "saved model\n",
      "current epoch: 42 current mean dice: 0.5091\n",
      "val loss:  0.6199071884155274\n",
      "----------\n",
      "epoch 43/100\n",
      "epoch 43 average loss: 0.5836\n",
      "savepath:  /kvh4/optic_disc/models/dice_ensemble/03_UNet_cup/epoch_43.pth\n",
      "saved model\n",
      "current epoch: 43 current mean dice: 0.4897\n",
      "val loss:  0.602655953168869\n",
      "----------\n",
      "epoch 44/100\n",
      "epoch 44 average loss: 0.5733\n",
      "savepath:  /kvh4/optic_disc/models/dice_ensemble/03_UNet_cup/epoch_44.pth\n",
      "saved model\n",
      "current epoch: 44 current mean dice: 0.4806\n",
      "val loss:  0.6088080132007598\n",
      "----------\n",
      "epoch 45/100\n",
      "epoch 45 average loss: 0.5596\n",
      "savepath:  /kvh4/optic_disc/models/dice_ensemble/03_UNet_cup/epoch_45.pth\n",
      "saved model\n",
      "current epoch: 45 current mean dice: 0.5187\n",
      "val loss:  0.5843833410739898\n",
      "----------\n",
      "epoch 46/100\n",
      "epoch 46 average loss: 0.5518\n",
      "savepath:  /kvh4/optic_disc/models/dice_ensemble/03_UNet_cup/epoch_46.pth\n",
      "saved model\n",
      "current epoch: 46 current mean dice: 0.5648\n",
      "val loss:  0.5604727625846863\n",
      "----------\n",
      "epoch 47/100\n",
      "epoch 47 average loss: 0.5292\n",
      "savepath:  /kvh4/optic_disc/models/dice_ensemble/03_UNet_cup/epoch_47.pth\n",
      "saved model\n",
      "current epoch: 47 current mean dice: 0.6114\n",
      "val loss:  0.5401197701692582\n",
      "----------\n",
      "epoch 48/100\n",
      "epoch 48 average loss: 0.5187\n",
      "savepath:  /kvh4/optic_disc/models/dice_ensemble/03_UNet_cup/epoch_48.pth\n",
      "saved model\n",
      "current epoch: 48 current mean dice: 0.5985\n",
      "val loss:  0.5361283147335052\n",
      "----------\n",
      "epoch 49/100\n",
      "epoch 49 average loss: 0.4998\n",
      "savepath:  /kvh4/optic_disc/models/dice_ensemble/03_UNet_cup/epoch_49.pth\n",
      "saved model\n",
      "current epoch: 49 current mean dice: 0.6454\n",
      "val loss:  0.5041845625638962\n",
      "----------\n",
      "epoch 50/100\n",
      "epoch 50 average loss: 0.4833\n",
      "savepath:  /kvh4/optic_disc/models/dice_ensemble/03_UNet_cup/epoch_50.pth\n",
      "saved model\n",
      "current epoch: 50 current mean dice: 0.7239\n",
      "val loss:  0.5096437793970108\n",
      "----------\n",
      "epoch 51/100\n",
      "epoch 51 average loss: 0.4448\n",
      "savepath:  /kvh4/optic_disc/models/dice_ensemble/03_UNet_cup/epoch_51.pth\n",
      "saved model\n",
      "current epoch: 51 current mean dice: 0.7363\n",
      "val loss:  0.4976706820726395\n",
      "----------\n",
      "epoch 52/100\n",
      "epoch 52 average loss: 0.3963\n",
      "savepath:  /kvh4/optic_disc/models/dice_ensemble/03_UNet_cup/epoch_52.pth\n",
      "saved model\n",
      "current epoch: 52 current mean dice: 0.7568\n",
      "val loss:  0.47319032609462736\n",
      "----------\n",
      "epoch 53/100\n",
      "epoch 53 average loss: 0.3616\n",
      "savepath:  /kvh4/optic_disc/models/dice_ensemble/03_UNet_cup/epoch_53.pth\n",
      "saved model\n",
      "current epoch: 53 current mean dice: 0.7483\n",
      "val loss:  0.46036647021770477\n",
      "----------\n",
      "epoch 54/100\n",
      "epoch 54 average loss: 0.3298\n",
      "savepath:  /kvh4/optic_disc/models/dice_ensemble/03_UNet_cup/epoch_54.pth\n",
      "saved model\n",
      "current epoch: 54 current mean dice: 0.7598\n",
      "val loss:  0.4231280529499054\n",
      "----------\n",
      "epoch 55/100\n",
      "epoch 55 average loss: 0.3039\n",
      "savepath:  /kvh4/optic_disc/models/dice_ensemble/03_UNet_cup/epoch_55.pth\n",
      "saved model\n",
      "current epoch: 55 current mean dice: 0.8421\n",
      "val loss:  0.35987004935741423\n",
      "----------\n",
      "epoch 56/100\n",
      "epoch 56 average loss: 0.2805\n",
      "savepath:  /kvh4/optic_disc/models/dice_ensemble/03_UNet_cup/epoch_56.pth\n",
      "saved model\n",
      "current epoch: 56 current mean dice: 0.8150\n",
      "val loss:  0.3561704355478287\n",
      "----------\n",
      "epoch 57/100\n",
      "epoch 57 average loss: 0.2601\n",
      "savepath:  /kvh4/optic_disc/models/dice_ensemble/03_UNet_cup/epoch_57.pth\n",
      "saved model\n",
      "current epoch: 57 current mean dice: 0.8468\n",
      "val loss:  0.3240327674150467\n",
      "----------\n",
      "epoch 58/100\n",
      "epoch 58 average loss: 0.2449\n",
      "savepath:  /kvh4/optic_disc/models/dice_ensemble/03_UNet_cup/epoch_58.pth\n",
      "saved model\n",
      "current epoch: 58 current mean dice: 0.8641\n",
      "val loss:  0.303839185833931\n",
      "----------\n",
      "epoch 59/100\n",
      "epoch 59 average loss: 0.2269\n",
      "savepath:  /kvh4/optic_disc/models/dice_ensemble/03_UNet_cup/epoch_59.pth\n",
      "saved model\n",
      "current epoch: 59 current mean dice: 0.7684\n",
      "val loss:  0.3614978438615799\n",
      "----------\n",
      "epoch 60/100\n",
      "epoch 60 average loss: 0.2131\n",
      "savepath:  /kvh4/optic_disc/models/dice_ensemble/03_UNet_cup/epoch_60.pth\n",
      "saved model\n",
      "current epoch: 60 current mean dice: 0.8476\n",
      "val loss:  0.29049393713474275\n",
      "----------\n",
      "epoch 61/100\n",
      "epoch 61 average loss: 0.1993\n",
      "savepath:  /kvh4/optic_disc/models/dice_ensemble/03_UNet_cup/epoch_61.pth\n",
      "saved model\n",
      "current epoch: 61 current mean dice: 0.8381\n",
      "val loss:  0.2859244513511658\n",
      "----------\n",
      "epoch 62/100\n",
      "epoch 62 average loss: 0.1880\n",
      "savepath:  /kvh4/optic_disc/models/dice_ensemble/03_UNet_cup/epoch_62.pth\n",
      "saved model\n",
      "current epoch: 62 current mean dice: 0.8708\n",
      "val loss:  0.25244168519973753\n",
      "----------\n",
      "epoch 63/100\n",
      "epoch 63 average loss: 0.1781\n",
      "savepath:  /kvh4/optic_disc/models/dice_ensemble/03_UNet_cup/epoch_63.pth\n",
      "saved model\n",
      "current epoch: 63 current mean dice: 0.8373\n",
      "val loss:  0.27069432735443116\n",
      "----------\n",
      "epoch 64/100\n",
      "epoch 64 average loss: 0.1704\n",
      "savepath:  /kvh4/optic_disc/models/dice_ensemble/03_UNet_cup/epoch_64.pth\n",
      "saved model\n",
      "current epoch: 64 current mean dice: 0.8755\n",
      "val loss:  0.2353953993320465\n",
      "----------\n",
      "epoch 65/100\n",
      "epoch 65 average loss: 0.1631\n",
      "savepath:  /kvh4/optic_disc/models/dice_ensemble/03_UNet_cup/epoch_65.pth\n",
      "saved model\n",
      "current epoch: 65 current mean dice: 0.8792\n",
      "val loss:  0.22174373090267183\n",
      "----------\n",
      "epoch 66/100\n",
      "epoch 66 average loss: 0.1540\n",
      "savepath:  /kvh4/optic_disc/models/dice_ensemble/03_UNet_cup/epoch_66.pth\n",
      "saved model\n",
      "current epoch: 66 current mean dice: 0.8825\n",
      "val loss:  0.21510481238365173\n",
      "----------\n",
      "epoch 67/100\n",
      "epoch 67 average loss: 0.1468\n",
      "savepath:  /kvh4/optic_disc/models/dice_ensemble/03_UNet_cup/epoch_67.pth\n",
      "saved model\n",
      "current epoch: 67 current mean dice: 0.8711\n",
      "val loss:  0.21918862283229829\n",
      "----------\n",
      "epoch 68/100\n",
      "epoch 68 average loss: 0.1411\n",
      "savepath:  /kvh4/optic_disc/models/dice_ensemble/03_UNet_cup/epoch_68.pth\n",
      "saved model\n",
      "current epoch: 68 current mean dice: 0.8484\n",
      "val loss:  0.23836976051330566\n",
      "----------\n",
      "epoch 69/100\n",
      "epoch 69 average loss: 0.1369\n",
      "savepath:  /kvh4/optic_disc/models/dice_ensemble/03_UNet_cup/epoch_69.pth\n",
      "saved model\n",
      "current epoch: 69 current mean dice: 0.8878\n",
      "val loss:  0.1942426520586014\n",
      "----------\n",
      "epoch 70/100\n",
      "epoch 70 average loss: 0.1310\n",
      "savepath:  /kvh4/optic_disc/models/dice_ensemble/03_UNet_cup/epoch_70.pth\n",
      "saved model\n",
      "current epoch: 70 current mean dice: 0.8808\n",
      "val loss:  0.1986234575510025\n",
      "----------\n",
      "epoch 71/100\n",
      "epoch 71 average loss: 0.1253\n",
      "savepath:  /kvh4/optic_disc/models/dice_ensemble/03_UNet_cup/epoch_71.pth\n",
      "saved model\n",
      "current epoch: 71 current mean dice: 0.8618\n",
      "val loss:  0.2107547104358673\n",
      "----------\n",
      "epoch 72/100\n",
      "epoch 72 average loss: 0.1205\n",
      "savepath:  /kvh4/optic_disc/models/dice_ensemble/03_UNet_cup/epoch_72.pth\n",
      "saved model\n",
      "current epoch: 72 current mean dice: 0.8671\n",
      "val loss:  0.20018173277378082\n",
      "----------\n",
      "epoch 73/100\n",
      "epoch 73 average loss: 0.1151\n",
      "savepath:  /kvh4/optic_disc/models/dice_ensemble/03_UNet_cup/epoch_73.pth\n",
      "saved model\n",
      "current epoch: 73 current mean dice: 0.8665\n",
      "val loss:  0.19902455747127534\n",
      "----------\n",
      "epoch 74/100\n",
      "epoch 74 average loss: 0.1127\n",
      "savepath:  /kvh4/optic_disc/models/dice_ensemble/03_UNet_cup/epoch_74.pth\n",
      "saved model\n",
      "current epoch: 74 current mean dice: 0.8619\n",
      "val loss:  0.1990979266166687\n",
      "----------\n",
      "epoch 75/100\n",
      "epoch 75 average loss: 0.1097\n",
      "savepath:  /kvh4/optic_disc/models/dice_ensemble/03_UNet_cup/epoch_75.pth\n",
      "saved model\n",
      "current epoch: 75 current mean dice: 0.8917\n",
      "val loss:  0.17376556098461152\n",
      "----------\n",
      "epoch 76/100\n",
      "epoch 76 average loss: 0.1051\n",
      "savepath:  /kvh4/optic_disc/models/dice_ensemble/03_UNet_cup/epoch_76.pth\n",
      "saved model\n",
      "current epoch: 76 current mean dice: 0.8832\n",
      "val loss:  0.17805240750312806\n",
      "----------\n",
      "epoch 77/100\n",
      "epoch 77 average loss: 0.1032\n",
      "savepath:  /kvh4/optic_disc/models/dice_ensemble/03_UNet_cup/epoch_77.pth\n",
      "saved model\n",
      "current epoch: 77 current mean dice: 0.8810\n",
      "val loss:  0.17505315363407134\n",
      "----------\n",
      "epoch 78/100\n",
      "epoch 78 average loss: 0.1000\n",
      "savepath:  /kvh4/optic_disc/models/dice_ensemble/03_UNet_cup/epoch_78.pth\n",
      "saved model\n",
      "current epoch: 78 current mean dice: 0.8817\n",
      "val loss:  0.17054591000080108\n",
      "----------\n",
      "epoch 79/100\n"
     ]
    },
    {
     "name": "stdout",
     "output_type": "stream",
     "text": [
      "epoch 79 average loss: 0.0965\n",
      "savepath:  /kvh4/optic_disc/models/dice_ensemble/03_UNet_cup/epoch_79.pth\n",
      "saved model\n",
      "current epoch: 79 current mean dice: 0.8830\n",
      "val loss:  0.1701397854089737\n",
      "----------\n",
      "epoch 80/100\n",
      "epoch 80 average loss: 0.0943\n",
      "savepath:  /kvh4/optic_disc/models/dice_ensemble/03_UNet_cup/epoch_80.pth\n",
      "saved model\n",
      "current epoch: 80 current mean dice: 0.8612\n",
      "val loss:  0.18618044674396514\n",
      "----------\n",
      "epoch 81/100\n",
      "epoch 81 average loss: 0.0969\n",
      "savepath:  /kvh4/optic_disc/models/dice_ensemble/03_UNet_cup/epoch_81.pth\n",
      "saved model\n",
      "current epoch: 81 current mean dice: 0.8738\n",
      "val loss:  0.17467862546443938\n",
      "----------\n",
      "epoch 82/100\n",
      "epoch 82 average loss: 0.0898\n",
      "savepath:  /kvh4/optic_disc/models/dice_ensemble/03_UNet_cup/epoch_82.pth\n",
      "saved model\n",
      "current epoch: 82 current mean dice: 0.8827\n",
      "val loss:  0.16188450872898102\n",
      "----------\n",
      "epoch 83/100\n",
      "epoch 83 average loss: 0.0885\n",
      "savepath:  /kvh4/optic_disc/models/dice_ensemble/03_UNet_cup/epoch_83.pth\n",
      "saved model\n",
      "current epoch: 83 current mean dice: 0.8757\n",
      "val loss:  0.16619769275188445\n",
      "----------\n",
      "epoch 84/100\n",
      "epoch 84 average loss: 0.0868\n",
      "savepath:  /kvh4/optic_disc/models/dice_ensemble/03_UNet_cup/epoch_84.pth\n",
      "saved model\n",
      "current epoch: 84 current mean dice: 0.8777\n",
      "val loss:  0.16594945073127745\n",
      "----------\n",
      "epoch 85/100\n",
      "epoch 85 average loss: 0.0856\n",
      "savepath:  /kvh4/optic_disc/models/dice_ensemble/03_UNet_cup/epoch_85.pth\n",
      "saved model\n",
      "current epoch: 85 current mean dice: 0.8852\n",
      "val loss:  0.15394222855567932\n",
      "----------\n",
      "epoch 86/100\n",
      "epoch 86 average loss: 0.0831\n",
      "savepath:  /kvh4/optic_disc/models/dice_ensemble/03_UNet_cup/epoch_86.pth\n",
      "saved model\n",
      "current epoch: 86 current mean dice: 0.8846\n",
      "val loss:  0.15460892796516418\n",
      "----------\n",
      "epoch 87/100\n",
      "epoch 87 average loss: 0.0810\n",
      "savepath:  /kvh4/optic_disc/models/dice_ensemble/03_UNet_cup/epoch_87.pth\n",
      "saved model\n",
      "current epoch: 87 current mean dice: 0.8972\n",
      "val loss:  0.1388761419057846\n",
      "----------\n",
      "epoch 88/100\n",
      "epoch 88 average loss: 0.0804\n",
      "savepath:  /kvh4/optic_disc/models/dice_ensemble/03_UNet_cup/epoch_88.pth\n",
      "saved model\n",
      "current epoch: 88 current mean dice: 0.8880\n",
      "val loss:  0.14617513954639436\n",
      "----------\n",
      "epoch 89/100\n",
      "epoch 89 average loss: 0.0777\n",
      "savepath:  /kvh4/optic_disc/models/dice_ensemble/03_UNet_cup/epoch_89.pth\n",
      "saved model\n",
      "current epoch: 89 current mean dice: 0.8806\n",
      "val loss:  0.152074653506279\n",
      "----------\n",
      "epoch 90/100\n",
      "epoch 90 average loss: 0.0762\n",
      "savepath:  /kvh4/optic_disc/models/dice_ensemble/03_UNet_cup/epoch_90.pth\n",
      "saved model\n",
      "current epoch: 90 current mean dice: 0.8872\n",
      "val loss:  0.14544893980026244\n",
      "----------\n",
      "epoch 91/100\n",
      "epoch 91 average loss: 0.0753\n",
      "savepath:  /kvh4/optic_disc/models/dice_ensemble/03_UNet_cup/epoch_91.pth\n",
      "saved model\n",
      "current epoch: 91 current mean dice: 0.8492\n",
      "val loss:  0.183450368642807\n",
      "----------\n",
      "epoch 92/100\n",
      "epoch 92 average loss: 0.0748\n",
      "savepath:  /kvh4/optic_disc/models/dice_ensemble/03_UNet_cup/epoch_92.pth\n",
      "saved model\n",
      "current epoch: 92 current mean dice: 0.8744\n",
      "val loss:  0.15715484380722045\n",
      "----------\n",
      "epoch 93/100\n",
      "epoch 93 average loss: 0.0740\n",
      "savepath:  /kvh4/optic_disc/models/dice_ensemble/03_UNet_cup/epoch_93.pth\n",
      "saved model\n",
      "current epoch: 93 current mean dice: 0.8846\n",
      "val loss:  0.14380549669265746\n",
      "----------\n",
      "epoch 94/100\n",
      "epoch 94 average loss: 0.0737\n",
      "savepath:  /kvh4/optic_disc/models/dice_ensemble/03_UNet_cup/epoch_94.pth\n",
      "saved model\n",
      "current epoch: 94 current mean dice: 0.8678\n",
      "val loss:  0.16050105214118957\n",
      "----------\n",
      "epoch 95/100\n",
      "epoch 95 average loss: 0.0712\n",
      "savepath:  /kvh4/optic_disc/models/dice_ensemble/03_UNet_cup/epoch_95.pth\n",
      "saved model\n",
      "current epoch: 95 current mean dice: 0.8884\n",
      "val loss:  0.1388840687274933\n",
      "----------\n",
      "epoch 96/100\n",
      "epoch 96 average loss: 0.0728\n",
      "savepath:  /kvh4/optic_disc/models/dice_ensemble/03_UNet_cup/epoch_96.pth\n",
      "saved model\n",
      "current epoch: 96 current mean dice: 0.8892\n",
      "val loss:  0.13664755582809449\n",
      "----------\n",
      "epoch 97/100\n",
      "epoch 97 average loss: 0.0693\n",
      "savepath:  /kvh4/optic_disc/models/dice_ensemble/03_UNet_cup/epoch_97.pth\n",
      "saved model\n",
      "current epoch: 97 current mean dice: 0.8784\n",
      "val loss:  0.14769639194011688\n",
      "----------\n",
      "epoch 98/100\n",
      "epoch 98 average loss: 0.0690\n",
      "savepath:  /kvh4/optic_disc/models/dice_ensemble/03_UNet_cup/epoch_98.pth\n",
      "saved model\n",
      "current epoch: 98 current mean dice: 0.8934\n",
      "val loss:  0.12945694208145142\n",
      "----------\n",
      "epoch 99/100\n",
      "epoch 99 average loss: 0.0673\n",
      "savepath:  /kvh4/optic_disc/models/dice_ensemble/03_UNet_cup/epoch_99.pth\n",
      "saved model\n",
      "current epoch: 99 current mean dice: 0.8857\n",
      "val loss:  0.13871545672416688\n",
      "----------\n",
      "epoch 100/100\n",
      "epoch 100 average loss: 0.0665\n",
      "savepath:  /kvh4/optic_disc/models/dice_ensemble/03_UNet_cup/epoch_100.pth\n",
      "saved model\n",
      "current epoch: 100 current mean dice: 0.8868\n",
      "val loss:  0.13591528415679932\n"
     ]
    }
   ],
   "source": [
    "train_dice(**training_params_3)"
   ]
  },
  {
   "cell_type": "code",
   "execution_count": 123,
   "metadata": {},
   "outputs": [],
   "source": [
    "model_path = training_params_3[\"model_dir\"]\n",
    "\n",
    "train_loss = np.load(os.path.join(model_path, \"epoch_loss.npy\"))\n",
    "val_loss = np.load(os.path.join(model_path, \"val_loss.npy\"))\n",
    "val_metrics = np.load(os.path.join(model_path, \"val_metrics.npy\"))"
   ]
  },
  {
   "cell_type": "code",
   "execution_count": 126,
   "metadata": {},
   "outputs": [
    {
     "data": {
      "text/plain": [
       "<matplotlib.legend.Legend at 0x7f28c0033160>"
      ]
     },
     "execution_count": 126,
     "metadata": {},
     "output_type": "execute_result"
    },
    {
     "data": {
      "image/png": "[encoded data removed]",
      "text/plain": [
       "<Figure size 432x288 with 1 Axes>"
      ]
     },
     "metadata": {
      "needs_background": "light"
     },
     "output_type": "display_data"
    }
   ],
   "source": [
    "plt.plot(train_loss, label=\"training\")\n",
    "plt.plot(val_loss, label=\"validation\")\n",
    "plt.plot(val_metrics, label=\"validation Dice\")\n",
    "plt.legend()"
   ]
  },
  {
   "cell_type": "code",
   "execution_count": 127,
   "metadata": {},
   "outputs": [],
   "source": [
    "eval_epoch_3 = 87"
   ]
  },
  {
   "cell_type": "code",
   "execution_count": 128,
   "metadata": {},
   "outputs": [],
   "source": [
    "inference_parameters_training_3 = {\"model_dir\": training_params_3[\"model_dir\"], \n",
    "                         \"model_epoch\": eval_epoch_3,\n",
    "                         \"test_images\": data_dict[\"training_images\"],\n",
    "                         \"test_gt\": data_dict[\"training_gt\"], \n",
    "                         \"save_dir\": os.path.join(training_params_3[\"model_dir\"], \\\n",
    "                                                  \"training_pred_epoch_\"+str(eval_epoch_3))}"
   ]
  },
  {
   "cell_type": "code",
   "execution_count": 129,
   "metadata": {},
   "outputs": [
    {
     "name": "stdout",
     "output_type": "stream",
     "text": [
      "finished inference\n"
     ]
    }
   ],
   "source": [
    "run_inference(**inference_parameters_training_3)"
   ]
  },
  {
   "cell_type": "code",
   "execution_count": 130,
   "metadata": {},
   "outputs": [],
   "source": [
    "inference_parameters_test_3 = {\"model_dir\": training_params_3[\"model_dir\"], \n",
    "                         \"model_epoch\": eval_epoch_3,\n",
    "                         \"test_images\": data_dict[\"test_images\"],\n",
    "                         \"test_gt\": data_dict[\"test_gt\"], \n",
    "                         \"save_dir\": os.path.join(training_params_3[\"model_dir\"], \\\n",
    "                                                  \"test_pred_epoch_\"+str(eval_epoch_3))}"
   ]
  },
  {
   "cell_type": "code",
   "execution_count": 131,
   "metadata": {},
   "outputs": [
    {
     "name": "stdout",
     "output_type": "stream",
     "text": [
      "finished inference\n"
     ]
    }
   ],
   "source": [
    "run_inference(**inference_parameters_test_3)"
   ]
  },
  {
   "cell_type": "code",
   "execution_count": 132,
   "metadata": {},
   "outputs": [],
   "source": [
    "inference_parameters_glaucoma_3 = {\"model_dir\": training_params_3[\"model_dir\"], \n",
    "                         \"model_epoch\": eval_epoch_3,\n",
    "                         \"test_images\": glaucoma_images,\n",
    "                         \"test_gt\": glaucoma_gt, \n",
    "                         \"save_dir\": os.path.join(training_params_3[\"model_dir\"], \\\n",
    "                                                  \"glaucoma_pred_epoch_\"+str(eval_epoch_3))}"
   ]
  },
  {
   "cell_type": "code",
   "execution_count": 133,
   "metadata": {},
   "outputs": [
    {
     "name": "stdout",
     "output_type": "stream",
     "text": [
      "finished inference\n"
     ]
    }
   ],
   "source": [
    "run_inference(**inference_parameters_glaucoma_3)"
   ]
  },
  {
   "cell_type": "code",
   "execution_count": 134,
   "metadata": {},
   "outputs": [
    {
     "data": {
      "image/png": "[encoded data removed]",
      "text/plain": [
       "<Figure size 432x288 with 1 Axes>"
      ]
     },
     "metadata": {
      "needs_background": "light"
     },
     "output_type": "display_data"
    }
   ],
   "source": [
    "model_dir = training_params_3[\"model_dir\"]\n",
    "eval_dict_3 = {\"gt_dir_ng\": gt_dir_ng,\n",
    "             \"gt_dir_g\": gt_dir_g, \n",
    "             \"pred_dir_training\": os.path.join(model_dir, \"training_pred_epoch_\"+str(eval_epoch_3)),\n",
    "             \"pred_dir_test\": os.path.join(model_dir, \"test_pred_epoch_\"+str(eval_epoch_3)), \n",
    "             \"pred_dir_g\": os.path.join(model_dir, \"glaucoma_pred_epoch_\"+str(eval_epoch_3)), \n",
    "             \"sampling\": False}\n",
    "\n",
    "dice_seed_3_eval = eval_mean_uncertainty(**eval_dict_3)"
   ]
  },
  {
   "cell_type": "markdown",
   "metadata": {},
   "source": [
    "### seed = 4"
   ]
  },
  {
   "cell_type": "code",
   "execution_count": 136,
   "metadata": {
    "scrolled": true
   },
   "outputs": [],
   "source": [
    "training_params_4 = {\"seed\": 4, \n",
    "                   \"training_images\": data_dict[\"training_images\"],\n",
    "                  \"training_gt\": data_dict[\"training_gt\"], \n",
    "                  \"validation_images\": data_dict[\"validation_images\"],\n",
    "                  \"validation_gt\": data_dict[\"validation_gt\"],\n",
    "                  \"epoch_num\": 100,\n",
    "                  \"model_dir\": \"/kvh4/optic_disc/models/dice_ensemble/04_UNet_cup\",\n",
    "                  \"p_dropout\": 0.0}"
   ]
  },
  {
   "cell_type": "code",
   "execution_count": 151,
   "metadata": {},
   "outputs": [],
   "source": [
    "model_path = training_params_4[\"model_dir\"]\n",
    "if not os.path.exists(model_path):\n",
    "    os.makedirs(model_path)\n",
    "    \n",
    "with open(os.path.join(model_path, \"training_params.pkl\"), 'wb') as file:\n",
    "      \n",
    "    # A new file will be created\n",
    "    pickle.dump(training_params_4, file)"
   ]
  },
  {
   "cell_type": "code",
   "execution_count": 138,
   "metadata": {
    "scrolled": true
   },
   "outputs": [
    {
     "name": "stdout",
     "output_type": "stream",
     "text": [
      "----------\n",
      "epoch 1/100\n",
      "epoch 1 average loss: 0.9582\n",
      "savepath:  /kvh4/optic_disc/models/dice_ensemble/04_UNet_cup/epoch_1.pth\n",
      "saved model\n"
     ]
    },
    {
     "name": "stderr",
     "output_type": "stream",
     "text": [
      "y_pred has only one channel, include_background=False ignored.\n"
     ]
    },
    {
     "name": "stdout",
     "output_type": "stream",
     "text": [
      "current epoch: 1 current mean dice: 0.0913\n",
      "val loss:  0.9606021744012833\n",
      "----------\n",
      "epoch 2/100\n",
      "epoch 2 average loss: 0.9456\n",
      "savepath:  /kvh4/optic_disc/models/dice_ensemble/04_UNet_cup/epoch_2.pth\n",
      "saved model\n",
      "current epoch: 2 current mean dice: 0.0997\n",
      "val loss:  0.945530698299408\n",
      "----------\n",
      "epoch 3/100\n",
      "epoch 3 average loss: 0.9386\n",
      "savepath:  /kvh4/optic_disc/models/dice_ensemble/04_UNet_cup/epoch_3.pth\n",
      "saved model\n",
      "current epoch: 3 current mean dice: 0.1358\n",
      "val loss:  0.9399954152107238\n",
      "----------\n",
      "epoch 4/100\n",
      "epoch 4 average loss: 0.9343\n",
      "savepath:  /kvh4/optic_disc/models/dice_ensemble/04_UNet_cup/epoch_4.pth\n",
      "saved model\n",
      "current epoch: 4 current mean dice: 0.1823\n",
      "val loss:  0.9369518476724624\n",
      "----------\n",
      "epoch 5/100\n",
      "epoch 5 average loss: 0.9312\n",
      "savepath:  /kvh4/optic_disc/models/dice_ensemble/04_UNet_cup/epoch_5.pth\n",
      "saved model\n",
      "current epoch: 5 current mean dice: 0.2129\n",
      "val loss:  0.9343438082933426\n",
      "----------\n",
      "epoch 6/100\n",
      "epoch 6 average loss: 0.9284\n",
      "savepath:  /kvh4/optic_disc/models/dice_ensemble/04_UNet_cup/epoch_6.pth\n",
      "saved model\n",
      "current epoch: 6 current mean dice: 0.2266\n",
      "val loss:  0.931744704246521\n",
      "----------\n",
      "epoch 7/100\n",
      "epoch 7 average loss: 0.9259\n",
      "savepath:  /kvh4/optic_disc/models/dice_ensemble/04_UNet_cup/epoch_7.pth\n",
      "saved model\n",
      "current epoch: 7 current mean dice: 0.2428\n",
      "val loss:  0.9296767121553421\n",
      "----------\n",
      "epoch 8/100\n",
      "epoch 8 average loss: 0.9233\n",
      "savepath:  /kvh4/optic_disc/models/dice_ensemble/04_UNet_cup/epoch_8.pth\n",
      "saved model\n",
      "current epoch: 8 current mean dice: 0.2734\n",
      "val loss:  0.9260491621494293\n",
      "----------\n",
      "epoch 9/100\n",
      "epoch 9 average loss: 0.9207\n",
      "savepath:  /kvh4/optic_disc/models/dice_ensemble/04_UNet_cup/epoch_9.pth\n",
      "saved model\n",
      "current epoch: 9 current mean dice: 0.2808\n",
      "val loss:  0.9237586373090744\n",
      "----------\n",
      "epoch 10/100\n",
      "epoch 10 average loss: 0.9177\n",
      "savepath:  /kvh4/optic_disc/models/dice_ensemble/04_UNet_cup/epoch_10.pth\n",
      "saved model\n",
      "current epoch: 10 current mean dice: 0.3028\n",
      "val loss:  0.9207645589113236\n",
      "----------\n",
      "epoch 11/100\n",
      "epoch 11 average loss: 0.9146\n",
      "savepath:  /kvh4/optic_disc/models/dice_ensemble/04_UNet_cup/epoch_11.pth\n",
      "saved model\n",
      "current epoch: 11 current mean dice: 0.3178\n",
      "val loss:  0.9167844599485397\n",
      "----------\n",
      "epoch 12/100\n",
      "epoch 12 average loss: 0.9110\n",
      "savepath:  /kvh4/optic_disc/models/dice_ensemble/04_UNet_cup/epoch_12.pth\n",
      "saved model\n",
      "current epoch: 12 current mean dice: 0.2877\n",
      "val loss:  0.9149317556619644\n",
      "----------\n",
      "epoch 13/100\n",
      "epoch 13 average loss: 0.9065\n",
      "savepath:  /kvh4/optic_disc/models/dice_ensemble/04_UNet_cup/epoch_13.pth\n",
      "saved model\n",
      "current epoch: 13 current mean dice: 0.3061\n",
      "val loss:  0.910113410949707\n",
      "----------\n",
      "epoch 14/100\n",
      "epoch 14 average loss: 0.9011\n",
      "savepath:  /kvh4/optic_disc/models/dice_ensemble/04_UNet_cup/epoch_14.pth\n",
      "saved model\n",
      "current epoch: 14 current mean dice: 0.3291\n",
      "val loss:  0.900724493265152\n",
      "----------\n",
      "epoch 15/100\n",
      "epoch 15 average loss: 0.8928\n",
      "savepath:  /kvh4/optic_disc/models/dice_ensemble/04_UNet_cup/epoch_15.pth\n",
      "saved model\n",
      "current epoch: 15 current mean dice: 0.3292\n",
      "val loss:  0.8924548798799514\n",
      "----------\n",
      "epoch 16/100\n",
      "epoch 16 average loss: 0.8833\n",
      "savepath:  /kvh4/optic_disc/models/dice_ensemble/04_UNet_cup/epoch_16.pth\n",
      "saved model\n",
      "current epoch: 16 current mean dice: 0.3134\n",
      "val loss:  0.8892897754907608\n",
      "----------\n",
      "epoch 17/100\n",
      "epoch 17 average loss: 0.8746\n",
      "savepath:  /kvh4/optic_disc/models/dice_ensemble/04_UNet_cup/epoch_17.pth\n",
      "saved model\n",
      "current epoch: 17 current mean dice: 0.3001\n",
      "val loss:  0.8683770388364792\n",
      "----------\n",
      "epoch 18/100\n",
      "epoch 18 average loss: 0.8623\n",
      "savepath:  /kvh4/optic_disc/models/dice_ensemble/04_UNet_cup/epoch_18.pth\n",
      "saved model\n",
      "current epoch: 18 current mean dice: 0.2783\n",
      "val loss:  0.8814743584394455\n",
      "----------\n",
      "epoch 19/100\n",
      "epoch 19 average loss: 0.8474\n",
      "savepath:  /kvh4/optic_disc/models/dice_ensemble/04_UNet_cup/epoch_19.pth\n",
      "saved model\n",
      "current epoch: 19 current mean dice: 0.3223\n",
      "val loss:  0.8380894523859024\n",
      "----------\n",
      "epoch 20/100\n",
      "epoch 20 average loss: 0.8386\n",
      "savepath:  /kvh4/optic_disc/models/dice_ensemble/04_UNet_cup/epoch_20.pth\n",
      "saved model\n",
      "current epoch: 20 current mean dice: 0.3388\n",
      "val loss:  0.8150760805606843\n",
      "----------\n",
      "epoch 21/100\n",
      "epoch 21 average loss: 0.8189\n",
      "savepath:  /kvh4/optic_disc/models/dice_ensemble/04_UNet_cup/epoch_21.pth\n",
      "saved model\n",
      "current epoch: 21 current mean dice: 0.3041\n",
      "val loss:  0.8185054308176041\n",
      "----------\n",
      "epoch 22/100\n",
      "epoch 22 average loss: 0.8074\n",
      "savepath:  /kvh4/optic_disc/models/dice_ensemble/04_UNet_cup/epoch_22.pth\n",
      "saved model\n",
      "current epoch: 22 current mean dice: 0.3180\n",
      "val loss:  0.7904021364450454\n",
      "----------\n",
      "epoch 23/100\n",
      "epoch 23 average loss: 0.7985\n",
      "savepath:  /kvh4/optic_disc/models/dice_ensemble/04_UNet_cup/epoch_23.pth\n",
      "saved model\n",
      "current epoch: 23 current mean dice: 0.3224\n",
      "val loss:  0.8071707260608673\n",
      "----------\n",
      "epoch 24/100\n",
      "epoch 24 average loss: 0.7826\n",
      "savepath:  /kvh4/optic_disc/models/dice_ensemble/04_UNet_cup/epoch_24.pth\n",
      "saved model\n",
      "current epoch: 24 current mean dice: 0.3264\n",
      "val loss:  0.7872991585731506\n",
      "----------\n",
      "epoch 25/100\n",
      "epoch 25 average loss: 0.7624\n",
      "savepath:  /kvh4/optic_disc/models/dice_ensemble/04_UNet_cup/epoch_25.pth\n",
      "saved model\n",
      "current epoch: 25 current mean dice: 0.3452\n",
      "val loss:  0.7628470373153686\n",
      "----------\n",
      "epoch 26/100\n",
      "epoch 26 average loss: 0.7603\n",
      "savepath:  /kvh4/optic_disc/models/dice_ensemble/04_UNet_cup/epoch_26.pth\n",
      "saved model\n",
      "current epoch: 26 current mean dice: 0.3604\n",
      "val loss:  0.7549836409091949\n",
      "----------\n",
      "epoch 27/100\n",
      "epoch 27 average loss: 0.7478\n",
      "savepath:  /kvh4/optic_disc/models/dice_ensemble/04_UNet_cup/epoch_27.pth\n",
      "saved model\n",
      "current epoch: 27 current mean dice: 0.3673\n",
      "val loss:  0.7355273967981338\n",
      "----------\n",
      "epoch 28/100\n",
      "epoch 28 average loss: 0.7330\n",
      "savepath:  /kvh4/optic_disc/models/dice_ensemble/04_UNet_cup/epoch_28.pth\n",
      "saved model\n",
      "current epoch: 28 current mean dice: 0.3697\n",
      "val loss:  0.7299171477556229\n",
      "----------\n",
      "epoch 29/100\n",
      "epoch 29 average loss: 0.7280\n",
      "savepath:  /kvh4/optic_disc/models/dice_ensemble/04_UNet_cup/epoch_29.pth\n",
      "saved model\n",
      "current epoch: 29 current mean dice: 0.3850\n",
      "val loss:  0.7272293663024902\n",
      "----------\n",
      "epoch 30/100\n",
      "epoch 30 average loss: 0.7208\n",
      "savepath:  /kvh4/optic_disc/models/dice_ensemble/04_UNet_cup/epoch_30.pth\n",
      "saved model\n",
      "current epoch: 30 current mean dice: 0.3625\n",
      "val loss:  0.7283407551050186\n",
      "----------\n",
      "epoch 31/100\n",
      "epoch 31 average loss: 0.7075\n",
      "savepath:  /kvh4/optic_disc/models/dice_ensemble/04_UNet_cup/epoch_31.pth\n",
      "saved model\n",
      "current epoch: 31 current mean dice: 0.3610\n",
      "val loss:  0.7273325806856156\n",
      "----------\n",
      "epoch 32/100\n",
      "epoch 32 average loss: 0.6995\n",
      "savepath:  /kvh4/optic_disc/models/dice_ensemble/04_UNet_cup/epoch_32.pth\n",
      "saved model\n",
      "current epoch: 32 current mean dice: 0.3629\n",
      "val loss:  0.7152753895521164\n",
      "----------\n",
      "epoch 33/100\n",
      "epoch 33 average loss: 0.6906\n",
      "savepath:  /kvh4/optic_disc/models/dice_ensemble/04_UNet_cup/epoch_33.pth\n",
      "saved model\n",
      "current epoch: 33 current mean dice: 0.3877\n",
      "val loss:  0.7146920239925385\n",
      "----------\n",
      "epoch 34/100\n",
      "epoch 34 average loss: 0.6841\n",
      "savepath:  /kvh4/optic_disc/models/dice_ensemble/04_UNet_cup/epoch_34.pth\n",
      "saved model\n",
      "current epoch: 34 current mean dice: 0.3705\n",
      "val loss:  0.7103202015161514\n",
      "----------\n",
      "epoch 35/100\n",
      "epoch 35 average loss: 0.6747\n",
      "savepath:  /kvh4/optic_disc/models/dice_ensemble/04_UNet_cup/epoch_35.pth\n",
      "saved model\n",
      "current epoch: 35 current mean dice: 0.3924\n",
      "val loss:  0.6935809242725373\n",
      "----------\n",
      "epoch 36/100\n",
      "epoch 36 average loss: 0.6650\n",
      "savepath:  /kvh4/optic_disc/models/dice_ensemble/04_UNet_cup/epoch_36.pth\n",
      "saved model\n",
      "current epoch: 36 current mean dice: 0.4180\n",
      "val loss:  0.676549779176712\n",
      "----------\n",
      "epoch 37/100\n",
      "epoch 37 average loss: 0.6600\n",
      "savepath:  /kvh4/optic_disc/models/dice_ensemble/04_UNet_cup/epoch_37.pth\n",
      "saved model\n",
      "current epoch: 37 current mean dice: 0.4071\n",
      "val loss:  0.6732686114311218\n",
      "----------\n",
      "epoch 38/100\n",
      "epoch 38 average loss: 0.6546\n",
      "savepath:  /kvh4/optic_disc/models/dice_ensemble/04_UNet_cup/epoch_38.pth\n",
      "saved model\n",
      "current epoch: 38 current mean dice: 0.4135\n",
      "val loss:  0.6760303449630737\n",
      "----------\n",
      "epoch 39/100\n",
      "epoch 39 average loss: 0.6442\n",
      "savepath:  /kvh4/optic_disc/models/dice_ensemble/04_UNet_cup/epoch_39.pth\n",
      "saved model\n",
      "current epoch: 39 current mean dice: 0.4505\n",
      "val loss:  0.6430444967746735\n",
      "----------\n",
      "epoch 40/100\n",
      "epoch 40 average loss: 0.6417\n",
      "savepath:  /kvh4/optic_disc/models/dice_ensemble/04_UNet_cup/epoch_40.pth\n",
      "saved model\n"
     ]
    },
    {
     "name": "stdout",
     "output_type": "stream",
     "text": [
      "current epoch: 40 current mean dice: 0.4253\n",
      "val loss:  0.6612584805488586\n",
      "----------\n",
      "epoch 41/100\n",
      "epoch 41 average loss: 0.6318\n",
      "savepath:  /kvh4/optic_disc/models/dice_ensemble/04_UNet_cup/epoch_41.pth\n",
      "saved model\n",
      "current epoch: 41 current mean dice: 0.4301\n",
      "val loss:  0.6582589936256409\n",
      "----------\n",
      "epoch 42/100\n",
      "epoch 42 average loss: 0.6199\n",
      "savepath:  /kvh4/optic_disc/models/dice_ensemble/04_UNet_cup/epoch_42.pth\n",
      "saved model\n",
      "current epoch: 42 current mean dice: 0.4559\n",
      "val loss:  0.6418362456560135\n",
      "----------\n",
      "epoch 43/100\n",
      "epoch 43 average loss: 0.6113\n",
      "savepath:  /kvh4/optic_disc/models/dice_ensemble/04_UNet_cup/epoch_43.pth\n",
      "saved model\n",
      "current epoch: 43 current mean dice: 0.5421\n",
      "val loss:  0.5915801548957824\n",
      "----------\n",
      "epoch 44/100\n",
      "epoch 44 average loss: 0.6041\n",
      "savepath:  /kvh4/optic_disc/models/dice_ensemble/04_UNet_cup/epoch_44.pth\n",
      "saved model\n",
      "current epoch: 44 current mean dice: 0.4701\n",
      "val loss:  0.6242904299497605\n",
      "----------\n",
      "epoch 45/100\n",
      "epoch 45 average loss: 0.5949\n",
      "savepath:  /kvh4/optic_disc/models/dice_ensemble/04_UNet_cup/epoch_45.pth\n",
      "saved model\n",
      "current epoch: 45 current mean dice: 0.5340\n",
      "val loss:  0.5900883823633194\n",
      "----------\n",
      "epoch 46/100\n",
      "epoch 46 average loss: 0.5853\n",
      "savepath:  /kvh4/optic_disc/models/dice_ensemble/04_UNet_cup/epoch_46.pth\n",
      "saved model\n",
      "current epoch: 46 current mean dice: 0.4447\n",
      "val loss:  0.6268219572305679\n",
      "----------\n",
      "epoch 47/100\n",
      "epoch 47 average loss: 0.5772\n",
      "savepath:  /kvh4/optic_disc/models/dice_ensemble/04_UNet_cup/epoch_47.pth\n",
      "saved model\n",
      "current epoch: 47 current mean dice: 0.4736\n",
      "val loss:  0.6233688497543335\n",
      "----------\n",
      "epoch 48/100\n",
      "epoch 48 average loss: 0.5678\n",
      "savepath:  /kvh4/optic_disc/models/dice_ensemble/04_UNet_cup/epoch_48.pth\n",
      "saved model\n",
      "current epoch: 48 current mean dice: 0.5799\n",
      "val loss:  0.5530348670482635\n",
      "----------\n",
      "epoch 49/100\n",
      "epoch 49 average loss: 0.5532\n",
      "savepath:  /kvh4/optic_disc/models/dice_ensemble/04_UNet_cup/epoch_49.pth\n",
      "saved model\n",
      "current epoch: 49 current mean dice: 0.5130\n",
      "val loss:  0.5859276270866394\n",
      "----------\n",
      "epoch 50/100\n",
      "epoch 50 average loss: 0.5447\n",
      "savepath:  /kvh4/optic_disc/models/dice_ensemble/04_UNet_cup/epoch_50.pth\n",
      "saved model\n",
      "current epoch: 50 current mean dice: 0.5179\n",
      "val loss:  0.5805752092599868\n",
      "----------\n",
      "epoch 51/100\n",
      "epoch 51 average loss: 0.5266\n",
      "savepath:  /kvh4/optic_disc/models/dice_ensemble/04_UNet_cup/epoch_51.pth\n",
      "saved model\n",
      "current epoch: 51 current mean dice: 0.4599\n",
      "val loss:  0.6112646716833114\n",
      "----------\n",
      "epoch 52/100\n",
      "epoch 52 average loss: 0.5222\n",
      "savepath:  /kvh4/optic_disc/models/dice_ensemble/04_UNet_cup/epoch_52.pth\n",
      "saved model\n",
      "current epoch: 52 current mean dice: 0.5749\n",
      "val loss:  0.5543847173452378\n",
      "----------\n",
      "epoch 53/100\n",
      "epoch 53 average loss: 0.5081\n",
      "savepath:  /kvh4/optic_disc/models/dice_ensemble/04_UNet_cup/epoch_53.pth\n",
      "saved model\n",
      "current epoch: 53 current mean dice: 0.5370\n",
      "val loss:  0.5701629590988159\n",
      "----------\n",
      "epoch 54/100\n",
      "epoch 54 average loss: 0.4940\n",
      "savepath:  /kvh4/optic_disc/models/dice_ensemble/04_UNet_cup/epoch_54.pth\n",
      "saved model\n",
      "current epoch: 54 current mean dice: 0.6129\n",
      "val loss:  0.5228744107484817\n",
      "----------\n",
      "epoch 55/100\n",
      "epoch 55 average loss: 0.4750\n",
      "savepath:  /kvh4/optic_disc/models/dice_ensemble/04_UNet_cup/epoch_55.pth\n",
      "saved model\n",
      "current epoch: 55 current mean dice: 0.6834\n",
      "val loss:  0.4815645307302475\n",
      "----------\n",
      "epoch 56/100\n",
      "epoch 56 average loss: 0.4666\n",
      "savepath:  /kvh4/optic_disc/models/dice_ensemble/04_UNet_cup/epoch_56.pth\n",
      "saved model\n",
      "current epoch: 56 current mean dice: 0.6735\n",
      "val loss:  0.4806963217258453\n",
      "----------\n",
      "epoch 57/100\n",
      "epoch 57 average loss: 0.4516\n",
      "savepath:  /kvh4/optic_disc/models/dice_ensemble/04_UNet_cup/epoch_57.pth\n",
      "saved model\n",
      "current epoch: 57 current mean dice: 0.6620\n",
      "val loss:  0.4804110902547836\n",
      "----------\n",
      "epoch 58/100\n",
      "epoch 58 average loss: 0.4351\n",
      "savepath:  /kvh4/optic_disc/models/dice_ensemble/04_UNet_cup/epoch_58.pth\n",
      "saved model\n",
      "current epoch: 58 current mean dice: 0.6752\n",
      "val loss:  0.47447709143161776\n",
      "----------\n",
      "epoch 59/100\n",
      "epoch 59 average loss: 0.4100\n",
      "savepath:  /kvh4/optic_disc/models/dice_ensemble/04_UNet_cup/epoch_59.pth\n",
      "saved model\n",
      "current epoch: 59 current mean dice: 0.7327\n",
      "val loss:  0.49115060806274413\n",
      "----------\n",
      "epoch 60/100\n",
      "epoch 60 average loss: 0.3618\n",
      "savepath:  /kvh4/optic_disc/models/dice_ensemble/04_UNet_cup/epoch_60.pth\n",
      "saved model\n",
      "current epoch: 60 current mean dice: 0.7335\n",
      "val loss:  0.4627368104457855\n",
      "----------\n",
      "epoch 61/100\n",
      "epoch 61 average loss: 0.3299\n",
      "savepath:  /kvh4/optic_disc/models/dice_ensemble/04_UNet_cup/epoch_61.pth\n",
      "saved model\n",
      "current epoch: 61 current mean dice: 0.7925\n",
      "val loss:  0.4023272496461868\n",
      "----------\n",
      "epoch 62/100\n",
      "epoch 62 average loss: 0.3029\n",
      "savepath:  /kvh4/optic_disc/models/dice_ensemble/04_UNet_cup/epoch_62.pth\n",
      "saved model\n",
      "current epoch: 62 current mean dice: 0.7988\n",
      "val loss:  0.3900622808933258\n",
      "----------\n",
      "epoch 63/100\n",
      "epoch 63 average loss: 0.2802\n",
      "savepath:  /kvh4/optic_disc/models/dice_ensemble/04_UNet_cup/epoch_63.pth\n",
      "saved model\n",
      "current epoch: 63 current mean dice: 0.7425\n",
      "val loss:  0.4064070415496826\n",
      "----------\n",
      "epoch 64/100\n",
      "epoch 64 average loss: 0.2595\n",
      "savepath:  /kvh4/optic_disc/models/dice_ensemble/04_UNet_cup/epoch_64.pth\n",
      "saved model\n",
      "current epoch: 64 current mean dice: 0.8046\n",
      "val loss:  0.36116289675235747\n",
      "----------\n",
      "epoch 65/100\n",
      "epoch 65 average loss: 0.2414\n",
      "savepath:  /kvh4/optic_disc/models/dice_ensemble/04_UNet_cup/epoch_65.pth\n",
      "saved model\n",
      "current epoch: 65 current mean dice: 0.8485\n",
      "val loss:  0.32105809211730957\n",
      "----------\n",
      "epoch 66/100\n",
      "epoch 66 average loss: 0.2255\n",
      "savepath:  /kvh4/optic_disc/models/dice_ensemble/04_UNet_cup/epoch_66.pth\n",
      "saved model\n",
      "current epoch: 66 current mean dice: 0.8341\n",
      "val loss:  0.3161573016643524\n",
      "----------\n",
      "epoch 67/100\n",
      "epoch 67 average loss: 0.2118\n",
      "savepath:  /kvh4/optic_disc/models/dice_ensemble/04_UNet_cup/epoch_67.pth\n",
      "saved model\n",
      "current epoch: 67 current mean dice: 0.8203\n",
      "val loss:  0.3139370083808899\n",
      "----------\n",
      "epoch 68/100\n",
      "epoch 68 average loss: 0.1990\n",
      "savepath:  /kvh4/optic_disc/models/dice_ensemble/04_UNet_cup/epoch_68.pth\n",
      "saved model\n",
      "current epoch: 68 current mean dice: 0.8475\n",
      "val loss:  0.28392506897449493\n",
      "----------\n",
      "epoch 69/100\n",
      "epoch 69 average loss: 0.1878\n",
      "savepath:  /kvh4/optic_disc/models/dice_ensemble/04_UNet_cup/epoch_69.pth\n",
      "saved model\n",
      "current epoch: 69 current mean dice: 0.8525\n",
      "val loss:  0.27218849420547486\n",
      "----------\n",
      "epoch 70/100\n",
      "epoch 70 average loss: 0.1777\n",
      "savepath:  /kvh4/optic_disc/models/dice_ensemble/04_UNet_cup/epoch_70.pth\n",
      "saved model\n",
      "current epoch: 70 current mean dice: 0.8488\n",
      "val loss:  0.268801891207695\n",
      "----------\n",
      "epoch 71/100\n",
      "epoch 71 average loss: 0.1679\n",
      "savepath:  /kvh4/optic_disc/models/dice_ensemble/04_UNet_cup/epoch_71.pth\n",
      "saved model\n",
      "current epoch: 71 current mean dice: 0.7763\n",
      "val loss:  0.3172717601060867\n",
      "----------\n",
      "epoch 72/100\n",
      "epoch 72 average loss: 0.1597\n",
      "savepath:  /kvh4/optic_disc/models/dice_ensemble/04_UNet_cup/epoch_72.pth\n",
      "saved model\n",
      "current epoch: 72 current mean dice: 0.8317\n",
      "val loss:  0.26850044548511504\n",
      "----------\n",
      "epoch 73/100\n",
      "epoch 73 average loss: 0.1537\n",
      "savepath:  /kvh4/optic_disc/models/dice_ensemble/04_UNet_cup/epoch_73.pth\n",
      "saved model\n",
      "current epoch: 73 current mean dice: 0.8222\n",
      "val loss:  0.26538240611553193\n",
      "----------\n",
      "epoch 74/100\n",
      "epoch 74 average loss: 0.1464\n",
      "savepath:  /kvh4/optic_disc/models/dice_ensemble/04_UNet_cup/epoch_74.pth\n",
      "saved model\n",
      "current epoch: 74 current mean dice: 0.8361\n",
      "val loss:  0.25037752091884613\n",
      "----------\n",
      "epoch 75/100\n",
      "epoch 75 average loss: 0.1404\n",
      "savepath:  /kvh4/optic_disc/models/dice_ensemble/04_UNet_cup/epoch_75.pth\n",
      "saved model\n",
      "current epoch: 75 current mean dice: 0.8284\n",
      "val loss:  0.2527937388420105\n",
      "----------\n",
      "epoch 76/100\n",
      "epoch 76 average loss: 0.1346\n",
      "savepath:  /kvh4/optic_disc/models/dice_ensemble/04_UNet_cup/epoch_76.pth\n",
      "saved model\n",
      "current epoch: 76 current mean dice: 0.8340\n",
      "val loss:  0.24204533219337462\n",
      "----------\n",
      "epoch 77/100\n",
      "epoch 77 average loss: 0.1282\n",
      "savepath:  /kvh4/optic_disc/models/dice_ensemble/04_UNet_cup/epoch_77.pth\n",
      "saved model\n",
      "current epoch: 77 current mean dice: 0.8211\n",
      "val loss:  0.24762871980667114\n",
      "----------\n",
      "epoch 78/100\n",
      "epoch 78 average loss: 0.1232\n",
      "savepath:  /kvh4/optic_disc/models/dice_ensemble/04_UNet_cup/epoch_78.pth\n",
      "saved model\n",
      "current epoch: 78 current mean dice: 0.8096\n",
      "val loss:  0.25386730551719666\n",
      "----------\n",
      "epoch 79/100\n"
     ]
    },
    {
     "name": "stdout",
     "output_type": "stream",
     "text": [
      "epoch 79 average loss: 0.1184\n",
      "savepath:  /kvh4/optic_disc/models/dice_ensemble/04_UNet_cup/epoch_79.pth\n",
      "saved model\n",
      "current epoch: 79 current mean dice: 0.8323\n",
      "val loss:  0.23308429956436158\n",
      "----------\n",
      "epoch 80/100\n",
      "epoch 80 average loss: 0.1152\n",
      "savepath:  /kvh4/optic_disc/models/dice_ensemble/04_UNet_cup/epoch_80.pth\n",
      "saved model\n",
      "current epoch: 80 current mean dice: 0.8382\n",
      "val loss:  0.22445497214794158\n",
      "----------\n",
      "epoch 81/100\n",
      "epoch 81 average loss: 0.1112\n",
      "savepath:  /kvh4/optic_disc/models/dice_ensemble/04_UNet_cup/epoch_81.pth\n",
      "saved model\n",
      "current epoch: 81 current mean dice: 0.8062\n",
      "val loss:  0.24699480652809144\n",
      "----------\n",
      "epoch 82/100\n",
      "epoch 82 average loss: 0.1075\n",
      "savepath:  /kvh4/optic_disc/models/dice_ensemble/04_UNet_cup/epoch_82.pth\n",
      "saved model\n",
      "current epoch: 82 current mean dice: 0.8561\n",
      "val loss:  0.20294968605041505\n",
      "----------\n",
      "epoch 83/100\n",
      "epoch 83 average loss: 0.1033\n",
      "savepath:  /kvh4/optic_disc/models/dice_ensemble/04_UNet_cup/epoch_83.pth\n",
      "saved model\n",
      "current epoch: 83 current mean dice: 0.8378\n",
      "val loss:  0.2156795084476471\n",
      "----------\n",
      "epoch 84/100\n",
      "epoch 84 average loss: 0.1014\n",
      "savepath:  /kvh4/optic_disc/models/dice_ensemble/04_UNet_cup/epoch_84.pth\n",
      "saved model\n",
      "current epoch: 84 current mean dice: 0.8303\n",
      "val loss:  0.2203063815832138\n",
      "----------\n",
      "epoch 85/100\n",
      "epoch 85 average loss: 0.0987\n",
      "savepath:  /kvh4/optic_disc/models/dice_ensemble/04_UNet_cup/epoch_85.pth\n",
      "saved model\n",
      "current epoch: 85 current mean dice: 0.7901\n",
      "val loss:  0.2547403925657272\n",
      "----------\n",
      "epoch 86/100\n",
      "epoch 86 average loss: 0.0965\n",
      "savepath:  /kvh4/optic_disc/models/dice_ensemble/04_UNet_cup/epoch_86.pth\n",
      "saved model\n",
      "current epoch: 86 current mean dice: 0.8433\n",
      "val loss:  0.20404772579669953\n",
      "----------\n",
      "epoch 87/100\n",
      "epoch 87 average loss: 0.0929\n",
      "savepath:  /kvh4/optic_disc/models/dice_ensemble/04_UNet_cup/epoch_87.pth\n",
      "saved model\n",
      "current epoch: 87 current mean dice: 0.8443\n",
      "val loss:  0.2018205612897873\n",
      "----------\n",
      "epoch 88/100\n",
      "epoch 88 average loss: 0.0903\n",
      "savepath:  /kvh4/optic_disc/models/dice_ensemble/04_UNet_cup/epoch_88.pth\n",
      "saved model\n",
      "current epoch: 88 current mean dice: 0.8391\n",
      "val loss:  0.20319494485855102\n",
      "----------\n",
      "epoch 89/100\n",
      "epoch 89 average loss: 0.0884\n",
      "savepath:  /kvh4/optic_disc/models/dice_ensemble/04_UNet_cup/epoch_89.pth\n",
      "saved model\n",
      "current epoch: 89 current mean dice: 0.8332\n",
      "val loss:  0.20884713172912597\n",
      "----------\n",
      "epoch 90/100\n",
      "epoch 90 average loss: 0.0867\n",
      "savepath:  /kvh4/optic_disc/models/dice_ensemble/04_UNet_cup/epoch_90.pth\n",
      "saved model\n",
      "current epoch: 90 current mean dice: 0.8540\n",
      "val loss:  0.18743919491767883\n",
      "----------\n",
      "epoch 91/100\n",
      "epoch 91 average loss: 0.0844\n",
      "savepath:  /kvh4/optic_disc/models/dice_ensemble/04_UNet_cup/epoch_91.pth\n",
      "saved model\n",
      "current epoch: 91 current mean dice: 0.8613\n",
      "val loss:  0.17759978175163268\n",
      "----------\n",
      "epoch 92/100\n",
      "epoch 92 average loss: 0.0848\n",
      "savepath:  /kvh4/optic_disc/models/dice_ensemble/04_UNet_cup/epoch_92.pth\n",
      "saved model\n",
      "current epoch: 92 current mean dice: 0.7964\n",
      "val loss:  0.23960533022880554\n",
      "----------\n",
      "epoch 93/100\n",
      "epoch 93 average loss: 0.0812\n",
      "savepath:  /kvh4/optic_disc/models/dice_ensemble/04_UNet_cup/epoch_93.pth\n",
      "saved model\n",
      "current epoch: 93 current mean dice: 0.8487\n",
      "val loss:  0.1856965333223343\n",
      "----------\n",
      "epoch 94/100\n",
      "epoch 94 average loss: 0.0793\n",
      "savepath:  /kvh4/optic_disc/models/dice_ensemble/04_UNet_cup/epoch_94.pth\n",
      "saved model\n",
      "current epoch: 94 current mean dice: 0.8600\n",
      "val loss:  0.17462917327880859\n",
      "----------\n",
      "epoch 95/100\n",
      "epoch 95 average loss: 0.0812\n",
      "savepath:  /kvh4/optic_disc/models/dice_ensemble/04_UNet_cup/epoch_95.pth\n",
      "saved model\n",
      "current epoch: 95 current mean dice: 0.8337\n",
      "val loss:  0.2013668817281723\n",
      "----------\n",
      "epoch 96/100\n",
      "epoch 96 average loss: 0.0774\n",
      "savepath:  /kvh4/optic_disc/models/dice_ensemble/04_UNet_cup/epoch_96.pth\n",
      "saved model\n",
      "current epoch: 96 current mean dice: 0.8384\n",
      "val loss:  0.1925026321411133\n",
      "----------\n",
      "epoch 97/100\n",
      "epoch 97 average loss: 0.0743\n",
      "savepath:  /kvh4/optic_disc/models/dice_ensemble/04_UNet_cup/epoch_97.pth\n",
      "saved model\n",
      "current epoch: 97 current mean dice: 0.8574\n",
      "val loss:  0.17253099918365478\n",
      "----------\n",
      "epoch 98/100\n",
      "epoch 98 average loss: 0.0755\n",
      "savepath:  /kvh4/optic_disc/models/dice_ensemble/04_UNet_cup/epoch_98.pth\n",
      "saved model\n",
      "current epoch: 98 current mean dice: 0.8451\n",
      "val loss:  0.1835991609096527\n",
      "----------\n",
      "epoch 99/100\n",
      "epoch 99 average loss: 0.0731\n",
      "savepath:  /kvh4/optic_disc/models/dice_ensemble/04_UNet_cup/epoch_99.pth\n",
      "saved model\n",
      "current epoch: 99 current mean dice: 0.8538\n",
      "val loss:  0.17536988914012908\n",
      "----------\n",
      "epoch 100/100\n",
      "epoch 100 average loss: 0.0723\n",
      "savepath:  /kvh4/optic_disc/models/dice_ensemble/04_UNet_cup/epoch_100.pth\n",
      "saved model\n",
      "current epoch: 100 current mean dice: 0.8578\n",
      "val loss:  0.17116628468036652\n"
     ]
    }
   ],
   "source": [
    "train_dice(**training_params_4)"
   ]
  },
  {
   "cell_type": "code",
   "execution_count": 139,
   "metadata": {},
   "outputs": [],
   "source": [
    "model_path = training_params_4[\"model_dir\"]\n",
    "\n",
    "train_loss = np.load(os.path.join(model_path, \"epoch_loss.npy\"))\n",
    "val_loss = np.load(os.path.join(model_path, \"val_loss.npy\"))\n",
    "val_metrics = np.load(os.path.join(model_path, \"val_metrics.npy\"))"
   ]
  },
  {
   "cell_type": "code",
   "execution_count": 140,
   "metadata": {},
   "outputs": [
    {
     "data": {
      "text/plain": [
       "<matplotlib.legend.Legend at 0x7f273d2cc748>"
      ]
     },
     "execution_count": 140,
     "metadata": {},
     "output_type": "execute_result"
    },
    {
     "data": {
      "image/png": "[encoded data removed]",
      "text/plain": [
       "<Figure size 432x288 with 1 Axes>"
      ]
     },
     "metadata": {
      "needs_background": "light"
     },
     "output_type": "display_data"
    }
   ],
   "source": [
    "plt.plot(train_loss, label=\"training\")\n",
    "plt.plot(val_loss, label=\"validation\")\n",
    "plt.plot(val_metrics, label=\"validation Dice\")\n",
    "plt.xlabel(\"epoch\")\n",
    "plt.legend()"
   ]
  },
  {
   "cell_type": "code",
   "execution_count": 141,
   "metadata": {},
   "outputs": [],
   "source": [
    "eval_epoch_4 = 91"
   ]
  },
  {
   "cell_type": "code",
   "execution_count": 142,
   "metadata": {},
   "outputs": [],
   "source": [
    "inference_parameters_training_4 = {\"model_dir\": training_params_4[\"model_dir\"], \n",
    "                         \"model_epoch\": eval_epoch_4,\n",
    "                         \"test_images\": data_dict[\"training_images\"],\n",
    "                         \"test_gt\": data_dict[\"training_gt\"], \n",
    "                         \"save_dir\": os.path.join(training_params_4[\"model_dir\"], \\\n",
    "                                                  \"training_pred_epoch_\"+str(eval_epoch_4))}"
   ]
  },
  {
   "cell_type": "code",
   "execution_count": 143,
   "metadata": {},
   "outputs": [
    {
     "name": "stdout",
     "output_type": "stream",
     "text": [
      "finished inference\n"
     ]
    }
   ],
   "source": [
    "run_inference(**inference_parameters_training_4)"
   ]
  },
  {
   "cell_type": "code",
   "execution_count": 144,
   "metadata": {},
   "outputs": [],
   "source": [
    "inference_parameters_test_4 = {\"model_dir\": training_params_4[\"model_dir\"], \n",
    "                         \"model_epoch\": eval_epoch_4,\n",
    "                         \"test_images\": data_dict[\"test_images\"],\n",
    "                         \"test_gt\": data_dict[\"test_gt\"], \n",
    "                         \"save_dir\": os.path.join(training_params_4[\"model_dir\"], \\\n",
    "                                                  \"test_pred_epoch_\"+str(eval_epoch_4))}"
   ]
  },
  {
   "cell_type": "code",
   "execution_count": 145,
   "metadata": {},
   "outputs": [
    {
     "name": "stdout",
     "output_type": "stream",
     "text": [
      "finished inference\n"
     ]
    }
   ],
   "source": [
    "run_inference(**inference_parameters_test_4)"
   ]
  },
  {
   "cell_type": "code",
   "execution_count": 146,
   "metadata": {},
   "outputs": [],
   "source": [
    "inference_parameters_glaucoma_4 = {\"model_dir\": training_params_4[\"model_dir\"], \n",
    "                         \"model_epoch\": eval_epoch_4,\n",
    "                         \"test_images\": glaucoma_images,\n",
    "                         \"test_gt\": glaucoma_gt, \n",
    "                         \"save_dir\": os.path.join(training_params_4[\"model_dir\"], \\\n",
    "                                                  \"glaucoma_pred_epoch_\"+str(eval_epoch_4))}"
   ]
  },
  {
   "cell_type": "code",
   "execution_count": 147,
   "metadata": {},
   "outputs": [
    {
     "name": "stdout",
     "output_type": "stream",
     "text": [
      "finished inference\n"
     ]
    }
   ],
   "source": [
    "run_inference(**inference_parameters_glaucoma_4)"
   ]
  },
  {
   "cell_type": "code",
   "execution_count": 148,
   "metadata": {},
   "outputs": [
    {
     "data": {
      "image/png": "[encoded data removed]",
      "text/plain": [
       "<Figure size 432x288 with 1 Axes>"
      ]
     },
     "metadata": {
      "needs_background": "light"
     },
     "output_type": "display_data"
    }
   ],
   "source": [
    "model_dir = training_params_4[\"model_dir\"]\n",
    "eval_dict_4 = {\"gt_dir_ng\": gt_dir_ng,\n",
    "             \"gt_dir_g\": gt_dir_g, \n",
    "             \"pred_dir_training\": os.path.join(model_dir, \"training_pred_epoch_\"+str(eval_epoch_4)),\n",
    "             \"pred_dir_test\": os.path.join(model_dir, \"test_pred_epoch_\"+str(eval_epoch_4)), \n",
    "             \"pred_dir_g\": os.path.join(model_dir, \"glaucoma_pred_epoch_\"+str(eval_epoch_4)), \n",
    "             \"sampling\": False}\n",
    "\n",
    "dice_seed_4_eval = eval_mean_uncertainty(**eval_dict_4)"
   ]
  },
  {
   "cell_type": "markdown",
   "metadata": {},
   "source": [
    "### seed = 5"
   ]
  },
  {
   "cell_type": "code",
   "execution_count": null,
   "metadata": {
    "scrolled": true
   },
   "outputs": [],
   "source": [
    "training_params_5 = {\"seed\": 5, \n",
    "                   \"training_images\": data_dict[\"training_images\"],\n",
    "                  \"training_gt\": data_dict[\"training_gt\"], \n",
    "                  \"validation_images\": data_dict[\"validation_images\"],\n",
    "                  \"validation_gt\": data_dict[\"validation_gt\"],\n",
    "                  \"epoch_num\": 100,\n",
    "                  \"model_dir\": \"/kvh4/optic_disc/models/dice_ensemble/05_UNet_cup\",\n",
    "                  \"p_dropout\": 0.0}"
   ]
  },
  {
   "cell_type": "code",
   "execution_count": 150,
   "metadata": {},
   "outputs": [],
   "source": [
    "model_path = training_params_5[\"model_dir\"]\n",
    "if not os.path.exists(model_path):\n",
    "    os.makedirs(model_path)\n",
    "    \n",
    "with open(os.path.join(model_path, \"training_params.pkl\"), 'wb') as file:\n",
    "      \n",
    "    # A new file will be created\n",
    "    pickle.dump(training_params_5, file)"
   ]
  },
  {
   "cell_type": "code",
   "execution_count": 154,
   "metadata": {
    "scrolled": true
   },
   "outputs": [
    {
     "name": "stdout",
     "output_type": "stream",
     "text": [
      "----------\n",
      "epoch 1/100\n",
      "epoch 1 average loss: 0.9522\n",
      "savepath:  /kvh4/optic_disc/models/dice_ensemble/05_UNet_cup/epoch_1.pth\n",
      "saved model\n"
     ]
    },
    {
     "name": "stderr",
     "output_type": "stream",
     "text": [
      "y_pred has only one channel, include_background=False ignored.\n"
     ]
    },
    {
     "name": "stdout",
     "output_type": "stream",
     "text": [
      "current epoch: 1 current mean dice: 0.0898\n",
      "val loss:  0.9528392606973648\n",
      "----------\n",
      "epoch 2/100\n",
      "epoch 2 average loss: 0.9414\n",
      "savepath:  /kvh4/optic_disc/models/dice_ensemble/05_UNet_cup/epoch_2.pth\n",
      "saved model\n",
      "current epoch: 2 current mean dice: 0.0995\n",
      "val loss:  0.9417003256082535\n",
      "----------\n",
      "epoch 3/100\n",
      "epoch 3 average loss: 0.9347\n",
      "savepath:  /kvh4/optic_disc/models/dice_ensemble/05_UNet_cup/epoch_3.pth\n",
      "saved model\n",
      "current epoch: 3 current mean dice: 0.1287\n",
      "val loss:  0.9362436532974243\n",
      "----------\n",
      "epoch 4/100\n",
      "epoch 4 average loss: 0.9303\n",
      "savepath:  /kvh4/optic_disc/models/dice_ensemble/05_UNet_cup/epoch_4.pth\n",
      "saved model\n",
      "current epoch: 4 current mean dice: 0.1595\n",
      "val loss:  0.9313601422309875\n",
      "----------\n",
      "epoch 5/100\n",
      "epoch 5 average loss: 0.9260\n",
      "savepath:  /kvh4/optic_disc/models/dice_ensemble/05_UNet_cup/epoch_5.pth\n",
      "saved model\n",
      "current epoch: 5 current mean dice: 0.1924\n",
      "val loss:  0.9265272301435471\n",
      "----------\n",
      "epoch 6/100\n",
      "epoch 6 average loss: 0.9216\n",
      "savepath:  /kvh4/optic_disc/models/dice_ensemble/05_UNet_cup/epoch_6.pth\n",
      "saved model\n",
      "current epoch: 6 current mean dice: 0.1989\n",
      "val loss:  0.9253467977046966\n",
      "----------\n",
      "epoch 7/100\n",
      "epoch 7 average loss: 0.9167\n",
      "savepath:  /kvh4/optic_disc/models/dice_ensemble/05_UNet_cup/epoch_7.pth\n",
      "saved model\n",
      "current epoch: 7 current mean dice: 0.2234\n",
      "val loss:  0.9184191459417343\n",
      "----------\n",
      "epoch 8/100\n",
      "epoch 8 average loss: 0.9111\n",
      "savepath:  /kvh4/optic_disc/models/dice_ensemble/05_UNet_cup/epoch_8.pth\n",
      "saved model\n",
      "current epoch: 8 current mean dice: 0.2334\n",
      "val loss:  0.9145810496807099\n",
      "----------\n",
      "epoch 9/100\n",
      "epoch 9 average loss: 0.9046\n",
      "savepath:  /kvh4/optic_disc/models/dice_ensemble/05_UNet_cup/epoch_9.pth\n",
      "saved model\n",
      "current epoch: 9 current mean dice: 0.2544\n",
      "val loss:  0.9052484887838363\n",
      "----------\n",
      "epoch 10/100\n",
      "epoch 10 average loss: 0.8960\n",
      "savepath:  /kvh4/optic_disc/models/dice_ensemble/05_UNet_cup/epoch_10.pth\n",
      "saved model\n",
      "current epoch: 10 current mean dice: 0.2643\n",
      "val loss:  0.898959043622017\n",
      "----------\n",
      "epoch 11/100\n",
      "epoch 11 average loss: 0.8838\n",
      "savepath:  /kvh4/optic_disc/models/dice_ensemble/05_UNet_cup/epoch_11.pth\n",
      "saved model\n",
      "current epoch: 11 current mean dice: 0.2773\n",
      "val loss:  0.8798980224132538\n",
      "----------\n",
      "epoch 12/100\n",
      "epoch 12 average loss: 0.8714\n",
      "savepath:  /kvh4/optic_disc/models/dice_ensemble/05_UNet_cup/epoch_12.pth\n",
      "saved model\n",
      "current epoch: 12 current mean dice: 0.2901\n",
      "val loss:  0.8800252199172973\n",
      "----------\n",
      "epoch 13/100\n",
      "epoch 13 average loss: 0.8561\n",
      "savepath:  /kvh4/optic_disc/models/dice_ensemble/05_UNet_cup/epoch_13.pth\n",
      "saved model\n",
      "current epoch: 13 current mean dice: 0.2890\n",
      "val loss:  0.858958620429039\n",
      "----------\n",
      "epoch 14/100\n",
      "epoch 14 average loss: 0.8405\n",
      "savepath:  /kvh4/optic_disc/models/dice_ensemble/05_UNet_cup/epoch_14.pth\n",
      "saved model\n",
      "current epoch: 14 current mean dice: 0.2926\n",
      "val loss:  0.8472945576906205\n",
      "----------\n",
      "epoch 15/100\n",
      "epoch 15 average loss: 0.8232\n",
      "savepath:  /kvh4/optic_disc/models/dice_ensemble/05_UNet_cup/epoch_15.pth\n",
      "saved model\n",
      "current epoch: 15 current mean dice: 0.3001\n",
      "val loss:  0.8282832539081574\n",
      "----------\n",
      "epoch 16/100\n",
      "epoch 16 average loss: 0.8076\n",
      "savepath:  /kvh4/optic_disc/models/dice_ensemble/05_UNet_cup/epoch_16.pth\n",
      "saved model\n",
      "current epoch: 16 current mean dice: 0.3061\n",
      "val loss:  0.8157481926679612\n",
      "----------\n",
      "epoch 17/100\n",
      "epoch 17 average loss: 0.7959\n",
      "savepath:  /kvh4/optic_disc/models/dice_ensemble/05_UNet_cup/epoch_17.pth\n",
      "saved model\n",
      "current epoch: 17 current mean dice: 0.3180\n",
      "val loss:  0.8000071340799332\n",
      "----------\n",
      "epoch 18/100\n",
      "epoch 18 average loss: 0.7802\n",
      "savepath:  /kvh4/optic_disc/models/dice_ensemble/05_UNet_cup/epoch_18.pth\n",
      "saved model\n",
      "current epoch: 18 current mean dice: 0.3162\n",
      "val loss:  0.8050743842124939\n",
      "----------\n",
      "epoch 19/100\n",
      "epoch 19 average loss: 0.7671\n",
      "savepath:  /kvh4/optic_disc/models/dice_ensemble/05_UNet_cup/epoch_19.pth\n",
      "saved model\n",
      "current epoch: 19 current mean dice: 0.3159\n",
      "val loss:  0.7773103231191635\n",
      "----------\n",
      "epoch 20/100\n",
      "epoch 20 average loss: 0.7565\n",
      "savepath:  /kvh4/optic_disc/models/dice_ensemble/05_UNet_cup/epoch_20.pth\n",
      "saved model\n",
      "current epoch: 20 current mean dice: 0.3474\n",
      "val loss:  0.7618920457363129\n",
      "----------\n",
      "epoch 21/100\n",
      "epoch 21 average loss: 0.7447\n",
      "savepath:  /kvh4/optic_disc/models/dice_ensemble/05_UNet_cup/epoch_21.pth\n",
      "saved model\n",
      "current epoch: 21 current mean dice: 0.3211\n",
      "val loss:  0.7690974515676499\n",
      "----------\n",
      "epoch 22/100\n",
      "epoch 22 average loss: 0.7388\n",
      "savepath:  /kvh4/optic_disc/models/dice_ensemble/05_UNet_cup/epoch_22.pth\n",
      "saved model\n",
      "current epoch: 22 current mean dice: 0.3148\n",
      "val loss:  0.758293086886406\n",
      "----------\n",
      "epoch 23/100\n",
      "epoch 23 average loss: 0.7205\n",
      "savepath:  /kvh4/optic_disc/models/dice_ensemble/05_UNet_cup/epoch_23.pth\n",
      "saved model\n",
      "current epoch: 23 current mean dice: 0.3351\n",
      "val loss:  0.7389113229513168\n",
      "----------\n",
      "epoch 24/100\n",
      "epoch 24 average loss: 0.7145\n",
      "savepath:  /kvh4/optic_disc/models/dice_ensemble/05_UNet_cup/epoch_24.pth\n",
      "saved model\n",
      "current epoch: 24 current mean dice: 0.3491\n",
      "val loss:  0.7238913923501968\n",
      "----------\n",
      "epoch 25/100\n",
      "epoch 25 average loss: 0.7113\n",
      "savepath:  /kvh4/optic_disc/models/dice_ensemble/05_UNet_cup/epoch_25.pth\n",
      "saved model\n",
      "current epoch: 25 current mean dice: 0.3616\n",
      "val loss:  0.7178359663486481\n",
      "----------\n",
      "epoch 26/100\n",
      "epoch 26 average loss: 0.7006\n",
      "savepath:  /kvh4/optic_disc/models/dice_ensemble/05_UNet_cup/epoch_26.pth\n",
      "saved model\n",
      "current epoch: 26 current mean dice: 0.3830\n",
      "val loss:  0.7078164392709732\n",
      "----------\n",
      "epoch 27/100\n",
      "epoch 27 average loss: 0.6907\n",
      "savepath:  /kvh4/optic_disc/models/dice_ensemble/05_UNet_cup/epoch_27.pth\n",
      "saved model\n",
      "current epoch: 27 current mean dice: 0.3688\n",
      "val loss:  0.7168586707115173\n",
      "----------\n",
      "epoch 28/100\n",
      "epoch 28 average loss: 0.6881\n",
      "savepath:  /kvh4/optic_disc/models/dice_ensemble/05_UNet_cup/epoch_28.pth\n",
      "saved model\n",
      "current epoch: 28 current mean dice: 0.3701\n",
      "val loss:  0.7064719265699386\n",
      "----------\n",
      "epoch 29/100\n",
      "epoch 29 average loss: 0.6805\n",
      "savepath:  /kvh4/optic_disc/models/dice_ensemble/05_UNet_cup/epoch_29.pth\n",
      "saved model\n",
      "current epoch: 29 current mean dice: 0.3868\n",
      "val loss:  0.6934235113859176\n",
      "----------\n",
      "epoch 30/100\n",
      "epoch 30 average loss: 0.6708\n",
      "savepath:  /kvh4/optic_disc/models/dice_ensemble/05_UNet_cup/epoch_30.pth\n",
      "saved model\n",
      "current epoch: 30 current mean dice: 0.3826\n",
      "val loss:  0.6886170959472656\n",
      "----------\n",
      "epoch 31/100\n",
      "epoch 31 average loss: 0.6606\n",
      "savepath:  /kvh4/optic_disc/models/dice_ensemble/05_UNet_cup/epoch_31.pth\n",
      "saved model\n",
      "current epoch: 31 current mean dice: 0.4273\n",
      "val loss:  0.6523168921470642\n",
      "----------\n",
      "epoch 32/100\n",
      "epoch 32 average loss: 0.6507\n",
      "savepath:  /kvh4/optic_disc/models/dice_ensemble/05_UNet_cup/epoch_32.pth\n",
      "saved model\n",
      "current epoch: 32 current mean dice: 0.3881\n",
      "val loss:  0.6782972872257232\n",
      "----------\n",
      "epoch 33/100\n",
      "epoch 33 average loss: 0.6456\n",
      "savepath:  /kvh4/optic_disc/models/dice_ensemble/05_UNet_cup/epoch_33.pth\n",
      "saved model\n",
      "current epoch: 33 current mean dice: 0.4176\n",
      "val loss:  0.6557235586643219\n",
      "----------\n",
      "epoch 34/100\n",
      "epoch 34 average loss: 0.6438\n",
      "savepath:  /kvh4/optic_disc/models/dice_ensemble/05_UNet_cup/epoch_34.pth\n",
      "saved model\n",
      "current epoch: 34 current mean dice: 0.4786\n",
      "val loss:  0.6183434838056564\n",
      "----------\n",
      "epoch 35/100\n",
      "epoch 35 average loss: 0.6308\n",
      "savepath:  /kvh4/optic_disc/models/dice_ensemble/05_UNet_cup/epoch_35.pth\n",
      "saved model\n",
      "current epoch: 35 current mean dice: 0.4323\n",
      "val loss:  0.6502360308170319\n",
      "----------\n",
      "epoch 36/100\n",
      "epoch 36 average loss: 0.6210\n",
      "savepath:  /kvh4/optic_disc/models/dice_ensemble/05_UNet_cup/epoch_36.pth\n",
      "saved model\n",
      "current epoch: 36 current mean dice: 0.4030\n",
      "val loss:  0.6650751650333404\n",
      "----------\n",
      "epoch 37/100\n",
      "epoch 37 average loss: 0.6141\n",
      "savepath:  /kvh4/optic_disc/models/dice_ensemble/05_UNet_cup/epoch_37.pth\n",
      "saved model\n",
      "current epoch: 37 current mean dice: 0.4781\n",
      "val loss:  0.6241995149850845\n",
      "----------\n",
      "epoch 38/100\n",
      "epoch 38 average loss: 0.6048\n",
      "savepath:  /kvh4/optic_disc/models/dice_ensemble/05_UNet_cup/epoch_38.pth\n",
      "saved model\n",
      "current epoch: 38 current mean dice: 0.4912\n",
      "val loss:  0.6123759883642197\n",
      "----------\n",
      "epoch 39/100\n",
      "epoch 39 average loss: 0.5964\n",
      "savepath:  /kvh4/optic_disc/models/dice_ensemble/05_UNet_cup/epoch_39.pth\n",
      "saved model\n",
      "current epoch: 39 current mean dice: 0.4687\n",
      "val loss:  0.6235715329647065\n",
      "----------\n",
      "epoch 40/100\n"
     ]
    },
    {
     "name": "stdout",
     "output_type": "stream",
     "text": [
      "epoch 40 average loss: 0.5876\n",
      "savepath:  /kvh4/optic_disc/models/dice_ensemble/05_UNet_cup/epoch_40.pth\n",
      "saved model\n",
      "current epoch: 40 current mean dice: 0.5154\n",
      "val loss:  0.5997953754663468\n",
      "----------\n",
      "epoch 41/100\n",
      "epoch 41 average loss: 0.5790\n",
      "savepath:  /kvh4/optic_disc/models/dice_ensemble/05_UNet_cup/epoch_41.pth\n",
      "saved model\n",
      "current epoch: 41 current mean dice: 0.4824\n",
      "val loss:  0.6167822003364563\n",
      "----------\n",
      "epoch 42/100\n",
      "epoch 42 average loss: 0.5667\n",
      "savepath:  /kvh4/optic_disc/models/dice_ensemble/05_UNet_cup/epoch_42.pth\n",
      "saved model\n",
      "current epoch: 42 current mean dice: 0.5827\n",
      "val loss:  0.5611670035123825\n",
      "----------\n",
      "epoch 43/100\n",
      "epoch 43 average loss: 0.5525\n",
      "savepath:  /kvh4/optic_disc/models/dice_ensemble/05_UNet_cup/epoch_43.pth\n",
      "saved model\n",
      "current epoch: 43 current mean dice: 0.5518\n",
      "val loss:  0.5687727284431457\n",
      "----------\n",
      "epoch 44/100\n",
      "epoch 44 average loss: 0.5399\n",
      "savepath:  /kvh4/optic_disc/models/dice_ensemble/05_UNet_cup/epoch_44.pth\n",
      "saved model\n",
      "current epoch: 44 current mean dice: 0.5646\n",
      "val loss:  0.5546105110645294\n",
      "----------\n",
      "epoch 45/100\n",
      "epoch 45 average loss: 0.5179\n",
      "savepath:  /kvh4/optic_disc/models/dice_ensemble/05_UNet_cup/epoch_45.pth\n",
      "saved model\n",
      "current epoch: 45 current mean dice: 0.5971\n",
      "val loss:  0.5473866313695908\n",
      "----------\n",
      "epoch 46/100\n",
      "epoch 46 average loss: 0.5137\n",
      "savepath:  /kvh4/optic_disc/models/dice_ensemble/05_UNet_cup/epoch_46.pth\n",
      "saved model\n",
      "current epoch: 46 current mean dice: 0.7808\n",
      "val loss:  0.5088865250349045\n",
      "----------\n",
      "epoch 47/100\n",
      "epoch 47 average loss: 0.4786\n",
      "savepath:  /kvh4/optic_disc/models/dice_ensemble/05_UNet_cup/epoch_47.pth\n",
      "saved model\n",
      "current epoch: 47 current mean dice: 0.6904\n",
      "val loss:  0.5558865910768509\n",
      "----------\n",
      "epoch 48/100\n",
      "epoch 48 average loss: 0.4310\n",
      "savepath:  /kvh4/optic_disc/models/dice_ensemble/05_UNet_cup/epoch_48.pth\n",
      "saved model\n",
      "current epoch: 48 current mean dice: 0.7366\n",
      "val loss:  0.5021698874235153\n",
      "----------\n",
      "epoch 49/100\n",
      "epoch 49 average loss: 0.3920\n",
      "savepath:  /kvh4/optic_disc/models/dice_ensemble/05_UNet_cup/epoch_49.pth\n",
      "saved model\n",
      "current epoch: 49 current mean dice: 0.7512\n",
      "val loss:  0.4724384146928787\n",
      "----------\n",
      "epoch 50/100\n",
      "epoch 50 average loss: 0.3590\n",
      "savepath:  /kvh4/optic_disc/models/dice_ensemble/05_UNet_cup/epoch_50.pth\n",
      "saved model\n",
      "current epoch: 50 current mean dice: 0.7653\n",
      "val loss:  0.44077153265476227\n",
      "----------\n",
      "epoch 51/100\n",
      "epoch 51 average loss: 0.3318\n",
      "savepath:  /kvh4/optic_disc/models/dice_ensemble/05_UNet_cup/epoch_51.pth\n",
      "saved model\n",
      "current epoch: 51 current mean dice: 0.8072\n",
      "val loss:  0.4084472835063934\n",
      "----------\n",
      "epoch 52/100\n",
      "epoch 52 average loss: 0.3055\n",
      "savepath:  /kvh4/optic_disc/models/dice_ensemble/05_UNet_cup/epoch_52.pth\n",
      "saved model\n",
      "current epoch: 52 current mean dice: 0.8265\n",
      "val loss:  0.37175864696502686\n",
      "----------\n",
      "epoch 53/100\n",
      "epoch 53 average loss: 0.2832\n",
      "savepath:  /kvh4/optic_disc/models/dice_ensemble/05_UNet_cup/epoch_53.pth\n",
      "saved model\n",
      "current epoch: 53 current mean dice: 0.8064\n",
      "val loss:  0.3682186418771744\n",
      "----------\n",
      "epoch 54/100\n",
      "epoch 54 average loss: 0.2652\n",
      "savepath:  /kvh4/optic_disc/models/dice_ensemble/05_UNet_cup/epoch_54.pth\n",
      "saved model\n",
      "current epoch: 54 current mean dice: 0.8526\n",
      "val loss:  0.3307819837331772\n",
      "----------\n",
      "epoch 55/100\n",
      "epoch 55 average loss: 0.2471\n",
      "savepath:  /kvh4/optic_disc/models/dice_ensemble/05_UNet_cup/epoch_55.pth\n",
      "saved model\n",
      "current epoch: 55 current mean dice: 0.8415\n",
      "val loss:  0.32584252417087556\n",
      "----------\n",
      "epoch 56/100\n",
      "epoch 56 average loss: 0.2307\n",
      "savepath:  /kvh4/optic_disc/models/dice_ensemble/05_UNet_cup/epoch_56.pth\n",
      "saved model\n",
      "current epoch: 56 current mean dice: 0.8446\n",
      "val loss:  0.3076518881320953\n",
      "----------\n",
      "epoch 57/100\n",
      "epoch 57 average loss: 0.2190\n",
      "savepath:  /kvh4/optic_disc/models/dice_ensemble/05_UNet_cup/epoch_57.pth\n",
      "saved model\n",
      "current epoch: 57 current mean dice: 0.8313\n",
      "val loss:  0.3052731591463089\n",
      "----------\n",
      "epoch 58/100\n",
      "epoch 58 average loss: 0.2051\n",
      "savepath:  /kvh4/optic_disc/models/dice_ensemble/05_UNet_cup/epoch_58.pth\n",
      "saved model\n",
      "current epoch: 58 current mean dice: 0.8643\n",
      "val loss:  0.26784838259220123\n",
      "----------\n",
      "epoch 59/100\n",
      "epoch 59 average loss: 0.1941\n",
      "savepath:  /kvh4/optic_disc/models/dice_ensemble/05_UNet_cup/epoch_59.pth\n",
      "saved model\n",
      "current epoch: 59 current mean dice: 0.7966\n",
      "val loss:  0.31116783142089843\n",
      "----------\n",
      "epoch 60/100\n",
      "epoch 60 average loss: 0.1846\n",
      "savepath:  /kvh4/optic_disc/models/dice_ensemble/05_UNet_cup/epoch_60.pth\n",
      "saved model\n",
      "current epoch: 60 current mean dice: 0.8572\n",
      "val loss:  0.2613643425703049\n",
      "----------\n",
      "epoch 61/100\n",
      "epoch 61 average loss: 0.1747\n",
      "savepath:  /kvh4/optic_disc/models/dice_ensemble/05_UNet_cup/epoch_61.pth\n",
      "saved model\n",
      "current epoch: 61 current mean dice: 0.8704\n",
      "val loss:  0.24631864666938783\n",
      "----------\n",
      "epoch 62/100\n",
      "epoch 62 average loss: 0.1671\n",
      "savepath:  /kvh4/optic_disc/models/dice_ensemble/05_UNet_cup/epoch_62.pth\n",
      "saved model\n",
      "current epoch: 62 current mean dice: 0.8689\n",
      "val loss:  0.23866238832473755\n",
      "----------\n",
      "epoch 63/100\n",
      "epoch 63 average loss: 0.1596\n",
      "savepath:  /kvh4/optic_disc/models/dice_ensemble/05_UNet_cup/epoch_63.pth\n",
      "saved model\n",
      "current epoch: 63 current mean dice: 0.8713\n",
      "val loss:  0.2306584322452545\n",
      "----------\n",
      "epoch 64/100\n",
      "epoch 64 average loss: 0.1516\n",
      "savepath:  /kvh4/optic_disc/models/dice_ensemble/05_UNet_cup/epoch_64.pth\n",
      "saved model\n",
      "current epoch: 64 current mean dice: 0.8599\n",
      "val loss:  0.23659847378730775\n",
      "----------\n",
      "epoch 65/100\n",
      "epoch 65 average loss: 0.1450\n",
      "savepath:  /kvh4/optic_disc/models/dice_ensemble/05_UNet_cup/epoch_65.pth\n",
      "saved model\n",
      "current epoch: 65 current mean dice: 0.8766\n",
      "val loss:  0.21553899884223937\n",
      "----------\n",
      "epoch 66/100\n",
      "epoch 66 average loss: 0.1402\n",
      "savepath:  /kvh4/optic_disc/models/dice_ensemble/05_UNet_cup/epoch_66.pth\n",
      "saved model\n",
      "current epoch: 66 current mean dice: 0.8520\n",
      "val loss:  0.22894611001014709\n",
      "----------\n",
      "epoch 67/100\n",
      "epoch 67 average loss: 0.1354\n",
      "savepath:  /kvh4/optic_disc/models/dice_ensemble/05_UNet_cup/epoch_67.pth\n",
      "saved model\n",
      "current epoch: 67 current mean dice: 0.8684\n",
      "val loss:  0.21112096011638642\n",
      "----------\n",
      "epoch 68/100\n",
      "epoch 68 average loss: 0.1315\n",
      "savepath:  /kvh4/optic_disc/models/dice_ensemble/05_UNet_cup/epoch_68.pth\n",
      "saved model\n",
      "current epoch: 68 current mean dice: 0.8749\n",
      "val loss:  0.2035336071252823\n",
      "----------\n",
      "epoch 69/100\n",
      "epoch 69 average loss: 0.1247\n",
      "savepath:  /kvh4/optic_disc/models/dice_ensemble/05_UNet_cup/epoch_69.pth\n",
      "saved model\n",
      "current epoch: 69 current mean dice: 0.8721\n",
      "val loss:  0.2016792666912079\n",
      "----------\n",
      "epoch 70/100\n",
      "epoch 70 average loss: 0.1209\n",
      "savepath:  /kvh4/optic_disc/models/dice_ensemble/05_UNet_cup/epoch_70.pth\n",
      "saved model\n",
      "current epoch: 70 current mean dice: 0.8424\n",
      "val loss:  0.22220508217811585\n",
      "----------\n",
      "epoch 71/100\n",
      "epoch 71 average loss: 0.1185\n",
      "savepath:  /kvh4/optic_disc/models/dice_ensemble/05_UNet_cup/epoch_71.pth\n",
      "saved model\n",
      "current epoch: 71 current mean dice: 0.8621\n",
      "val loss:  0.20287444114685058\n",
      "----------\n",
      "epoch 72/100\n",
      "epoch 72 average loss: 0.1136\n",
      "savepath:  /kvh4/optic_disc/models/dice_ensemble/05_UNet_cup/epoch_72.pth\n",
      "saved model\n",
      "current epoch: 72 current mean dice: 0.8835\n",
      "val loss:  0.18250772416591643\n",
      "----------\n",
      "epoch 73/100\n",
      "epoch 73 average loss: 0.1104\n",
      "savepath:  /kvh4/optic_disc/models/dice_ensemble/05_UNet_cup/epoch_73.pth\n",
      "saved model\n",
      "current epoch: 73 current mean dice: 0.8716\n",
      "val loss:  0.19006255984306336\n",
      "----------\n",
      "epoch 74/100\n",
      "epoch 74 average loss: 0.1073\n",
      "savepath:  /kvh4/optic_disc/models/dice_ensemble/05_UNet_cup/epoch_74.pth\n",
      "saved model\n",
      "current epoch: 74 current mean dice: 0.8619\n",
      "val loss:  0.19848488569259642\n",
      "----------\n",
      "epoch 75/100\n",
      "epoch 75 average loss: 0.1037\n",
      "savepath:  /kvh4/optic_disc/models/dice_ensemble/05_UNet_cup/epoch_75.pth\n",
      "saved model\n",
      "current epoch: 75 current mean dice: 0.8662\n",
      "val loss:  0.18817179441452025\n",
      "----------\n",
      "epoch 76/100\n",
      "epoch 76 average loss: 0.1015\n",
      "savepath:  /kvh4/optic_disc/models/dice_ensemble/05_UNet_cup/epoch_76.pth\n",
      "saved model\n",
      "current epoch: 76 current mean dice: 0.8660\n",
      "val loss:  0.18727984726428987\n",
      "----------\n",
      "epoch 77/100\n",
      "epoch 77 average loss: 0.0996\n",
      "savepath:  /kvh4/optic_disc/models/dice_ensemble/05_UNet_cup/epoch_77.pth\n",
      "saved model\n",
      "current epoch: 77 current mean dice: 0.8800\n",
      "val loss:  0.1722981685400009\n",
      "----------\n",
      "epoch 78/100\n",
      "epoch 78 average loss: 0.0970\n",
      "savepath:  /kvh4/optic_disc/models/dice_ensemble/05_UNet_cup/epoch_78.pth\n",
      "saved model\n"
     ]
    },
    {
     "name": "stdout",
     "output_type": "stream",
     "text": [
      "current epoch: 78 current mean dice: 0.8478\n",
      "val loss:  0.19893278300762177\n",
      "----------\n",
      "epoch 79/100\n",
      "epoch 79 average loss: 0.0952\n",
      "savepath:  /kvh4/optic_disc/models/dice_ensemble/05_UNet_cup/epoch_79.pth\n",
      "saved model\n",
      "current epoch: 79 current mean dice: 0.8837\n",
      "val loss:  0.16323828876018523\n",
      "----------\n",
      "epoch 80/100\n",
      "epoch 80 average loss: 0.0928\n",
      "savepath:  /kvh4/optic_disc/models/dice_ensemble/05_UNet_cup/epoch_80.pth\n",
      "saved model\n",
      "current epoch: 80 current mean dice: 0.8793\n",
      "val loss:  0.16660306870937347\n",
      "----------\n",
      "epoch 81/100\n",
      "epoch 81 average loss: 0.0894\n",
      "savepath:  /kvh4/optic_disc/models/dice_ensemble/05_UNet_cup/epoch_81.pth\n",
      "saved model\n",
      "current epoch: 81 current mean dice: 0.8686\n",
      "val loss:  0.17636143743991853\n",
      "----------\n",
      "epoch 82/100\n",
      "epoch 82 average loss: 0.0888\n",
      "savepath:  /kvh4/optic_disc/models/dice_ensemble/05_UNet_cup/epoch_82.pth\n",
      "saved model\n",
      "current epoch: 82 current mean dice: 0.8698\n",
      "val loss:  0.172942795753479\n",
      "----------\n",
      "epoch 83/100\n",
      "epoch 83 average loss: 0.0872\n",
      "savepath:  /kvh4/optic_disc/models/dice_ensemble/05_UNet_cup/epoch_83.pth\n",
      "saved model\n",
      "current epoch: 83 current mean dice: 0.8822\n",
      "val loss:  0.15928318738937378\n",
      "----------\n",
      "epoch 84/100\n",
      "epoch 84 average loss: 0.0855\n",
      "savepath:  /kvh4/optic_disc/models/dice_ensemble/05_UNet_cup/epoch_84.pth\n",
      "saved model\n",
      "current epoch: 84 current mean dice: 0.8731\n",
      "val loss:  0.16748544216156006\n",
      "----------\n",
      "epoch 85/100\n",
      "epoch 85 average loss: 0.0853\n",
      "savepath:  /kvh4/optic_disc/models/dice_ensemble/05_UNet_cup/epoch_85.pth\n",
      "saved model\n",
      "current epoch: 85 current mean dice: 0.8798\n",
      "val loss:  0.1607160437107086\n",
      "----------\n",
      "epoch 86/100\n",
      "epoch 86 average loss: 0.0820\n",
      "savepath:  /kvh4/optic_disc/models/dice_ensemble/05_UNet_cup/epoch_86.pth\n",
      "saved model\n",
      "current epoch: 86 current mean dice: 0.8600\n",
      "val loss:  0.17691285133361817\n",
      "----------\n",
      "epoch 87/100\n",
      "epoch 87 average loss: 0.0804\n",
      "savepath:  /kvh4/optic_disc/models/dice_ensemble/05_UNet_cup/epoch_87.pth\n",
      "saved model\n",
      "current epoch: 87 current mean dice: 0.8799\n",
      "val loss:  0.15726919054985047\n",
      "----------\n",
      "epoch 88/100\n",
      "epoch 88 average loss: 0.0795\n",
      "savepath:  /kvh4/optic_disc/models/dice_ensemble/05_UNet_cup/epoch_88.pth\n",
      "saved model\n",
      "current epoch: 88 current mean dice: 0.8579\n",
      "val loss:  0.17613147139549257\n",
      "----------\n",
      "epoch 89/100\n",
      "epoch 89 average loss: 0.0786\n",
      "savepath:  /kvh4/optic_disc/models/dice_ensemble/05_UNet_cup/epoch_89.pth\n",
      "saved model\n",
      "current epoch: 89 current mean dice: 0.8869\n",
      "val loss:  0.14737364530563354\n",
      "----------\n",
      "epoch 90/100\n",
      "epoch 90 average loss: 0.0767\n",
      "savepath:  /kvh4/optic_disc/models/dice_ensemble/05_UNet_cup/epoch_90.pth\n",
      "saved model\n",
      "current epoch: 90 current mean dice: 0.8821\n",
      "val loss:  0.15061545491218567\n",
      "----------\n",
      "epoch 91/100\n",
      "epoch 91 average loss: 0.0765\n",
      "savepath:  /kvh4/optic_disc/models/dice_ensemble/05_UNet_cup/epoch_91.pth\n",
      "saved model\n",
      "current epoch: 91 current mean dice: 0.8656\n",
      "val loss:  0.1653924423456192\n",
      "----------\n",
      "epoch 92/100\n",
      "epoch 92 average loss: 0.0748\n",
      "savepath:  /kvh4/optic_disc/models/dice_ensemble/05_UNet_cup/epoch_92.pth\n",
      "saved model\n",
      "current epoch: 92 current mean dice: 0.8702\n",
      "val loss:  0.1588371241092682\n",
      "----------\n",
      "epoch 93/100\n",
      "epoch 93 average loss: 0.0746\n",
      "savepath:  /kvh4/optic_disc/models/dice_ensemble/05_UNet_cup/epoch_93.pth\n",
      "saved model\n",
      "current epoch: 93 current mean dice: 0.8784\n",
      "val loss:  0.15036920487880706\n",
      "----------\n",
      "epoch 94/100\n",
      "epoch 94 average loss: 0.0740\n",
      "savepath:  /kvh4/optic_disc/models/dice_ensemble/05_UNet_cup/epoch_94.pth\n",
      "saved model\n",
      "current epoch: 94 current mean dice: 0.8760\n",
      "val loss:  0.15404144644737244\n",
      "----------\n",
      "epoch 95/100\n",
      "epoch 95 average loss: 0.0718\n",
      "savepath:  /kvh4/optic_disc/models/dice_ensemble/05_UNet_cup/epoch_95.pth\n",
      "saved model\n",
      "current epoch: 95 current mean dice: 0.8739\n",
      "val loss:  0.15494392335414886\n",
      "----------\n",
      "epoch 96/100\n",
      "epoch 96 average loss: 0.0728\n",
      "savepath:  /kvh4/optic_disc/models/dice_ensemble/05_UNet_cup/epoch_96.pth\n",
      "saved model\n",
      "current epoch: 96 current mean dice: 0.8933\n",
      "val loss:  0.13669357299804688\n",
      "----------\n",
      "epoch 97/100\n",
      "epoch 97 average loss: 0.0728\n",
      "savepath:  /kvh4/optic_disc/models/dice_ensemble/05_UNet_cup/epoch_97.pth\n",
      "saved model\n",
      "current epoch: 97 current mean dice: 0.8719\n",
      "val loss:  0.15487254917621612\n",
      "----------\n",
      "epoch 98/100\n",
      "epoch 98 average loss: 0.0701\n",
      "savepath:  /kvh4/optic_disc/models/dice_ensemble/05_UNet_cup/epoch_98.pth\n",
      "saved model\n",
      "current epoch: 98 current mean dice: 0.8789\n",
      "val loss:  0.1482098466157913\n",
      "----------\n",
      "epoch 99/100\n",
      "epoch 99 average loss: 0.0688\n",
      "savepath:  /kvh4/optic_disc/models/dice_ensemble/05_UNet_cup/epoch_99.pth\n",
      "saved model\n",
      "current epoch: 99 current mean dice: 0.8819\n",
      "val loss:  0.1433199679851532\n",
      "----------\n",
      "epoch 100/100\n",
      "epoch 100 average loss: 0.0679\n",
      "savepath:  /kvh4/optic_disc/models/dice_ensemble/05_UNet_cup/epoch_100.pth\n",
      "saved model\n",
      "current epoch: 100 current mean dice: 0.8609\n",
      "val loss:  0.16437983214855195\n"
     ]
    }
   ],
   "source": [
    "train_dice(**training_params_5)"
   ]
  },
  {
   "cell_type": "code",
   "execution_count": 172,
   "metadata": {},
   "outputs": [],
   "source": [
    "model_path = training_params_5[\"model_dir\"]\n",
    "\n",
    "train_loss = np.load(os.path.join(model_path, \"epoch_loss.npy\"))\n",
    "val_loss = np.load(os.path.join(model_path, \"val_loss.npy\"))\n",
    "val_metrics = np.load(os.path.join(model_path, \"val_metrics.npy\"))"
   ]
  },
  {
   "cell_type": "code",
   "execution_count": 173,
   "metadata": {},
   "outputs": [
    {
     "data": {
      "text/plain": [
       "<matplotlib.legend.Legend at 0x7f273d138da0>"
      ]
     },
     "execution_count": 173,
     "metadata": {},
     "output_type": "execute_result"
    },
    {
     "data": {
      "image/png": "[encoded data removed]",
      "text/plain": [
       "<Figure size 432x288 with 1 Axes>"
      ]
     },
     "metadata": {
      "needs_background": "light"
     },
     "output_type": "display_data"
    }
   ],
   "source": [
    "plt.plot(train_loss, label=\"training\")\n",
    "plt.plot(val_loss, label=\"validation\")\n",
    "plt.plot(val_metrics, label=\"validation Dice\")\n",
    "plt.xlabel(\"epoch\")\n",
    "plt.legend()"
   ]
  },
  {
   "cell_type": "code",
   "execution_count": 179,
   "metadata": {},
   "outputs": [],
   "source": [
    "eval_epoch_5 = 89"
   ]
  },
  {
   "cell_type": "code",
   "execution_count": 180,
   "metadata": {},
   "outputs": [],
   "source": [
    "inference_parameters_training_5 = {\"model_dir\": training_params_5[\"model_dir\"], \n",
    "                         \"model_epoch\": eval_epoch_5,\n",
    "                         \"test_images\": data_dict[\"training_images\"],\n",
    "                         \"test_gt\": data_dict[\"training_gt\"], \n",
    "                         \"save_dir\": os.path.join(training_params_5[\"model_dir\"], \\\n",
    "                                                  \"training_pred_epoch_\"+str(eval_epoch_5))}"
   ]
  },
  {
   "cell_type": "code",
   "execution_count": 181,
   "metadata": {},
   "outputs": [
    {
     "name": "stdout",
     "output_type": "stream",
     "text": [
      "finished inference\n"
     ]
    }
   ],
   "source": [
    "run_inference(**inference_parameters_training_5)"
   ]
  },
  {
   "cell_type": "code",
   "execution_count": 182,
   "metadata": {},
   "outputs": [],
   "source": [
    "inference_parameters_test_5 = {\"model_dir\": training_params_5[\"model_dir\"], \n",
    "                         \"model_epoch\": eval_epoch_5,\n",
    "                         \"test_images\": data_dict[\"test_images\"],\n",
    "                         \"test_gt\": data_dict[\"test_gt\"], \n",
    "                         \"save_dir\": os.path.join(training_params_5[\"model_dir\"], \\\n",
    "                                                  \"test_pred_epoch_\"+str(eval_epoch_5))}"
   ]
  },
  {
   "cell_type": "code",
   "execution_count": 183,
   "metadata": {},
   "outputs": [
    {
     "name": "stdout",
     "output_type": "stream",
     "text": [
      "finished inference\n"
     ]
    }
   ],
   "source": [
    "run_inference(**inference_parameters_test_5)"
   ]
  },
  {
   "cell_type": "code",
   "execution_count": 184,
   "metadata": {},
   "outputs": [],
   "source": [
    "inference_parameters_glaucoma_5 = {\"model_dir\": training_params_5[\"model_dir\"], \n",
    "                         \"model_epoch\": eval_epoch_5,\n",
    "                         \"test_images\": glaucoma_images,\n",
    "                         \"test_gt\": glaucoma_gt, \n",
    "                         \"save_dir\": os.path.join(training_params_5[\"model_dir\"], \\\n",
    "                                                  \"glaucoma_pred_epoch_\"+str(eval_epoch_5))}"
   ]
  },
  {
   "cell_type": "code",
   "execution_count": 185,
   "metadata": {},
   "outputs": [
    {
     "name": "stdout",
     "output_type": "stream",
     "text": [
      "finished inference\n"
     ]
    }
   ],
   "source": [
    "run_inference(**inference_parameters_glaucoma_5)"
   ]
  },
  {
   "cell_type": "code",
   "execution_count": 186,
   "metadata": {},
   "outputs": [
    {
     "data": {
      "image/png": "[encoded data removed]",
      "text/plain": [
       "<Figure size 432x288 with 1 Axes>"
      ]
     },
     "metadata": {
      "needs_background": "light"
     },
     "output_type": "display_data"
    }
   ],
   "source": [
    "model_dir = training_params_5[\"model_dir\"]\n",
    "eval_dict_5 = {\"gt_dir_ng\": gt_dir_ng,\n",
    "             \"gt_dir_g\": gt_dir_g, \n",
    "             \"pred_dir_training\": os.path.join(model_dir, \"training_pred_epoch_\"+str(eval_epoch_5)),\n",
    "             \"pred_dir_test\": os.path.join(model_dir, \"test_pred_epoch_\"+str(eval_epoch_5)), \n",
    "             \"pred_dir_g\": os.path.join(model_dir, \"glaucoma_pred_epoch_\"+str(eval_epoch_5)), \n",
    "             \"sampling\": False}\n",
    "\n",
    "dice_seed_5_eval = eval_mean_uncertainty(**eval_dict_5)"
   ]
  },
  {
   "cell_type": "markdown",
   "metadata": {},
   "source": [
    "### seed = 6"
   ]
  },
  {
   "cell_type": "code",
   "execution_count": 155,
   "metadata": {
    "scrolled": true
   },
   "outputs": [],
   "source": [
    "training_params_6 = {\"seed\": 6, \n",
    "                   \"training_images\": data_dict[\"training_images\"],\n",
    "                  \"training_gt\": data_dict[\"training_gt\"], \n",
    "                  \"validation_images\": data_dict[\"validation_images\"],\n",
    "                  \"validation_gt\": data_dict[\"validation_gt\"],\n",
    "                  \"epoch_num\": 100,\n",
    "                  \"model_dir\": \"/kvh4/optic_disc/models/dice_ensemble/06_UNet_cup\",\n",
    "                  \"p_dropout\": 0.0}"
   ]
  },
  {
   "cell_type": "code",
   "execution_count": 156,
   "metadata": {},
   "outputs": [],
   "source": [
    "model_path = training_params_6[\"model_dir\"]\n",
    "if not os.path.exists(model_path):\n",
    "    os.makedirs(model_path)\n",
    "    \n",
    "with open(os.path.join(model_path, \"training_params.pkl\"), 'wb') as file:\n",
    "      \n",
    "    # A new file will be created\n",
    "    pickle.dump(training_params_6, file)"
   ]
  },
  {
   "cell_type": "code",
   "execution_count": null,
   "metadata": {
    "scrolled": true
   },
   "outputs": [
    {
     "name": "stdout",
     "output_type": "stream",
     "text": [
      "----------\n",
      "epoch 1/100\n",
      "epoch 1 average loss: 0.9624\n",
      "savepath:  /kvh4/optic_disc/models/dice_ensemble/06_UNet_cup/epoch_1.pth\n",
      "saved model\n",
      "current epoch: 1 current mean dice: 0.0442\n",
      "val loss:  0.9611746865510941\n",
      "----------\n",
      "epoch 2/100\n",
      "epoch 2 average loss: 0.9451\n",
      "savepath:  /kvh4/optic_disc/models/dice_ensemble/06_UNet_cup/epoch_2.pth\n",
      "saved model\n",
      "current epoch: 2 current mean dice: 0.0667\n",
      "val loss:  0.945847687125206\n",
      "----------\n",
      "epoch 3/100\n",
      "epoch 3 average loss: 0.9391\n",
      "savepath:  /kvh4/optic_disc/models/dice_ensemble/06_UNet_cup/epoch_3.pth\n",
      "saved model\n",
      "current epoch: 3 current mean dice: 0.0811\n",
      "val loss:  0.9423702538013459\n",
      "----------\n",
      "epoch 4/100\n",
      "epoch 4 average loss: 0.9351\n",
      "savepath:  /kvh4/optic_disc/models/dice_ensemble/06_UNet_cup/epoch_4.pth\n",
      "saved model\n",
      "current epoch: 4 current mean dice: 0.0892\n",
      "val loss:  0.9382497864961624\n",
      "----------\n",
      "epoch 5/100\n",
      "epoch 5 average loss: 0.9315\n",
      "savepath:  /kvh4/optic_disc/models/dice_ensemble/06_UNet_cup/epoch_5.pth\n",
      "saved model\n",
      "current epoch: 5 current mean dice: 0.1035\n",
      "val loss:  0.9344769185781479\n",
      "----------\n",
      "epoch 6/100\n",
      "epoch 6 average loss: 0.9280\n",
      "savepath:  /kvh4/optic_disc/models/dice_ensemble/06_UNet_cup/epoch_6.pth\n",
      "saved model\n",
      "current epoch: 6 current mean dice: 0.1160\n",
      "val loss:  0.9324049788713455\n",
      "----------\n",
      "epoch 7/100\n",
      "epoch 7 average loss: 0.9241\n",
      "savepath:  /kvh4/optic_disc/models/dice_ensemble/06_UNet_cup/epoch_7.pth\n",
      "saved model\n",
      "current epoch: 7 current mean dice: 0.1373\n",
      "val loss:  0.9273503547906876\n",
      "----------\n",
      "epoch 8/100\n",
      "epoch 8 average loss: 0.9200\n",
      "savepath:  /kvh4/optic_disc/models/dice_ensemble/06_UNet_cup/epoch_8.pth\n",
      "saved model\n",
      "current epoch: 8 current mean dice: 0.1502\n",
      "val loss:  0.924941000342369\n",
      "----------\n",
      "epoch 9/100\n",
      "epoch 9 average loss: 0.9151\n",
      "savepath:  /kvh4/optic_disc/models/dice_ensemble/06_UNet_cup/epoch_9.pth\n",
      "saved model\n",
      "current epoch: 9 current mean dice: 0.1633\n",
      "val loss:  0.9225744503736496\n",
      "----------\n",
      "epoch 10/100\n",
      "epoch 10 average loss: 0.9100\n",
      "savepath:  /kvh4/optic_disc/models/dice_ensemble/06_UNet_cup/epoch_10.pth\n",
      "saved model\n",
      "current epoch: 10 current mean dice: 0.1909\n",
      "val loss:  0.9148857980966568\n",
      "----------\n",
      "epoch 11/100\n",
      "epoch 11 average loss: 0.9028\n",
      "savepath:  /kvh4/optic_disc/models/dice_ensemble/06_UNet_cup/epoch_11.pth\n",
      "saved model\n",
      "current epoch: 11 current mean dice: 0.2657\n",
      "val loss:  0.9003983092308044\n",
      "----------\n",
      "epoch 12/100\n",
      "epoch 12 average loss: 0.8956\n",
      "savepath:  /kvh4/optic_disc/models/dice_ensemble/06_UNet_cup/epoch_12.pth\n",
      "saved model\n",
      "current epoch: 12 current mean dice: 0.2751\n",
      "val loss:  0.8952507609128952\n",
      "----------\n",
      "epoch 13/100\n",
      "epoch 13 average loss: 0.8893\n",
      "savepath:  /kvh4/optic_disc/models/dice_ensemble/06_UNet_cup/epoch_13.pth\n",
      "saved model\n",
      "current epoch: 13 current mean dice: 0.2894\n",
      "val loss:  0.8877878642082214\n",
      "----------\n",
      "epoch 14/100\n",
      "epoch 14 average loss: 0.8796\n",
      "savepath:  /kvh4/optic_disc/models/dice_ensemble/06_UNet_cup/epoch_14.pth\n",
      "saved model\n",
      "current epoch: 14 current mean dice: 0.2826\n",
      "val loss:  0.8856813687086106\n",
      "----------\n",
      "epoch 15/100\n",
      "epoch 15 average loss: 0.8720\n",
      "savepath:  /kvh4/optic_disc/models/dice_ensemble/06_UNet_cup/epoch_15.pth\n",
      "saved model\n",
      "current epoch: 15 current mean dice: 0.3064\n",
      "val loss:  0.8634388339519501\n",
      "----------\n",
      "epoch 16/100\n",
      "epoch 16 average loss: 0.8610\n",
      "savepath:  /kvh4/optic_disc/models/dice_ensemble/06_UNet_cup/epoch_16.pth\n",
      "saved model\n",
      "current epoch: 16 current mean dice: 0.2942\n",
      "val loss:  0.8690591287612915\n",
      "----------\n",
      "epoch 17/100\n",
      "epoch 17 average loss: 0.8517\n",
      "savepath:  /kvh4/optic_disc/models/dice_ensemble/06_UNet_cup/epoch_17.pth\n",
      "saved model\n",
      "current epoch: 17 current mean dice: 0.3070\n",
      "val loss:  0.8492611348628998\n",
      "----------\n",
      "epoch 18/100\n",
      "epoch 18 average loss: 0.8389\n",
      "savepath:  /kvh4/optic_disc/models/dice_ensemble/06_UNet_cup/epoch_18.pth\n",
      "saved model\n",
      "current epoch: 18 current mean dice: 0.3247\n",
      "val loss:  0.8279442805051803\n",
      "----------\n",
      "epoch 19/100\n",
      "epoch 19 average loss: 0.8244\n",
      "savepath:  /kvh4/optic_disc/models/dice_ensemble/06_UNet_cup/epoch_19.pth\n",
      "saved model\n",
      "current epoch: 19 current mean dice: 0.3356\n",
      "val loss:  0.7985921555757522\n",
      "----------\n",
      "epoch 20/100\n",
      "epoch 20 average loss: 0.8097\n",
      "savepath:  /kvh4/optic_disc/models/dice_ensemble/06_UNet_cup/epoch_20.pth\n",
      "saved model\n",
      "current epoch: 20 current mean dice: 0.3323\n",
      "val loss:  0.7934381538629531\n",
      "----------\n",
      "epoch 21/100\n",
      "epoch 21 average loss: 0.7955\n",
      "savepath:  /kvh4/optic_disc/models/dice_ensemble/06_UNet_cup/epoch_21.pth\n",
      "saved model\n",
      "current epoch: 21 current mean dice: 0.3486\n",
      "val loss:  0.8006885898113251\n",
      "----------\n",
      "epoch 22/100\n",
      "epoch 22 average loss: 0.7862\n",
      "savepath:  /kvh4/optic_disc/models/dice_ensemble/06_UNet_cup/epoch_22.pth\n",
      "saved model\n",
      "current epoch: 22 current mean dice: 0.3499\n",
      "val loss:  0.7530830264091491\n",
      "----------\n",
      "epoch 23/100\n",
      "epoch 23 average loss: 0.7684\n",
      "savepath:  /kvh4/optic_disc/models/dice_ensemble/06_UNet_cup/epoch_23.pth\n",
      "saved model\n",
      "current epoch: 23 current mean dice: 0.3459\n",
      "val loss:  0.7635726267099381\n",
      "----------\n",
      "epoch 24/100\n",
      "epoch 24 average loss: 0.7609\n",
      "savepath:  /kvh4/optic_disc/models/dice_ensemble/06_UNet_cup/epoch_24.pth\n",
      "saved model\n",
      "current epoch: 24 current mean dice: 0.3373\n",
      "val loss:  0.7583769899606705\n",
      "----------\n",
      "epoch 25/100\n",
      "epoch 25 average loss: 0.7450\n",
      "savepath:  /kvh4/optic_disc/models/dice_ensemble/06_UNet_cup/epoch_25.pth\n",
      "saved model\n",
      "current epoch: 25 current mean dice: 0.3428\n",
      "val loss:  0.7509233635663987\n",
      "----------\n",
      "epoch 26/100\n",
      "epoch 26 average loss: 0.7333\n",
      "savepath:  /kvh4/optic_disc/models/dice_ensemble/06_UNet_cup/epoch_26.pth\n",
      "saved model\n",
      "current epoch: 26 current mean dice: 0.3513\n",
      "val loss:  0.7461521154642106\n",
      "----------\n",
      "epoch 27/100\n",
      "epoch 27 average loss: 0.7227\n",
      "savepath:  /kvh4/optic_disc/models/dice_ensemble/06_UNet_cup/epoch_27.pth\n",
      "saved model\n",
      "current epoch: 27 current mean dice: 0.3676\n",
      "val loss:  0.7359664690494537\n",
      "----------\n",
      "epoch 28/100\n",
      "epoch 28 average loss: 0.7186\n",
      "savepath:  /kvh4/optic_disc/models/dice_ensemble/06_UNet_cup/epoch_28.pth\n",
      "saved model\n",
      "current epoch: 28 current mean dice: 0.3805\n",
      "val loss:  0.7195192044973373\n",
      "----------\n",
      "epoch 29/100\n",
      "epoch 29 average loss: 0.7078\n",
      "savepath:  /kvh4/optic_disc/models/dice_ensemble/06_UNet_cup/epoch_29.pth\n",
      "saved model\n",
      "current epoch: 29 current mean dice: 0.3877\n",
      "val loss:  0.709288929104805\n",
      "----------\n",
      "epoch 30/100\n",
      "epoch 30 average loss: 0.6964\n",
      "savepath:  /kvh4/optic_disc/models/dice_ensemble/06_UNet_cup/epoch_30.pth\n",
      "saved model\n",
      "current epoch: 30 current mean dice: 0.4001\n",
      "val loss:  0.7009167248010635\n",
      "----------\n",
      "epoch 31/100\n",
      "epoch 31 average loss: 0.6846\n",
      "savepath:  /kvh4/optic_disc/models/dice_ensemble/06_UNet_cup/epoch_31.pth\n",
      "saved model\n",
      "current epoch: 31 current mean dice: 0.4662\n",
      "val loss:  0.6753521299362183\n",
      "----------\n",
      "epoch 32/100\n",
      "epoch 32 average loss: 0.6749\n",
      "savepath:  /kvh4/optic_disc/models/dice_ensemble/06_UNet_cup/epoch_32.pth\n",
      "saved model\n",
      "current epoch: 32 current mean dice: 0.4658\n",
      "val loss:  0.6863385826349259\n",
      "----------\n",
      "epoch 33/100\n",
      "epoch 33 average loss: 0.6595\n",
      "savepath:  /kvh4/optic_disc/models/dice_ensemble/06_UNet_cup/epoch_33.pth\n",
      "saved model\n",
      "current epoch: 33 current mean dice: 0.5467\n",
      "val loss:  0.648415333032608\n",
      "----------\n",
      "epoch 34/100\n",
      "epoch 34 average loss: 0.6420\n",
      "savepath:  /kvh4/optic_disc/models/dice_ensemble/06_UNet_cup/epoch_34.pth\n",
      "saved model\n",
      "current epoch: 34 current mean dice: 0.5528\n",
      "val loss:  0.6303558039665222\n",
      "----------\n",
      "epoch 35/100\n",
      "epoch 35 average loss: 0.6274\n",
      "savepath:  /kvh4/optic_disc/models/dice_ensemble/06_UNet_cup/epoch_35.pth\n",
      "saved model\n",
      "current epoch: 35 current mean dice: 0.5922\n",
      "val loss:  0.6142665910720825\n",
      "----------\n",
      "epoch 36/100\n",
      "epoch 36 average loss: 0.6076\n",
      "savepath:  /kvh4/optic_disc/models/dice_ensemble/06_UNet_cup/epoch_36.pth\n",
      "saved model\n",
      "current epoch: 36 current mean dice: 0.6070\n",
      "val loss:  0.5999433988332749\n",
      "----------\n",
      "epoch 37/100\n",
      "epoch 37 average loss: 0.5847\n",
      "savepath:  /kvh4/optic_disc/models/dice_ensemble/06_UNet_cup/epoch_37.pth\n",
      "saved model\n",
      "current epoch: 37 current mean dice: 0.7190\n",
      "val loss:  0.598077455163002\n",
      "----------\n",
      "epoch 38/100\n",
      "epoch 38 average loss: 0.5385\n",
      "savepath:  /kvh4/optic_disc/models/dice_ensemble/06_UNet_cup/epoch_38.pth\n",
      "saved model\n",
      "current epoch: 38 current mean dice: 0.7738\n",
      "val loss:  0.5513846772909164\n",
      "----------\n",
      "epoch 39/100\n",
      "epoch 39 average loss: 0.4867\n",
      "savepath:  /kvh4/optic_disc/models/dice_ensemble/06_UNet_cup/epoch_39.pth\n",
      "saved model\n"
     ]
    },
    {
     "name": "stdout",
     "output_type": "stream",
     "text": [
      "current epoch: 39 current mean dice: 0.7216\n",
      "val loss:  0.5293931990861893\n",
      "----------\n",
      "epoch 40/100\n",
      "epoch 40 average loss: 0.4422\n",
      "savepath:  /kvh4/optic_disc/models/dice_ensemble/06_UNet_cup/epoch_40.pth\n",
      "saved model\n",
      "current epoch: 40 current mean dice: 0.8237\n",
      "val loss:  0.4721173596382141\n",
      "----------\n",
      "epoch 41/100\n",
      "epoch 41 average loss: 0.4010\n",
      "savepath:  /kvh4/optic_disc/models/dice_ensemble/06_UNet_cup/epoch_41.pth\n",
      "saved model\n",
      "current epoch: 41 current mean dice: 0.8489\n",
      "val loss:  0.43465376675128936\n",
      "----------\n",
      "epoch 42/100\n",
      "epoch 42 average loss: 0.3683\n",
      "savepath:  /kvh4/optic_disc/models/dice_ensemble/06_UNet_cup/epoch_42.pth\n",
      "saved model\n",
      "current epoch: 42 current mean dice: 0.8350\n",
      "val loss:  0.4120078933238983\n",
      "----------\n",
      "epoch 43/100\n",
      "epoch 43 average loss: 0.3386\n",
      "savepath:  /kvh4/optic_disc/models/dice_ensemble/06_UNet_cup/epoch_43.pth\n",
      "saved model\n",
      "current epoch: 43 current mean dice: 0.8723\n",
      "val loss:  0.3752520728111267\n",
      "----------\n",
      "epoch 44/100\n",
      "epoch 44 average loss: 0.3108\n",
      "savepath:  /kvh4/optic_disc/models/dice_ensemble/06_UNet_cup/epoch_44.pth\n",
      "saved model\n",
      "current epoch: 44 current mean dice: 0.8511\n",
      "val loss:  0.36188984394073487\n",
      "----------\n",
      "epoch 45/100\n",
      "epoch 45 average loss: 0.2877\n",
      "savepath:  /kvh4/optic_disc/models/dice_ensemble/06_UNet_cup/epoch_45.pth\n",
      "saved model\n",
      "current epoch: 45 current mean dice: 0.8787\n",
      "val loss:  0.3304416865110397\n",
      "----------\n",
      "epoch 46/100\n",
      "epoch 46 average loss: 0.2674\n",
      "savepath:  /kvh4/optic_disc/models/dice_ensemble/06_UNet_cup/epoch_46.pth\n",
      "saved model\n",
      "current epoch: 46 current mean dice: 0.8630\n",
      "val loss:  0.33800763607025147\n",
      "----------\n",
      "epoch 47/100\n",
      "epoch 47 average loss: 0.2483\n",
      "savepath:  /kvh4/optic_disc/models/dice_ensemble/06_UNet_cup/epoch_47.pth\n",
      "saved model\n",
      "current epoch: 47 current mean dice: 0.8810\n",
      "val loss:  0.30121998727321625\n",
      "----------\n",
      "epoch 48/100\n",
      "epoch 48 average loss: 0.2314\n",
      "savepath:  /kvh4/optic_disc/models/dice_ensemble/06_UNet_cup/epoch_48.pth\n",
      "saved model\n",
      "current epoch: 48 current mean dice: 0.8720\n",
      "val loss:  0.2860096150636673\n",
      "----------\n",
      "epoch 49/100\n",
      "epoch 49 average loss: 0.2175\n",
      "savepath:  /kvh4/optic_disc/models/dice_ensemble/06_UNet_cup/epoch_49.pth\n",
      "saved model\n",
      "current epoch: 49 current mean dice: 0.8701\n",
      "val loss:  0.2774907225370407\n",
      "----------\n",
      "epoch 50/100\n",
      "epoch 50 average loss: 0.2023\n",
      "savepath:  /kvh4/optic_disc/models/dice_ensemble/06_UNet_cup/epoch_50.pth\n",
      "saved model\n",
      "current epoch: 50 current mean dice: 0.8815\n",
      "val loss:  0.25501240670681\n",
      "----------\n",
      "epoch 51/100\n",
      "epoch 51 average loss: 0.1936\n",
      "savepath:  /kvh4/optic_disc/models/dice_ensemble/06_UNet_cup/epoch_51.pth\n",
      "saved model\n",
      "current epoch: 51 current mean dice: 0.8689\n",
      "val loss:  0.2560577040910721\n",
      "----------\n",
      "epoch 52/100\n",
      "epoch 52 average loss: 0.1826\n",
      "savepath:  /kvh4/optic_disc/models/dice_ensemble/06_UNet_cup/epoch_52.pth\n",
      "saved model\n",
      "current epoch: 52 current mean dice: 0.8827\n",
      "val loss:  0.2323235148191452\n",
      "----------\n",
      "epoch 53/100\n",
      "epoch 53 average loss: 0.1710\n",
      "savepath:  /kvh4/optic_disc/models/dice_ensemble/06_UNet_cup/epoch_53.pth\n",
      "saved model\n",
      "current epoch: 53 current mean dice: 0.8754\n",
      "val loss:  0.23461108684539794\n",
      "----------\n",
      "epoch 54/100\n",
      "epoch 54 average loss: 0.1632\n",
      "savepath:  /kvh4/optic_disc/models/dice_ensemble/06_UNet_cup/epoch_54.pth\n",
      "saved model\n",
      "current epoch: 54 current mean dice: 0.8746\n",
      "val loss:  0.22841977417469025\n",
      "----------\n",
      "epoch 55/100\n",
      "epoch 55 average loss: 0.1549\n",
      "savepath:  /kvh4/optic_disc/models/dice_ensemble/06_UNet_cup/epoch_55.pth\n",
      "saved model\n",
      "current epoch: 55 current mean dice: 0.8831\n",
      "val loss:  0.2129843670129776\n",
      "----------\n",
      "epoch 56/100\n",
      "epoch 56 average loss: 0.1494\n",
      "savepath:  /kvh4/optic_disc/models/dice_ensemble/06_UNet_cup/epoch_56.pth\n",
      "saved model\n",
      "current epoch: 56 current mean dice: 0.8711\n",
      "val loss:  0.21899221777915956\n",
      "----------\n",
      "epoch 57/100\n",
      "epoch 57 average loss: 0.1429\n",
      "savepath:  /kvh4/optic_disc/models/dice_ensemble/06_UNet_cup/epoch_57.pth\n",
      "saved model\n",
      "current epoch: 57 current mean dice: 0.8747\n",
      "val loss:  0.21150570452213288\n",
      "----------\n",
      "epoch 58/100\n",
      "epoch 58 average loss: 0.1366\n",
      "savepath:  /kvh4/optic_disc/models/dice_ensemble/06_UNet_cup/epoch_58.pth\n",
      "saved model\n",
      "current epoch: 58 current mean dice: 0.8581\n",
      "val loss:  0.21929208934307098\n",
      "----------\n",
      "epoch 59/100\n",
      "epoch 59 average loss: 0.1304\n",
      "savepath:  /kvh4/optic_disc/models/dice_ensemble/06_UNet_cup/epoch_59.pth\n",
      "saved model\n",
      "current epoch: 59 current mean dice: 0.8717\n",
      "val loss:  0.20403670728206635\n",
      "----------\n",
      "epoch 60/100\n",
      "epoch 60 average loss: 0.1265\n",
      "savepath:  /kvh4/optic_disc/models/dice_ensemble/06_UNet_cup/epoch_60.pth\n",
      "saved model\n",
      "current epoch: 60 current mean dice: 0.8366\n",
      "val loss:  0.2323069429397583\n",
      "----------\n",
      "epoch 61/100\n",
      "epoch 61 average loss: 0.1207\n",
      "savepath:  /kvh4/optic_disc/models/dice_ensemble/06_UNet_cup/epoch_61.pth\n",
      "saved model\n",
      "current epoch: 61 current mean dice: 0.8741\n",
      "val loss:  0.19266906142234802\n",
      "----------\n",
      "epoch 62/100\n",
      "epoch 62 average loss: 0.1180\n",
      "savepath:  /kvh4/optic_disc/models/dice_ensemble/06_UNet_cup/epoch_62.pth\n",
      "saved model\n",
      "current epoch: 62 current mean dice: 0.8656\n",
      "val loss:  0.19712987542152405\n",
      "----------\n",
      "epoch 63/100\n",
      "epoch 63 average loss: 0.1140\n",
      "savepath:  /kvh4/optic_disc/models/dice_ensemble/06_UNet_cup/epoch_63.pth\n",
      "saved model\n",
      "current epoch: 63 current mean dice: 0.8627\n",
      "val loss:  0.19716485381126403\n",
      "----------\n",
      "epoch 64/100\n",
      "epoch 64 average loss: 0.1094\n",
      "savepath:  /kvh4/optic_disc/models/dice_ensemble/06_UNet_cup/epoch_64.pth\n",
      "saved model\n",
      "current epoch: 64 current mean dice: 0.8590\n",
      "val loss:  0.19521108388900757\n",
      "----------\n",
      "epoch 65/100\n",
      "epoch 65 average loss: 0.1059\n",
      "savepath:  /kvh4/optic_disc/models/dice_ensemble/06_UNet_cup/epoch_65.pth\n",
      "saved model\n",
      "current epoch: 65 current mean dice: 0.8765\n",
      "val loss:  0.1779484897851944\n",
      "----------\n",
      "epoch 66/100\n",
      "epoch 66 average loss: 0.1050\n",
      "savepath:  /kvh4/optic_disc/models/dice_ensemble/06_UNet_cup/epoch_66.pth\n",
      "saved model\n",
      "current epoch: 66 current mean dice: 0.8828\n",
      "val loss:  0.16844193160533905\n",
      "----------\n",
      "epoch 67/100\n",
      "epoch 67 average loss: 0.1002\n",
      "savepath:  /kvh4/optic_disc/models/dice_ensemble/06_UNet_cup/epoch_67.pth\n",
      "saved model\n",
      "current epoch: 67 current mean dice: 0.8764\n",
      "val loss:  0.17190001010894776\n",
      "----------\n",
      "epoch 68/100\n",
      "epoch 68 average loss: 0.0982\n",
      "savepath:  /kvh4/optic_disc/models/dice_ensemble/06_UNet_cup/epoch_68.pth\n",
      "saved model\n",
      "current epoch: 68 current mean dice: 0.8425\n",
      "val loss:  0.20111365854740143\n",
      "----------\n",
      "epoch 69/100\n",
      "epoch 69 average loss: 0.0955\n",
      "savepath:  /kvh4/optic_disc/models/dice_ensemble/06_UNet_cup/epoch_69.pth\n",
      "saved model\n",
      "current epoch: 69 current mean dice: 0.8757\n",
      "val loss:  0.16928867638111114\n",
      "----------\n",
      "epoch 70/100\n",
      "epoch 70 average loss: 0.0922\n",
      "savepath:  /kvh4/optic_disc/models/dice_ensemble/06_UNet_cup/epoch_70.pth\n",
      "saved model\n",
      "current epoch: 70 current mean dice: 0.8752\n",
      "val loss:  0.1676413744688034\n",
      "----------\n",
      "epoch 71/100\n",
      "epoch 71 average loss: 0.0904\n",
      "savepath:  /kvh4/optic_disc/models/dice_ensemble/06_UNet_cup/epoch_71.pth\n",
      "saved model\n",
      "current epoch: 71 current mean dice: 0.8499\n",
      "val loss:  0.18979895055294038\n",
      "----------\n",
      "epoch 72/100\n",
      "epoch 72 average loss: 0.0887\n",
      "savepath:  /kvh4/optic_disc/models/dice_ensemble/06_UNet_cup/epoch_72.pth\n",
      "saved model\n",
      "current epoch: 72 current mean dice: 0.8065\n",
      "val loss:  0.22848980367183686\n",
      "----------\n",
      "epoch 73/100\n",
      "epoch 73 average loss: 0.0891\n",
      "savepath:  /kvh4/optic_disc/models/dice_ensemble/06_UNet_cup/epoch_73.pth\n",
      "saved model\n",
      "current epoch: 73 current mean dice: 0.8728\n",
      "val loss:  0.16545121788978576\n",
      "----------\n",
      "epoch 74/100\n",
      "epoch 74 average loss: 0.0852\n",
      "savepath:  /kvh4/optic_disc/models/dice_ensemble/06_UNet_cup/epoch_74.pth\n",
      "saved model\n",
      "current epoch: 74 current mean dice: 0.8436\n",
      "val loss:  0.18791956663131715\n",
      "----------\n",
      "epoch 75/100\n",
      "epoch 75 average loss: 0.0832\n",
      "savepath:  /kvh4/optic_disc/models/dice_ensemble/06_UNet_cup/epoch_75.pth\n",
      "saved model\n",
      "current epoch: 75 current mean dice: 0.8822\n",
      "val loss:  0.15325643062591554\n",
      "----------\n",
      "epoch 76/100\n",
      "epoch 76 average loss: 0.0814\n",
      "savepath:  /kvh4/optic_disc/models/dice_ensemble/06_UNet_cup/epoch_76.pth\n",
      "saved model\n",
      "current epoch: 76 current mean dice: 0.8566\n",
      "val loss:  0.17365626275539398\n",
      "----------\n",
      "epoch 77/100\n",
      "epoch 77 average loss: 0.0818\n",
      "savepath:  /kvh4/optic_disc/models/dice_ensemble/06_UNet_cup/epoch_77.pth\n",
      "saved model\n",
      "current epoch: 77 current mean dice: 0.8854\n",
      "val loss:  0.14847247004508973\n",
      "----------\n",
      "epoch 78/100\n"
     ]
    },
    {
     "name": "stdout",
     "output_type": "stream",
     "text": [
      "epoch 78 average loss: 0.0780\n",
      "savepath:  /kvh4/optic_disc/models/dice_ensemble/06_UNet_cup/epoch_78.pth\n",
      "saved model\n",
      "current epoch: 78 current mean dice: 0.8748\n",
      "val loss:  0.15562854528427125\n",
      "----------\n",
      "epoch 79/100\n",
      "epoch 79 average loss: 0.0774\n",
      "savepath:  /kvh4/optic_disc/models/dice_ensemble/06_UNet_cup/epoch_79.pth\n",
      "saved model\n",
      "current epoch: 79 current mean dice: 0.8754\n",
      "val loss:  0.15439850091934204\n",
      "----------\n",
      "epoch 80/100\n",
      "epoch 80 average loss: 0.0757\n",
      "savepath:  /kvh4/optic_disc/models/dice_ensemble/06_UNet_cup/epoch_80.pth\n",
      "saved model\n",
      "current epoch: 80 current mean dice: 0.8444\n",
      "val loss:  0.1821012282371521\n",
      "----------\n",
      "epoch 81/100\n",
      "epoch 81 average loss: 0.0748\n",
      "savepath:  /kvh4/optic_disc/models/dice_ensemble/06_UNet_cup/epoch_81.pth\n",
      "saved model\n",
      "current epoch: 81 current mean dice: 0.8209\n",
      "val loss:  0.20228758513927458\n",
      "----------\n",
      "epoch 82/100\n",
      "epoch 82 average loss: 0.0776\n",
      "savepath:  /kvh4/optic_disc/models/dice_ensemble/06_UNet_cup/epoch_82.pth\n",
      "saved model\n",
      "current epoch: 82 current mean dice: 0.8729\n",
      "val loss:  0.15379304230213164\n",
      "----------\n",
      "epoch 83/100\n"
     ]
    }
   ],
   "source": [
    "train_dice(**training_params_6)"
   ]
  },
  {
   "cell_type": "code",
   "execution_count": 187,
   "metadata": {},
   "outputs": [],
   "source": [
    "model_path = training_params_6[\"model_dir\"]\n",
    "\n",
    "train_loss = np.load(os.path.join(model_path, \"epoch_loss.npy\"))\n",
    "val_loss = np.load(os.path.join(model_path, \"val_loss.npy\"))\n",
    "val_metrics = np.load(os.path.join(model_path, \"val_metrics.npy\"))"
   ]
  },
  {
   "cell_type": "code",
   "execution_count": 188,
   "metadata": {
    "scrolled": true
   },
   "outputs": [
    {
     "data": {
      "text/plain": [
       "<matplotlib.legend.Legend at 0x7f273d065c88>"
      ]
     },
     "execution_count": 188,
     "metadata": {},
     "output_type": "execute_result"
    },
    {
     "data": {
      "image/png": "[encoded data removed]",
      "text/plain": [
       "<Figure size 432x288 with 1 Axes>"
      ]
     },
     "metadata": {
      "needs_background": "light"
     },
     "output_type": "display_data"
    }
   ],
   "source": [
    "plt.plot(train_loss, label=\"training\")\n",
    "plt.plot(val_loss, label=\"validation\")\n",
    "plt.plot(val_metrics, label=\"validation Dice\")\n",
    "plt.xlabel(\"epoch\")\n",
    "plt.legend()"
   ]
  },
  {
   "cell_type": "code",
   "execution_count": 189,
   "metadata": {},
   "outputs": [],
   "source": [
    "eval_epoch_6 = 77"
   ]
  },
  {
   "cell_type": "code",
   "execution_count": 190,
   "metadata": {},
   "outputs": [],
   "source": [
    "inference_parameters_training_6 = {\"model_dir\": training_params_6[\"model_dir\"], \n",
    "                         \"model_epoch\": eval_epoch_6,\n",
    "                         \"test_images\": data_dict[\"training_images\"],\n",
    "                         \"test_gt\": data_dict[\"training_gt\"], \n",
    "                         \"save_dir\": os.path.join(training_params_6[\"model_dir\"], \\\n",
    "                                                  \"training_pred_epoch_\"+str(eval_epoch_6))}"
   ]
  },
  {
   "cell_type": "code",
   "execution_count": 191,
   "metadata": {},
   "outputs": [
    {
     "name": "stdout",
     "output_type": "stream",
     "text": [
      "finished inference\n"
     ]
    }
   ],
   "source": [
    "run_inference(**inference_parameters_training_6)"
   ]
  },
  {
   "cell_type": "code",
   "execution_count": 192,
   "metadata": {},
   "outputs": [],
   "source": [
    "inference_parameters_test_6 = {\"model_dir\": training_params_6[\"model_dir\"], \n",
    "                         \"model_epoch\": eval_epoch_6,\n",
    "                         \"test_images\": data_dict[\"test_images\"],\n",
    "                         \"test_gt\": data_dict[\"test_gt\"], \n",
    "                         \"save_dir\": os.path.join(training_params_6[\"model_dir\"], \\\n",
    "                                                  \"test_pred_epoch_\"+str(eval_epoch_6))}"
   ]
  },
  {
   "cell_type": "code",
   "execution_count": 193,
   "metadata": {},
   "outputs": [
    {
     "name": "stdout",
     "output_type": "stream",
     "text": [
      "finished inference\n"
     ]
    }
   ],
   "source": [
    "run_inference(**inference_parameters_test_6)"
   ]
  },
  {
   "cell_type": "code",
   "execution_count": 194,
   "metadata": {},
   "outputs": [],
   "source": [
    "inference_parameters_glaucoma_6 = {\"model_dir\": training_params_6[\"model_dir\"], \n",
    "                         \"model_epoch\": eval_epoch_6,\n",
    "                         \"test_images\": glaucoma_images,\n",
    "                         \"test_gt\": glaucoma_gt, \n",
    "                         \"save_dir\": os.path.join(training_params_6[\"model_dir\"], \\\n",
    "                                                  \"glaucoma_pred_epoch_\"+str(eval_epoch_6))}"
   ]
  },
  {
   "cell_type": "code",
   "execution_count": 195,
   "metadata": {},
   "outputs": [
    {
     "name": "stdout",
     "output_type": "stream",
     "text": [
      "finished inference\n"
     ]
    }
   ],
   "source": [
    "run_inference(**inference_parameters_glaucoma_6)"
   ]
  },
  {
   "cell_type": "code",
   "execution_count": 196,
   "metadata": {},
   "outputs": [
    {
     "data": {
      "image/png": "[encoded data removed]",
      "text/plain": [
       "<Figure size 432x288 with 1 Axes>"
      ]
     },
     "metadata": {
      "needs_background": "light"
     },
     "output_type": "display_data"
    }
   ],
   "source": [
    "model_dir = training_params_6[\"model_dir\"]\n",
    "eval_dict_6 = {\"gt_dir_ng\": gt_dir_ng,\n",
    "             \"gt_dir_g\": gt_dir_g, \n",
    "             \"pred_dir_training\": os.path.join(model_dir, \"training_pred_epoch_\"+str(eval_epoch_6)),\n",
    "             \"pred_dir_test\": os.path.join(model_dir, \"test_pred_epoch_\"+str(eval_epoch_6)), \n",
    "             \"pred_dir_g\": os.path.join(model_dir, \"glaucoma_pred_epoch_\"+str(eval_epoch_6)), \n",
    "             \"sampling\": False}\n",
    "\n",
    "dice_seed_6_eval = eval_mean_uncertainty(**eval_dict_6)"
   ]
  },
  {
   "cell_type": "markdown",
   "metadata": {},
   "source": [
    "### seed = 7"
   ]
  },
  {
   "cell_type": "code",
   "execution_count": null,
   "metadata": {
    "scrolled": true
   },
   "outputs": [],
   "source": [
    "training_params_7 = {\"seed\": 7, \n",
    "                   \"training_images\": data_dict[\"training_images\"],\n",
    "                  \"training_gt\": data_dict[\"training_gt\"], \n",
    "                  \"validation_images\": data_dict[\"validation_images\"],\n",
    "                  \"validation_gt\": data_dict[\"validation_gt\"],\n",
    "                  \"epoch_num\": 100,\n",
    "                  \"model_dir\": \"/kvh4/optic_disc/models/dice_ensemble/07_UNet_cup\",\n",
    "                  \"p_dropout\": 0.0}"
   ]
  },
  {
   "cell_type": "code",
   "execution_count": null,
   "metadata": {},
   "outputs": [],
   "source": [
    "model_path = training_params_7[\"model_dir\"]\n",
    "if not os.path.exists(model_path):\n",
    "    os.makedirs(model_path)\n",
    "    \n",
    "with open(os.path.join(model_path, \"training_params.pkl\"), 'wb') as file:\n",
    "      \n",
    "    # A new file will be created\n",
    "    pickle.dump(training_params_7, file)"
   ]
  },
  {
   "cell_type": "code",
   "execution_count": null,
   "metadata": {
    "scrolled": true
   },
   "outputs": [],
   "source": [
    "train_dice(**training_params_7)"
   ]
  },
  {
   "cell_type": "code",
   "execution_count": 197,
   "metadata": {},
   "outputs": [],
   "source": [
    "model_path = training_params_7[\"model_dir\"]\n",
    "\n",
    "train_loss = np.load(os.path.join(model_path, \"epoch_loss.npy\"))\n",
    "val_loss = np.load(os.path.join(model_path, \"val_loss.npy\"))\n",
    "val_metrics = np.load(os.path.join(model_path, \"val_metrics.npy\"))"
   ]
  },
  {
   "cell_type": "code",
   "execution_count": 198,
   "metadata": {},
   "outputs": [
    {
     "data": {
      "text/plain": [
       "<matplotlib.legend.Legend at 0x7f273cf5cef0>"
      ]
     },
     "execution_count": 198,
     "metadata": {},
     "output_type": "execute_result"
    },
    {
     "data": {
      "image/png": "[encoded data removed]",
      "text/plain": [
       "<Figure size 432x288 with 1 Axes>"
      ]
     },
     "metadata": {
      "needs_background": "light"
     },
     "output_type": "display_data"
    }
   ],
   "source": [
    "plt.plot(train_loss, label=\"training\")\n",
    "plt.plot(val_loss, label=\"validation\")\n",
    "plt.plot(val_metrics, label=\"validation Dice\")\n",
    "plt.xlabel(\"epoch\")\n",
    "plt.legend()"
   ]
  },
  {
   "cell_type": "code",
   "execution_count": 201,
   "metadata": {},
   "outputs": [],
   "source": [
    "eval_epoch_7 = 77"
   ]
  },
  {
   "cell_type": "code",
   "execution_count": 202,
   "metadata": {},
   "outputs": [],
   "source": [
    "inference_parameters_training_7 = {\"model_dir\": training_params_7[\"model_dir\"], \n",
    "                         \"model_epoch\": eval_epoch_7,\n",
    "                         \"test_images\": data_dict[\"training_images\"],\n",
    "                         \"test_gt\": data_dict[\"training_gt\"], \n",
    "                         \"save_dir\": os.path.join(training_params_7[\"model_dir\"], \\\n",
    "                                                  \"training_pred_epoch_\"+str(eval_epoch_7))}"
   ]
  },
  {
   "cell_type": "code",
   "execution_count": 203,
   "metadata": {},
   "outputs": [
    {
     "name": "stdout",
     "output_type": "stream",
     "text": [
      "finished inference\n"
     ]
    }
   ],
   "source": [
    "run_inference(**inference_parameters_training_7)"
   ]
  },
  {
   "cell_type": "code",
   "execution_count": 204,
   "metadata": {},
   "outputs": [],
   "source": [
    "inference_parameters_test_7 = {\"model_dir\": training_params_7[\"model_dir\"], \n",
    "                         \"model_epoch\": eval_epoch_7,\n",
    "                         \"test_images\": data_dict[\"test_images\"],\n",
    "                         \"test_gt\": data_dict[\"test_gt\"], \n",
    "                         \"save_dir\": os.path.join(training_params_7[\"model_dir\"], \\\n",
    "                                                  \"test_pred_epoch_\"+str(eval_epoch_7))}"
   ]
  },
  {
   "cell_type": "code",
   "execution_count": 205,
   "metadata": {},
   "outputs": [
    {
     "name": "stdout",
     "output_type": "stream",
     "text": [
      "finished inference\n"
     ]
    }
   ],
   "source": [
    "run_inference(**inference_parameters_test_7)"
   ]
  },
  {
   "cell_type": "code",
   "execution_count": 206,
   "metadata": {},
   "outputs": [],
   "source": [
    "inference_parameters_glaucoma_7 = {\"model_dir\": training_params_7[\"model_dir\"], \n",
    "                         \"model_epoch\": eval_epoch_7,\n",
    "                         \"test_images\": glaucoma_images,\n",
    "                         \"test_gt\": glaucoma_gt, \n",
    "                         \"save_dir\": os.path.join(training_params_7[\"model_dir\"], \\\n",
    "                                                  \"glaucoma_pred_epoch_\"+str(eval_epoch_7))}"
   ]
  },
  {
   "cell_type": "code",
   "execution_count": 207,
   "metadata": {},
   "outputs": [
    {
     "name": "stdout",
     "output_type": "stream",
     "text": [
      "finished inference\n"
     ]
    }
   ],
   "source": [
    "run_inference(**inference_parameters_glaucoma_7)"
   ]
  },
  {
   "cell_type": "code",
   "execution_count": 208,
   "metadata": {},
   "outputs": [
    {
     "data": {
      "image/png": "[encoded data removed]",
      "text/plain": [
       "<Figure size 432x288 with 1 Axes>"
      ]
     },
     "metadata": {
      "needs_background": "light"
     },
     "output_type": "display_data"
    }
   ],
   "source": [
    "model_dir = training_params_7[\"model_dir\"]\n",
    "eval_dict_7 = {\"gt_dir_ng\": gt_dir_ng,\n",
    "             \"gt_dir_g\": gt_dir_g, \n",
    "             \"pred_dir_training\": os.path.join(model_dir, \"training_pred_epoch_\"+str(eval_epoch_7)),\n",
    "             \"pred_dir_test\": os.path.join(model_dir, \"test_pred_epoch_\"+str(eval_epoch_7)), \n",
    "             \"pred_dir_g\": os.path.join(model_dir, \"glaucoma_pred_epoch_\"+str(eval_epoch_7)), \n",
    "             \"sampling\": False}\n",
    "\n",
    "dice_seed_7_eval = eval_mean_uncertainty(**eval_dict_7)"
   ]
  },
  {
   "cell_type": "markdown",
   "metadata": {},
   "source": [
    "### seed = 8"
   ]
  },
  {
   "cell_type": "code",
   "execution_count": null,
   "metadata": {
    "scrolled": true
   },
   "outputs": [],
   "source": [
    "training_params_8 = {\"seed\": 8, \n",
    "                   \"training_images\": data_dict[\"training_images\"],\n",
    "                  \"training_gt\": data_dict[\"training_gt\"], \n",
    "                  \"validation_images\": data_dict[\"validation_images\"],\n",
    "                  \"validation_gt\": data_dict[\"validation_gt\"],\n",
    "                  \"epoch_num\": 100,\n",
    "                  \"model_dir\": \"/kvh4/optic_disc/models/dice_ensemble/08_UNet_cup\",\n",
    "                  \"p_dropout\": 0.0}"
   ]
  },
  {
   "cell_type": "code",
   "execution_count": null,
   "metadata": {},
   "outputs": [],
   "source": [
    "model_path = training_params_8[\"model_dir\"]\n",
    "if not os.path.exists(model_path):\n",
    "    os.makedirs(model_path)\n",
    "    \n",
    "with open(os.path.join(model_path, \"training_params.pkl\"), 'wb') as file:\n",
    "      \n",
    "    # A new file will be created\n",
    "    pickle.dump(training_params_8, file)"
   ]
  },
  {
   "cell_type": "code",
   "execution_count": null,
   "metadata": {
    "scrolled": true
   },
   "outputs": [],
   "source": [
    "train_dice(**training_params_8)"
   ]
  },
  {
   "cell_type": "code",
   "execution_count": 209,
   "metadata": {},
   "outputs": [],
   "source": [
    "model_path = training_params_8[\"model_dir\"]\n",
    "\n",
    "train_loss = np.load(os.path.join(model_path, \"epoch_loss.npy\"))\n",
    "val_loss = np.load(os.path.join(model_path, \"val_loss.npy\"))\n",
    "val_metrics = np.load(os.path.join(model_path, \"val_metrics.npy\"))"
   ]
  },
  {
   "cell_type": "code",
   "execution_count": 210,
   "metadata": {},
   "outputs": [
    {
     "data": {
      "text/plain": [
       "<matplotlib.legend.Legend at 0x7f273ce4dc18>"
      ]
     },
     "execution_count": 210,
     "metadata": {},
     "output_type": "execute_result"
    },
    {
     "data": {
      "image/png": "[encoded data removed]",
      "text/plain": [
       "<Figure size 432x288 with 1 Axes>"
      ]
     },
     "metadata": {
      "needs_background": "light"
     },
     "output_type": "display_data"
    }
   ],
   "source": [
    "plt.plot(train_loss, label=\"training\")\n",
    "plt.plot(val_loss, label=\"validation\")\n",
    "plt.plot(val_metrics, label=\"validation Dice\")\n",
    "plt.xlabel(\"epoch\")\n",
    "plt.legend()"
   ]
  },
  {
   "cell_type": "code",
   "execution_count": 213,
   "metadata": {},
   "outputs": [],
   "source": [
    "eval_epoch_8 = 74"
   ]
  },
  {
   "cell_type": "code",
   "execution_count": 214,
   "metadata": {},
   "outputs": [],
   "source": [
    "inference_parameters_training_8 = {\"model_dir\": training_params_8[\"model_dir\"], \n",
    "                         \"model_epoch\": eval_epoch_8,\n",
    "                         \"test_images\": data_dict[\"training_images\"],\n",
    "                         \"test_gt\": data_dict[\"training_gt\"], \n",
    "                         \"save_dir\": os.path.join(training_params_8[\"model_dir\"], \\\n",
    "                                                  \"training_pred_epoch_\"+str(eval_epoch_8))}"
   ]
  },
  {
   "cell_type": "code",
   "execution_count": 215,
   "metadata": {},
   "outputs": [
    {
     "name": "stdout",
     "output_type": "stream",
     "text": [
      "finished inference\n"
     ]
    }
   ],
   "source": [
    "run_inference(**inference_parameters_training_8)"
   ]
  },
  {
   "cell_type": "code",
   "execution_count": 216,
   "metadata": {},
   "outputs": [],
   "source": [
    "inference_parameters_test_8 = {\"model_dir\": training_params_8[\"model_dir\"], \n",
    "                         \"model_epoch\": eval_epoch_8,\n",
    "                         \"test_images\": data_dict[\"test_images\"],\n",
    "                         \"test_gt\": data_dict[\"test_gt\"], \n",
    "                         \"save_dir\": os.path.join(training_params_8[\"model_dir\"], \\\n",
    "                                                  \"test_pred_epoch_\"+str(eval_epoch_8))}"
   ]
  },
  {
   "cell_type": "code",
   "execution_count": 217,
   "metadata": {},
   "outputs": [
    {
     "name": "stdout",
     "output_type": "stream",
     "text": [
      "finished inference\n"
     ]
    }
   ],
   "source": [
    "run_inference(**inference_parameters_test_8)"
   ]
  },
  {
   "cell_type": "code",
   "execution_count": 218,
   "metadata": {},
   "outputs": [],
   "source": [
    "inference_parameters_glaucoma_8 = {\"model_dir\": training_params_8[\"model_dir\"], \n",
    "                         \"model_epoch\": eval_epoch_8,\n",
    "                         \"test_images\": glaucoma_images,\n",
    "                         \"test_gt\": glaucoma_gt, \n",
    "                         \"save_dir\": os.path.join(training_params_8[\"model_dir\"], \\\n",
    "                                                  \"glaucoma_pred_epoch_\"+str(eval_epoch_8))}"
   ]
  },
  {
   "cell_type": "code",
   "execution_count": 219,
   "metadata": {},
   "outputs": [
    {
     "name": "stdout",
     "output_type": "stream",
     "text": [
      "finished inference\n"
     ]
    }
   ],
   "source": [
    "run_inference(**inference_parameters_glaucoma_8)"
   ]
  },
  {
   "cell_type": "code",
   "execution_count": 220,
   "metadata": {},
   "outputs": [
    {
     "data": {
      "image/png": "[encoded data removed]",
      "text/plain": [
       "<Figure size 432x288 with 1 Axes>"
      ]
     },
     "metadata": {
      "needs_background": "light"
     },
     "output_type": "display_data"
    }
   ],
   "source": [
    "model_dir = training_params_8[\"model_dir\"]\n",
    "eval_dict_8 = {\"gt_dir_ng\": gt_dir_ng,\n",
    "             \"gt_dir_g\": gt_dir_g, \n",
    "             \"pred_dir_training\": os.path.join(model_dir, \"training_pred_epoch_\"+str(eval_epoch_8)),\n",
    "             \"pred_dir_test\": os.path.join(model_dir, \"test_pred_epoch_\"+str(eval_epoch_8)), \n",
    "             \"pred_dir_g\": os.path.join(model_dir, \"glaucoma_pred_epoch_\"+str(eval_epoch_8)), \n",
    "             \"sampling\": False}\n",
    "\n",
    "dice_seed_8_eval = eval_mean_uncertainty(**eval_dict_8)"
   ]
  },
  {
   "cell_type": "markdown",
   "metadata": {},
   "source": [
    "### seed = 9"
   ]
  },
  {
   "cell_type": "code",
   "execution_count": null,
   "metadata": {
    "scrolled": true
   },
   "outputs": [],
   "source": [
    "training_params_9 = {\"seed\": 9, \n",
    "                   \"training_images\": data_dict[\"training_images\"],\n",
    "                  \"training_gt\": data_dict[\"training_gt\"], \n",
    "                  \"validation_images\": data_dict[\"validation_images\"],\n",
    "                  \"validation_gt\": data_dict[\"validation_gt\"],\n",
    "                  \"epoch_num\": 100,\n",
    "                  \"model_dir\": \"/kvh4/optic_disc/models/dice_ensemble/09_UNet_cup\",\n",
    "                  \"p_dropout\": 0.0}"
   ]
  },
  {
   "cell_type": "code",
   "execution_count": null,
   "metadata": {},
   "outputs": [],
   "source": [
    "model_path = training_params_9[\"model_dir\"]\n",
    "if not os.path.exists(model_path):\n",
    "    os.makedirs(model_path)\n",
    "    \n",
    "with open(os.path.join(model_path, \"training_params.pkl\"), 'wb') as file:\n",
    "      \n",
    "    # A new file will be created\n",
    "    pickle.dump(training_params_9, file)"
   ]
  },
  {
   "cell_type": "code",
   "execution_count": null,
   "metadata": {
    "scrolled": true
   },
   "outputs": [],
   "source": [
    "train_dice(**training_params_9)"
   ]
  },
  {
   "cell_type": "code",
   "execution_count": 221,
   "metadata": {},
   "outputs": [],
   "source": [
    "model_path = training_params_9[\"model_dir\"]\n",
    "\n",
    "train_loss = np.load(os.path.join(model_path, \"epoch_loss.npy\"))\n",
    "val_loss = np.load(os.path.join(model_path, \"val_loss.npy\"))\n",
    "val_metrics = np.load(os.path.join(model_path, \"val_metrics.npy\"))"
   ]
  },
  {
   "cell_type": "code",
   "execution_count": 222,
   "metadata": {},
   "outputs": [
    {
     "data": {
      "text/plain": [
       "<matplotlib.legend.Legend at 0x7f273cd3cf60>"
      ]
     },
     "execution_count": 222,
     "metadata": {},
     "output_type": "execute_result"
    },
    {
     "data": {
      "image/png": "[encoded data removed]",
      "text/plain": [
       "<Figure size 432x288 with 1 Axes>"
      ]
     },
     "metadata": {
      "needs_background": "light"
     },
     "output_type": "display_data"
    }
   ],
   "source": [
    "plt.plot(train_loss, label=\"training\")\n",
    "plt.plot(val_loss, label=\"validation\")\n",
    "plt.plot(val_metrics, label=\"validation Dice\")\n",
    "plt.xlabel(\"epoch\")\n",
    "plt.legend()"
   ]
  },
  {
   "cell_type": "code",
   "execution_count": 224,
   "metadata": {},
   "outputs": [],
   "source": [
    "eval_epoch_9 = 73"
   ]
  },
  {
   "cell_type": "code",
   "execution_count": 225,
   "metadata": {},
   "outputs": [],
   "source": [
    "inference_parameters_training_9 = {\"model_dir\": training_params_9[\"model_dir\"], \n",
    "                         \"model_epoch\": eval_epoch_9,\n",
    "                         \"test_images\": data_dict[\"training_images\"],\n",
    "                         \"test_gt\": data_dict[\"training_gt\"], \n",
    "                         \"save_dir\": os.path.join(training_params_9[\"model_dir\"], \\\n",
    "                                                  \"training_pred_epoch_\"+str(eval_epoch_9))}"
   ]
  },
  {
   "cell_type": "code",
   "execution_count": 226,
   "metadata": {},
   "outputs": [
    {
     "name": "stdout",
     "output_type": "stream",
     "text": [
      "finished inference\n"
     ]
    }
   ],
   "source": [
    "run_inference(**inference_parameters_training_9)"
   ]
  },
  {
   "cell_type": "code",
   "execution_count": 227,
   "metadata": {},
   "outputs": [],
   "source": [
    "inference_parameters_test_9 = {\"model_dir\": training_params_9[\"model_dir\"], \n",
    "                         \"model_epoch\": eval_epoch_9,\n",
    "                         \"test_images\": data_dict[\"test_images\"],\n",
    "                         \"test_gt\": data_dict[\"test_gt\"], \n",
    "                         \"save_dir\": os.path.join(training_params_9[\"model_dir\"], \\\n",
    "                                                  \"test_pred_epoch_\"+str(eval_epoch_9))}"
   ]
  },
  {
   "cell_type": "code",
   "execution_count": 228,
   "metadata": {},
   "outputs": [
    {
     "name": "stdout",
     "output_type": "stream",
     "text": [
      "finished inference\n"
     ]
    }
   ],
   "source": [
    "run_inference(**inference_parameters_test_9)"
   ]
  },
  {
   "cell_type": "code",
   "execution_count": 229,
   "metadata": {},
   "outputs": [],
   "source": [
    "inference_parameters_glaucoma_9 = {\"model_dir\": training_params_9[\"model_dir\"], \n",
    "                         \"model_epoch\": eval_epoch_9,\n",
    "                         \"test_images\": glaucoma_images,\n",
    "                         \"test_gt\": glaucoma_gt, \n",
    "                         \"save_dir\": os.path.join(training_params_9[\"model_dir\"], \\\n",
    "                                                  \"glaucoma_pred_epoch_\"+str(eval_epoch_9))}"
   ]
  },
  {
   "cell_type": "code",
   "execution_count": 230,
   "metadata": {},
   "outputs": [
    {
     "name": "stdout",
     "output_type": "stream",
     "text": [
      "finished inference\n"
     ]
    }
   ],
   "source": [
    "run_inference(**inference_parameters_glaucoma_9)"
   ]
  },
  {
   "cell_type": "code",
   "execution_count": 231,
   "metadata": {},
   "outputs": [
    {
     "data": {
      "image/png": "[encoded data removed]",
      "text/plain": [
       "<Figure size 432x288 with 1 Axes>"
      ]
     },
     "metadata": {
      "needs_background": "light"
     },
     "output_type": "display_data"
    }
   ],
   "source": [
    "model_dir = training_params_9[\"model_dir\"]\n",
    "eval_dict_9 = {\"gt_dir_ng\": gt_dir_ng,\n",
    "             \"gt_dir_g\": gt_dir_g, \n",
    "             \"pred_dir_training\": os.path.join(model_dir, \"training_pred_epoch_\"+str(eval_epoch_9)),\n",
    "             \"pred_dir_test\": os.path.join(model_dir, \"test_pred_epoch_\"+str(eval_epoch_9)), \n",
    "             \"pred_dir_g\": os.path.join(model_dir, \"glaucoma_pred_epoch_\"+str(eval_epoch_9)), \n",
    "             \"sampling\": False}\n",
    "\n",
    "dice_seed_9_eval = eval_mean_uncertainty(**eval_dict_9)"
   ]
  },
  {
   "cell_type": "markdown",
   "metadata": {},
   "source": [
    "## ensemble inference "
   ]
  },
  {
   "cell_type": "code",
   "execution_count": 16,
   "metadata": {},
   "outputs": [
    {
     "name": "stdout",
     "output_type": "stream",
     "text": [
      "finished inference\n"
     ]
    }
   ],
   "source": [
    "ensemble_inference_params_test = {\"ensemble_dir\": \"/kvh4/optic_disc/models/dice_ensemble\",\n",
    "                            \"model_name_list\": [\"00_UNet_cup/epoch_80.pth\", \"01_UNet_cup/epoch_70.pth\",\n",
    "                                               \"02_UNet_cup/epoch_75.pth\", \"03_UNet_cup/epoch_87.pth\",\n",
    "                                               \"04_UNet_cup/epoch_91.pth\", \"05_UNet_cup/epoch_89.pth\",\n",
    "                                               \"06_UNet_cup/epoch_77.pth\", \"07_UNet_cup/epoch_77.pth\",\n",
    "                                               \"08_UNet_cup/epoch_74.pth\", \"09_UNet_cup/epoch_73.pth\"],\n",
    "                            \"test_images\": data_dict[\"test_images\"],\n",
    "                            \"test_gt\": data_dict[\"test_gt\"],\n",
    "                            \"save_dir\": \"/kvh4/optic_disc/models/dice_ensemble/test_pred\"}\n",
    "\n",
    "run_ensemble_inference(**ensemble_inference_params_test)"
   ]
  },
  {
   "cell_type": "code",
   "execution_count": 13,
   "metadata": {},
   "outputs": [
    {
     "name": "stdout",
     "output_type": "stream",
     "text": [
      "finished inference\n"
     ]
    }
   ],
   "source": [
    "ensemble_inference_params_training = {\"ensemble_dir\": \"/kvh4/optic_disc/models/dice_ensemble\",\n",
    "                            \"model_name_list\": [\"00_UNet_cup/epoch_80.pth\", \"01_UNet_cup/epoch_70.pth\",\n",
    "                                               \"02_UNet_cup/epoch_75.pth\", \"03_UNet_cup/epoch_87.pth\",\n",
    "                                               \"04_UNet_cup/epoch_91.pth\", \"05_UNet_cup/epoch_89.pth\",\n",
    "                                               \"06_UNet_cup/epoch_77.pth\", \"07_UNet_cup/epoch_77.pth\",\n",
    "                                               \"08_UNet_cup/epoch_74.pth\", \"09_UNet_cup/epoch_73.pth\"],\n",
    "                            \"test_images\": data_dict[\"training_images\"],\n",
    "                            \"test_gt\": data_dict[\"training_gt\"],\n",
    "                            \"save_dir\": \"/kvh4/optic_disc/models/dice_ensemble/training_pred\"}\n",
    "\n",
    "run_ensemble_inference(**ensemble_inference_params_training)"
   ]
  },
  {
   "cell_type": "code",
   "execution_count": 15,
   "metadata": {},
   "outputs": [
    {
     "name": "stdout",
     "output_type": "stream",
     "text": [
      "finished inference\n"
     ]
    }
   ],
   "source": [
    "ensemble_inference_params_glaucoma = {\"ensemble_dir\": \"/kvh4/optic_disc/models/dice_ensemble\",\n",
    "                            \"model_name_list\": [\"00_UNet_cup/epoch_80.pth\", \"01_UNet_cup/epoch_70.pth\",\n",
    "                                               \"02_UNet_cup/epoch_75.pth\", \"03_UNet_cup/epoch_87.pth\",\n",
    "                                               \"04_UNet_cup/epoch_91.pth\", \"05_UNet_cup/epoch_89.pth\",\n",
    "                                               \"06_UNet_cup/epoch_77.pth\", \"07_UNet_cup/epoch_77.pth\",\n",
    "                                               \"08_UNet_cup/epoch_74.pth\", \"09_UNet_cup/epoch_73.pth\"],\n",
    "                            \"test_images\": glaucoma_images,\n",
    "                            \"test_gt\": glaucoma_gt,\n",
    "                            \"save_dir\": \"/kvh4/optic_disc/models/dice_ensemble/glaucoma_pred\"}\n",
    "\n",
    "run_ensemble_inference(**ensemble_inference_params_glaucoma)"
   ]
  },
  {
   "cell_type": "code",
   "execution_count": 20,
   "metadata": {},
   "outputs": [
    {
     "data": {
      "image/png": "[encoded data removed]",
      "text/plain": [
       "<Figure size 432x288 with 1 Axes>"
      ]
     },
     "metadata": {
      "needs_background": "light"
     },
     "output_type": "display_data"
    }
   ],
   "source": [
    "eval_dict_ensemble = {\"gt_dir_ng\": gt_dir_ng, \n",
    "                      \"gt_dir_g\": gt_dir_g,  \n",
    "                      \"pred_dir_training\": \"/kvh4/optic_disc/models/dice_ensemble/training_pred\",\n",
    "                      \"pred_dir_test\": \"/kvh4/optic_disc/models/dice_ensemble/test_pred\", \n",
    "                      \"pred_dir_g\": \"/kvh4/optic_disc/models/dice_ensemble/glaucoma_pred\", \n",
    "                      \"sampling\":True\n",
    "                     }\n",
    "dice_ensemble_eval = eval_mean_uncertainty(**eval_dict_ensemble)"
   ]
  },
  {
   "cell_type": "code",
   "execution_count": 7,
   "metadata": {},
   "outputs": [
    {
     "data": {
      "image/png": "[encoded data removed]",
      "text/plain": [
       "<Figure size 432x288 with 1 Axes>"
      ]
     },
     "metadata": {
      "needs_background": "light"
     },
     "output_type": "display_data"
    }
   ],
   "source": [
    "eval_dict_ensemble = {\"gt_dir_ng\": gt_dir_ng, \n",
    "                      \"gt_dir_g\": gt_dir_g,  \n",
    "                      \"pred_dir_training\": \"/kvh4/optic_disc/models/dice_ensemble/training_pred\",\n",
    "                      \"pred_dir_test\": \"/kvh4/optic_disc/models/dice_ensemble/test_pred\", \n",
    "                      \"pred_dir_g\": \"/kvh4/optic_disc/models/dice_ensemble/glaucoma_pred\",\n",
    "                     }\n",
    "dice_ensemble_eval = eval_mean_pw_dice(**eval_dict_ensemble)"
   ]
  },
  {
   "cell_type": "code",
   "execution_count": null,
   "metadata": {},
   "outputs": [],
   "source": []
  }
 ],
 "metadata": {
  "kernelspec": {
   "display_name": "Python 3",
   "language": "python",
   "name": "python3"
  },
  "language_info": {
   "codemirror_mode": {
    "name": "ipython",
    "version": 3
   },
   "file_extension": ".py",
   "mimetype": "text/x-python",
   "name": "python",
   "nbconvert_exporter": "python",
   "pygments_lexer": "ipython3",
   "version": "3.6.9"
  }
 },
 "nbformat": 4,
 "nbformat_minor": 4
}
